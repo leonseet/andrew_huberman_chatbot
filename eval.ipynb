{
 "cells": [
  {
   "cell_type": "code",
   "execution_count": 1,
   "metadata": {},
   "outputs": [],
   "source": [
    "import nest_asyncio\n",
    "import pandas as pd\n",
    "from libs.index import initialize_chroma_vector_store\n",
    "from libs import configs\n",
    "from llama_index.retrievers import VectorIndexRetriever\n",
    "from llama_index import (\n",
    "    VectorStoreIndex,\n",
    "    ServiceContext,\n",
    "    Response,\n",
    "    get_response_synthesizer\n",
    ")\n",
    "from llama_index.llms import OpenAI\n",
    "from llama_index.evaluation import FaithfulnessEvaluator, RelevancyEvaluator, CorrectnessEvaluator, SemanticSimilarityEvaluator\n",
    "from llama_index.embeddings import HuggingFaceEmbedding, SimilarityMode\n",
    "from llama_index.evaluation import BatchEvalRunner"
   ]
  },
  {
   "cell_type": "code",
   "execution_count": 2,
   "metadata": {},
   "outputs": [],
   "source": [
    "def display_eval_df(response: Response, eval_result: str) -> None:\n",
    "    if response.source_nodes == []:\n",
    "        print(\"no response!\")\n",
    "        return\n",
    "    eval_df = pd.DataFrame(\n",
    "        {\n",
    "            \"Response\": str(response),\n",
    "            \"Source\": response.source_nodes[0].node.text[:1000] + \"...\",\n",
    "            \"Evaluation Result\": \"Pass\" if eval_result.passing else \"Fail\",\n",
    "        },\n",
    "        index=[0],\n",
    "    )\n",
    "    eval_df = eval_df.style.set_properties(\n",
    "        **{\n",
    "            \"inline-size\": \"600px\",\n",
    "            \"overflow-wrap\": \"break-word\",\n",
    "        },\n",
    "        subset=[\"Response\", \"Source\"]\n",
    "    )\n",
    "    display(eval_df)"
   ]
  },
  {
   "cell_type": "code",
   "execution_count": 3,
   "metadata": {},
   "outputs": [
    {
     "name": "stderr",
     "output_type": "stream",
     "text": [
      "/Users/leonseet/Desktop/home/projects/andrew_huberman_chatbot/.venv/lib/python3.9/site-packages/tqdm/auto.py:21: TqdmWarning: IProgress not found. Please update jupyter and ipywidgets. See https://ipywidgets.readthedocs.io/en/stable/user_install.html\n",
      "  from .autonotebook import tqdm as notebook_tqdm\n",
      "huggingface/tokenizers: The current process just got forked, after parallelism has already been used. Disabling parallelism to avoid deadlocks...\n",
      "To disable this warning, you can either:\n",
      "\t- Avoid using `tokenizers` before the fork if possible\n",
      "\t- Explicitly set the environment variable TOKENIZERS_PARALLELISM=(true | false)\n"
     ]
    }
   ],
   "source": [
    "QUESTION = \"How does the hormone ghrelin affect hunger and appetite regulation?\"\n",
    "\n",
    "nest_asyncio.apply()\n",
    "\n",
    "gpt_3_5_turbo = OpenAI(temperature=0, model=\"gpt-3.5-turbo\")\n",
    "embed_model = HuggingFaceEmbedding(model_name=configs.EMB_MODEL)\n",
    "service_context = ServiceContext.from_defaults(llm=gpt_3_5_turbo, embed_model=embed_model)\n",
    "\n",
    "vector_store = initialize_chroma_vector_store()\n",
    "\n",
    "index = VectorStoreIndex.from_vector_store(vector_store=vector_store, service_context=service_context)\n",
    "\n",
    "# configure response synthesizer\n",
    "response_synthesizer = get_response_synthesizer(\n",
    "    service_context=service_context, verbose=True\n",
    ")\n",
    "\n",
    "# configure retriever\n",
    "retriever = VectorIndexRetriever(\n",
    "    index=index,\n",
    "    similarity_top_k=3,\n",
    "    verbose=False,\n",
    ")\n",
    "\n",
    "nodes = retriever.retrieve(QUESTION)\n",
    "for node in nodes:\n",
    "    node.node.excluded_llm_metadata_keys = [\n",
    "        \"episode_description\",\n",
    "        \"timestamp_start\",\n",
    "        \"timestamp_end\",\n",
    "        \"timestamp_sentencepiece_token_length\",\n",
    "    ]\n",
    "    \n",
    "response = response_synthesizer.synthesize(query=QUESTION, nodes=nodes)"
   ]
  },
  {
   "cell_type": "code",
   "execution_count": 4,
   "metadata": {},
   "outputs": [],
   "source": [
    "faithfulness = FaithfulnessEvaluator(service_context=service_context)\n",
    "relevancy = RelevancyEvaluator(service_context=service_context)\n",
    "correctness = CorrectnessEvaluator(service_context=service_context)\n",
    "semanticsimilarity = SemanticSimilarityEvaluator(\n",
    "    service_context=service_context,\n",
    "    similarity_mode=SimilarityMode.DEFAULT,\n",
    "    similarity_threshold=0.6,\n",
    ")\n",
    "\n",
    "runner = BatchEvalRunner(\n",
    "    {\"faithfulness\": faithfulness, \"relevancy\": relevancy, \"correctness\": correctness, \"semanticsimilarity\": semanticsimilarity},\n",
    "    workers=8,\n",
    "    show_progress=True,\n",
    ")"
   ]
  },
  {
   "cell_type": "code",
   "execution_count": 7,
   "metadata": {},
   "outputs": [
    {
     "name": "stderr",
     "output_type": "stream",
     "text": [
      "100%|██████████| 4/4 [00:04<00:00,  1.14s/it]"
     ]
    },
    {
     "name": "stdout",
     "output_type": "stream",
     "text": [
      "True\n",
      "True\n",
      "True\n",
      "False\n",
      "query='How does the hormone ghrelin affect hunger and appetite regulation?' contexts=None response='The hormone ghrelin increases in our body depending on how long it has been since we last ate. When ghrelin levels are higher, it tends to make us feel hungry. Ghrelin interacts with specific neurons in the brain, such as the arcuate nucleus of the hypothalamus, to stimulate hunger. When we eat, ghrelin levels typically decrease, which helps to reduce our appetite.' passing=True feedback='YES' score=1.0 pairwise_source=None\n",
      "query=None contexts=[\"to respond to those events. So what happens when we eat? Well, I've done an entire episode on metabolism. So if you're interested in the full cascade of hormonal and neural events that occurs when we eat, please check out that episode. But for the sake of today's discussion, let's just take a, what I call top contour view of the hormonal response to ingesting food. Now, anytime we eat, that is the consequence of a number of things that happened before we ate. There's a own in our brain body called Ghrelin, spelled G-H-R-E-L-I-N. Ghrelin is a hormone that increases depending on how long it's been since we ate last. So the longer it's been since we had a meal, Ghrelin levels are going to be higher and higher and higher, and it essentially makes us hungry by interacting with particular neurons in an area of the brain called the arcuate nucleus of the hypothalamus and some other areas as well, like the lateral hypothalamus. You don't need to know the names of those brain areas, but if you'd like to know them, there they are Ghrelin increases, it tends to make us hungry. And then when we eat, typically what happens is Ghrelin levels go down. So it's a very logical system. Now, when we eat, assuming that we eat carbohydrates, but even if we just eat some protein and some fats, we will experience a slight, or in some cases, a large rise in blood glucose, blood glucose is simply blood sugar. And the body and brain, we should say in particular, the nervous system doesn't function well if blood sugar is too high or too low. So as a consequence, we have another hormone, which is released from the pancreas, which is called insulin, which helps regulate the amount of glucose in the bloodstream. So even if you were to ingest an entire cup, an eight\", \"amount of glucose in the bloodstream. So even if you were to ingest an entire cup, an eight ounce cup of pure table sugar, which would send your blood glucose very, very high, assuming that you have a normal insulin response, that you're not diabetic, that insulin response would help clamp that blood glucose level so that it did not cause damage to your brain and body. Because if blood sugar goes too high, it's actually toxic to neurons and other cells of your body, it can kill them off. And neurons of the central nervous system, meaning the brain and spinal cord, once they are dead, they do not come back. So your biological systems understand this at a biological level that is, and prevent that death of cells due to high blood sugar, by keeping insulin around, in order to clamp blood glucose. Diabetics, we call them type one diabetics, who don't make insulin, have to take insulin when they eat in particular, when they eat foods that raise their blood sugar, specifically to avoid that neurotoxicity and the other deleterious effects of high blood sugar. So Ghrelin is a hormone that goes up the longer it's been since we've eaten, it tends to stimulate hunger. When we eat, Ghrelin is suppressed. Blood glucose typically goes up, especially when we eat a carbohydrate containing meal. When blood glucose goes up, it's regulated in the body, meaning its peaks and its valleys are more or less smoothed out, and that glucose is sequestered, it's taken away where it needs to be taken away. And in certain locations, it's delivered to cells so that those cells can use the glucose. Now, one of the chief organs for glucose utilization is the brain, neurons are tremendously metabolically active. And their preferred mode of metabolism is glucose metabolism. In other words, neurons basically run on sugar, which is not to say that you should eat a lot of sugar. As\", \"whose main job is to suppress Ghrelin. As you recall, Ghrelin is a hormone that increases the longer it's been since we've eaten, and Ghrelin makes us hungry by stimulating particular neurons in our hypothalamus, it actually makes us really want to eat. And in particular, really makes us want to eat sugary and fatty foods. Fructose reduces the activity of the hormones that reduce Ghrelin . And so the net consequence of that is that fructose increases Ghrelin. So, although I and I think pretty much everyone out there, say for a few individuals, agrees that calories in and calories out is the fundamental principle of weight loss, weight maintenance or weight gain. Ingesting fructose shifts our hormone system, and as a consequence, our neural pathways within our brain, the hypothalamus, to be hungrier regardless of how many calories we've eaten. Now I also want to be absolutely clear, this does not mean that eating an apple or eating a melon or eating a couple of apricots or something is going to make you hyperphagic, meaning it's going to make you just want to eat, eat, and eat, that's simply not the case. But if you compare fructose and you compare glucose, not only are they metabolized differently in the brain and body, but in addition to that, fructose has this impact of reducing the hormones that reduce hunger hormones in neural circuits. And so fructose does have this kind of twist in its phenotype, right? Or I guess if fructose had a dating profile, this would be a kind of a red flag in that profile, because fructose itself, while it's actually a pretty good fuel source in many ways, and it's often packaged in things like fruits, which bring along fiber and vitamins and minerals, that I think for many of us are things that we should be eating more of and ingesting more of, it can suppress the pathways that suppress\"] response='The hormone ghrelin increases in our body depending on how long it has been since we last ate. When ghrelin levels are higher, it tends to make us feel hungry. Ghrelin interacts with specific neurons in the brain, such as the arcuate nucleus of the hypothalamus, to stimulate hunger. When we eat, ghrelin levels typically decrease, which helps to reduce our appetite.' passing=True feedback='YES' score=1.0 pairwise_source=None\n",
      "query='How does the hormone ghrelin affect hunger and appetite regulation?' contexts=None response='The hormone ghrelin increases in our body depending on how long it has been since we last ate. When ghrelin levels are higher, it tends to make us feel hungry. Ghrelin interacts with specific neurons in the brain, such as the arcuate nucleus of the hypothalamus, to stimulate hunger. When we eat, ghrelin levels typically decrease, which helps to reduce our appetite.' passing=True feedback=\"The generated answer provides a clear and accurate explanation of how the hormone ghrelin affects hunger and appetite regulation. It mentions that ghrelin increases when we haven't eaten for a while, making us feel hungry, and that it interacts with specific neurons in the brain to stimulate hunger. It also states that when we eat, ghrelin levels decrease, reducing our appetite. The only minor issue is that it doesn't explicitly mention that ghrelin is a hormone, but this does not significantly impact the overall correctness of the answer.\" score=4.5 pairwise_source=None\n",
      "query=None contexts=None response=None passing=False feedback='Similarity score: 0.44304632389205795' score=0.44304632389205795 pairwise_source=None\n"
     ]
    },
    {
     "name": "stderr",
     "output_type": "stream",
     "text": [
      "\n"
     ]
    }
   ],
   "source": [
    "eval_results = await runner.aevaluate_responses(responses=[response], queries=[QUESTION], reference=[\"test\"])\n",
    "\n",
    "print(eval_results[\"relevancy\"][0].passing)\n",
    "print(eval_results[\"faithfulness\"][0].passing)\n",
    "print(eval_results[\"correctness\"][0].passing)\n",
    "print(eval_results[\"semanticsimilarity\"][0].passing)\n",
    "print(eval_results[\"relevancy\"][0])\n",
    "print(eval_results[\"faithfulness\"][0])\n",
    "print(eval_results[\"correctness\"][0])\n",
    "print(eval_results[\"semanticsimilarity\"][0])"
   ]
  }
 ],
 "metadata": {
  "kernelspec": {
   "display_name": ".venv",
   "language": "python",
   "name": "python3"
  },
  "language_info": {
   "codemirror_mode": {
    "name": "ipython",
    "version": 3
   },
   "file_extension": ".py",
   "mimetype": "text/x-python",
   "name": "python",
   "nbconvert_exporter": "python",
   "pygments_lexer": "ipython3",
   "version": "3.9.6"
  }
 },
 "nbformat": 4,
 "nbformat_minor": 2
}
