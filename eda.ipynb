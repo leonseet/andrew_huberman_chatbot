{
 "cells": [
  {
   "cell_type": "code",
   "execution_count": 1,
   "metadata": {},
   "outputs": [
    {
     "name": "stderr",
     "output_type": "stream",
     "text": [
      "/Users/leonseet/Desktop/home/projects/andrew_huberman_chatbot/.venv/lib/python3.9/site-packages/tqdm/auto.py:21: TqdmWarning: IProgress not found. Please update jupyter and ipywidgets. See https://ipywidgets.readthedocs.io/en/stable/user_install.html\n",
      "  from .autonotebook import tqdm as notebook_tqdm\n",
      "None of PyTorch, TensorFlow >= 2.0, or Flax have been found. Models won't be available and only tokenizers, configuration and file/data utilities can be used.\n"
     ]
    },
    {
     "name": "stdout",
     "output_type": "stream",
     "text": [
      "Token will not been saved to git credential helper. Pass `add_to_git_credential=True` if you want to set the git credential as well.\n",
      "Token is valid (permission: write).\n",
      "Your token has been saved to /Users/leonseet/.cache/huggingface/token\n",
      "Login successful\n"
     ]
    }
   ],
   "source": [
    "import json\n",
    "from transformers import LlamaTokenizerFast\n",
    "import huggingface_hub\n",
    "import os\n",
    "from collections import defaultdict\n",
    "import plotly.express as px\n",
    "from dateutil.parser import parse\n",
    "import pandas as pd\n",
    "\n",
    "huggingface_hub.login(token=os.getenv(\"HUGGINGFACE_TOKEN\"), new_session=False)"
   ]
  },
  {
   "cell_type": "code",
   "execution_count": 2,
   "metadata": {},
   "outputs": [],
   "source": [
    "INPUT_FILE_PATH = \"data/andrew_huberman_episodes_processed.json\"\n",
    "CHAT_MODEL = \"meta-llama/Llama-2-7b-chat-hf\""
   ]
  },
  {
   "cell_type": "code",
   "execution_count": 3,
   "metadata": {},
   "outputs": [
    {
     "name": "stdout",
     "output_type": "stream",
     "text": [
      "{'url': 'https://www.hubermanlab.com/episode/adderall-stimulants-and-modafinil-for-adhd-short-and-long-term-effects', 'created': 'May 28, 2023', 'title': 'Adderall, Stimulants & Modafinil for ADHD: Short- & Long-Term Effects', 'topics': ['ADHD, Drive & Motivation', 'Neurobiology & Physiology'], 'guest': None, 'youtube': 'https://youtu.be/sxgCC4H1dl8', 'transcripts': [{'start': 0.0, 'end': 201.0, 'desc': 'Stimulants & Attention-Deficient/Hyperactivity Disorder (ADHD)', 'transcript': \"welcome to the huberman Lab podcast where we discuss science and science-based tools for everyday life I'm Andrew huberman and I'm a professor of neurobiology and Ophthalmology at Stanford school of medicine today we're discussing stimulants in particular stimulants for the treatment of ADHD or attention deficit hyperactivity disorder as many of you know there is tremendous interest in drugs like Adderall Ritalin Vyvanse and other stimulants as well as non-stimulant prescription drugs that have been shown to improve the symptoms of ADHD such as modafinil or modafinil and guanfacine today I'm going to discuss all of these compounds in the context of how they work to improve the symptoms of ADHD I'm going to address common questions about these compounds such as are they just speed are they similar to meth or Methamphetamine I'll talk about their addictive potential as well as their potential to cause psychotic symptoms both in the short and long term and of course I will talk about the scientific literature surrounding the most frequently Asked question about these compounds which is what are the long-term consequences of taking any of them in childhood or in adulthood now today's discussion centers around the use of these compounds both for childhood and for adult ADHD but of course I'd be remiss if I didn't acknowledge that there are a tremendous number of people that use these prescription drugs without a prescription in order to improve their ability to focus and indeed also use them recreationally in fact some surveys reveal that as high as 80 percent of college-age young adults have used one or several of prescription drugs such as adderall Ritalin Vyvanse or similar at some point and are doing so without a prescription so they are either obtaining those drugs from those that do have prescriptions for them for ADHD or they are obtaining them through Black Market sources which of course carries an additional and very serious risk related to the so-called fentanyl crisis that is as high as 75 percent of black market drugs nowadays of various kinds but certainly including the sorts of drugs we're going to talk about today are contaminated with fentanyl and therefore are very deadly so today I'm going to describe what these various drugs really are how they work at the level of neurons and brain networks and how they change those brain networks in ways that really can allow people with ADHD to be able to focus better I will answer the common question which is why is it that giving children speed because indeed several not all but several of the compounds I'm going to discuss are speed they are amphetamine why would that cause a reduction in hyperactivity if speed is a stimulant so I'll answer that question for you and I will also answer questions that are commonly asked such as how these drugs impact things like sleep hormone Health reproductive Health as well as what is their impact on height indeed it was one prominent hypothesis that these ADHD meds could actually restrict the height of children I'll tell you whether or not that's actually true or not and I'll discuss the data surrounding whether or not these drugs predispose people to becoming addicts to other substances even if people cease or continue taking the stimulants that can help them in the clinical sense for a ADHD before we\", 'sentencepiece_token_length': 761}, {'start': 395.0, 'end': 442.0, 'desc': 'The Brain-Body Contract', 'transcript': \"pleased to announce that I will be hosting two live events in September of 2023. the first live event will take place in Toronto on September 12th the second live event will take place in Chicago on September 28th both Live Events will include a lecture and a question and answer period and are entitled The Brain body contract during which I will discuss tools and science related to mental health physical health and performance I should mention that a lot of that content will have absolutely no overlap with content covered previously on the huberman Lab podcast or elsewhere if you're interested in attending either or both of these events please go to hubermanlab.com tour and enter the code huberman to get early access to tickets once again that's hubermanlab.com tour and use the code huberman to access tickets I hope to see you there let's talk about treatments\", 'sentencepiece_token_length': 186}, {'start': 442.0, 'end': 987.0, 'desc': 'Attention, Prefrontal Cortex & ADHD', 'transcript': \"you there let's talk about treatments for ADHD and why stimulant treatments in particular can be so effective first of all it's long been known that there are specific brain networks involved in what we call attention now attention is not one thing actually it involves several different cognitive operations including the suppression of noise that is turning down the background chatter in our heads and turning down our attending to things outside us like noises or visual cues that are not relevant to what we want to do and it also involves ramping up or attending we're focusing on particular things that are happening either in our immediate environment or in our head or both so if that all sounds rather complex indeed it is it involves several different networks operating in parallel but what we know for sure based on a lot of clinical and scientific laboratory data is that the so-called prefrontal cortex the region of neural real estate in your brain just behind your forehead is critically important for orchestrating which neural circuits are going to be more or less active at a given moment in order to bring about what we call Focus or attention or task switching or our ability indeed to multitask because we can actually multitask to some extent in fact if you were to look at somebody and focus on perhaps the expression on their face you could do that while also attending to a conversation that's happening nearby it's energetically demanding it's hard to do but we can do that that's actually referred to as covert attention you're covertly paying attention to something else and then you can switch that attention back to just one thing or one small collection of things the point being that attention is a powerful resource it's what allows us to navigate through life with efficiency and to be adaptive in our behaviors it's what allows us to learn and to build relationships and have successful School careers and professional careers and so on but it is indeed expensive it takes metabolic resources you know just at rest if you were to think about essentially nothing or whatever just pops into your mind with no dedicated effort toward paying attention to anything your brain would consume about 25 of your daily caloric needs and then when you lump on top of that your need or your attempts to focus on things to pay attention to specific things should come as no surprise as to why that often can make us feel tired as if we've been working really hard and we've been running a quote unquote mental marathon when trying to learn and attend to things it's hard work for the brain and yet we can pay attention because of that very precious real estate just behind our foreheads the prefrontal cortex now in people both children and adults that have ADHD their prefrontal cortex is not necessarily deficient in any specific way except that it is not as good at orchestrating the activity of other brain networks operating in parallel with it what do I mean by that well if we take a step back and say what is the prefrontal cortex really doing the prefrontal cortex has this amazing ability through what's called top-down inhibition to quiet other brain areas so for instance if you are feeling agitated but you need to sit still your ability to sit still even if it takes a bit of work is coordinated by your prefrontal cortex sending inhibitory suppressive electrical signals to the networks of your brain that are trying to generate physical action in addition to that if you are in a conversation that's either a difficult one or a boring one or you are tempted to interrupt and you are actively holding back your desire to walk away or to yawn or to blurt something out it's your prefrontal cortex that is controlling that active suppression so in many ways you can just think of the prefrontal cortex as an Orchestra conductor that is essentially saying shh or not right now be quiet this is not the time to many different brain networks all at once now in addition to that your prefrontal cortex is coordinating with other brain networks that are involved in generating what's called salience or attention to particular signals so the prefrontal cortex in many ways is like a teacher or an Orchestra conductor it can point to in the neurochemical sense that is 0.2 a given brain structure and say you I'd like to hear more from you right now yes you the student in the back speak up and a moment later point to a collection of small students chattering in the back again I'm presenting all this by analogy and say hey hey you guys quiet down right now so and so is going to come up to the front of the room and help us work through this particular math problem so when we hear that the prefrontal cortex exerts what's called executive function what that refers to is the prefrontal cortex's ability to quiet the activity of particular neural circuits and to enhance or increase the salience of other neural circuits that are involved in creating our Spotlight of attention and what we know for sure based on many many brain Imaging studies is that ADHD is not necessarily A deficit in prefrontal cortical function but rather the prefrontal cortex's ability to communicate with other brain areas in the proper ways and so what results in the brain of a person either young or old with ADHD is that a lot of the background chatter becomes very very loud so for instance we have a brain Network called the default mode Network this is a fascinating brain Network this is the brain Network that is active when you just sort of sit in place and don't think about much and then you start having ideas about what you might do next week it tends to be very autobiographical so you might remember an experience from the past you might think about some of your desires some of your dislikes this default mode Network as it's called is also involved in our imagination our in our spooling together of different experiences that we've had it doesn't tend to be the thing that's really focused on anything external in particular all at once the default mode network is always active but it's when we start to attend to something especially things external to us like it you know something written on a page or a conversation or something that we really need to learn something we need to pay attention to that the activity of the default mode network is suppressed somewhat and that suppression occurs not just by accident but because the prefrontal cortex is actively suppressing it in kids and adults with ADHD the default mode network is often still active at a very robust level even while we're trying to attend to things and that's why someone with ADHD will sit down and try and do some focused work and I'll start thinking about something they want or something they dislike their internal state will start to distract them and of course there are other networks in the brain there's actually a what's called a true salience Network there's the dorsal attention Network there are a bunch of different networks and brain areas but again when thinking about ADHD and especially when thinking about how the drugs that we're going to talk about today work to alleviate the symptoms of ADHD and in thinking about why so many people use or even abuse these drugs for sake of learning or recreationally we might say you start to realize that everything centers back to the prefrontal cortex and the prefrontal cortex's ability to actively suppress and actively enhance the activity of these multiple brain networks including default mode networks aliens Network dorsal attention Network Etc so rather than overwhelm you with a bunch of names of brain areas and brain networks today I'd really like our discussion to focus on first what the various drugs that are used to treat ADHD are that is how do they work at the level of neurons second how they create a certain set of conditions that allow their prefrontal cortex to be a better conductor third how that can be leveraged during development to actually teach the prefrontal cortex of a young child to learn to be a better conductor because that's really the Hallmark of the use of these drugs is to try and enhance the activity of particular circuits to create a sort of learning so that the prefrontal cortex is much more efficient at doing its job of conducting and then fourth we're going to talk about the various things that I think most people out there ask about when they hear about drugs like Adderall Vyvanse and Ritalin Etc which is you know are they addictive why are they addictive can one use them briefly or even from time to time and still be okay what if I use them as a child and I don't want to be on them anymore should I put my child on these drugs Etc it is I believe only by understanding the biology of how these drugs work and their potential both to improve brain function but also some of the dangers associated with these drugs that one can really answer those questions for themselves or for their children okay so let's start with a very basic\", 'sentencepiece_token_length': 1938}, {'start': 987.0, 'end': 1289.0, 'desc': 'Stimulants “Sympathomimetics”', 'transcript': \"okay so let's start with a very basic but critical question which is why in the world would amphetamines speed or other stimulants improve the symptoms of ADHD that's so critical to answer because if you think about it the prefrontal cortex needs to coordinate the actions of these other circuits and so just increasing the amount of activity in prefrontal cortex you can imagine would create a state of hyper Focus perhaps but actually that's not the case if you just were to ramp up the activity of prefrontal Cortex what you would find is that somebody would become even less efficient at paying attention to what they wanted to rather they would pay attention to whatever was presented in front of them with laser focus they would lock on to essentially anything and that's not good one of the key things about prefrontal cortex is that it needs to be flexible it needs to be able to pay attention to this then it needs to be able to pay attention to that then it needs to go back to paying attention to the thing it was paying attention to previously and so on and so forth life that is an effective adaptive life a good life consists of self-directing one's attention most all of the time so why would stimulants do that well almost all not all but almost all of the drugs used to treat ADHD fall under the category of stimulants or what are called sympathomimetics sympathomimetic refers to the fact that we naturally have a component of our nervous system called the autonomic nervous system the autonomic nervous system has two major components one is called the sympathetic arm of the autonomic nervous system has nothing to do with sympathy has everything to do with ramping up our level of attention and arousal it is the so-called fight or flight aspect of our nervous system or rather it mediates fight or flight but immediates a bunch of other things too including sexual arousal including excitement and focus about something that we want to learn or somebody that we want to learn more about or remembering a phone number or anything that puts us into a state of alertness and focus the other arm of the autonomic nervous system is the so-called parasympathetic arm of the autonomic nervous system and that's often referred to as the so-called rest and digest component of our nervous system and yes it controls rest indeed it puts us into sleep and yes it's involved in digestion but it's involved in a bunch of other things as well including sexual arousal including rates of digestion including salivation including all sorts of things that don't just have to do with resting and digesting the way to think about the autonomic nervous system is it's a sort of seesaw so it's always at a balance someplace between either predominantly sympathetic or predominantly parasympathetic but both the parasympathetic and the sympathetic arms of the autonomic nervous system are always active all the time it's not as if one is completely active and the others shut off even in sleep your sympathetic nervous system is not completely turned off and even during a panic attack your parasympathetic nervous system is not completely turned off drugs to treat ADHD which are fall under the category of stimulants are sympathomimetics because they trigger the release of neurochemicals and the activation of components of our nervous system that very much resemble the activation of the so-called sympathetic nervous system the one that makes us more alert and more aroused so that's why they're called sympathomimetics and the word stimulant refers to a general category of drugs that are sympathomimetics now the most commonly discussed sympathomimetic is one that fortunately is not prescribed for ADHD and that's methamphetamine these days we hear a lot about meth meth which is methylated amphetamine is an extremely potent sympathomimetic and it has tremendous abuse potential Believe It or Not meth or Methamphetamine is actually available as a prescription drug but it is used very rarely because of its high abuse potential and all the terrible things that it can do in terms of cardiovascular health in terms of oral health right there's this stereotype that meth users have very degraded teeth and indeed they do there's a reason for that related to how meth impacts the brain and body I'm going to talk a little bit about methamphetamine a little bit later but let's just Place methamphetamine high on the Shelf as the most potent sympathomimetic that's out there because even though it's not often prescribed for ADHD there are class of compounds very similar to it that have a very similar pattern of action that is not quite as potent but that leverages the same underlying mechanisms and they are very commonly prescribed for ADHD namely Adderall and Vyvanse so first let's talk about Adderall and what\", 'sentencepiece_token_length': 1097}, {'start': 1289.0, 'end': 1558.0, 'desc': 'Adderall, Dopamine & Norepinephrine', 'transcript': \"first let's talk about Adderall and what Adderall is Adderall is a combination of what are called amphetamine salts amphetamine salts refers to the fact that there are two major forms of amphetamine there's a d amphetamine or dexoramphetamine and levo amphetamine or L amphetamine so I'll refer to these as D and L amphetamine and for you chemistry-minded folks out there the D and the L also refer to the fact that there is a l left-handed version of the molecule and there's a d or right-handed version of the molecule this is only important to understand insofar as you know that the D and the L forms of the molecule look very similar but they're mirror images of one another and yet they can have very different actions in the brain and body so Adderall is a three to one ratio of D amphetamine to L amphetamine you should know that L amphetamine tends to be less potent in increasing certain neurochemicals in the brain I'll talk about which neurochemicals they are in a moment then is D amphetamine so D amphetamine is potent stuff not as potent as methamphetamine but very potent stuff l-amphetamine a little bit less potent L amphetamine tends to be the amphetamine that increases blood pressure and heart rate what we call peripheral effects because it happens in the periphery outside the central nervous system peripheral effects like increased heart rate increased blood pressure sweating Etc are mostly activated by L amphetamine whereas D amphetamine tends to work mainly on receptors in the brain and therefore have effects mainly restricted to the brain now what are these effects that I've been referring to the major effect of Adderall and other sympathomimetic stimulants is to increase the activity of two neurochemicals the first of those neurochemicals is dopamine and the other of those neurochemicals is norepinephrine first off I want to be clear that when I say norepinephrine I could just as easily say nor adrenaline because those are the exact same thing and forgive me even though I wasn't the one to name the same thing two different things I'll try and stay with norepinephrine but I may say noradrenaline they are the same thing there's a whole story as to how they got named two different things but it's the same thing the major effect of Adderall and other sympathomimetic stimulants is to increase the transmission of dopamine and norepinephrine so what does dopamine and what is neuropinephrine well both dopamine and norepinephrine are what are called neuromodulators that is they have the ability to increase or decrease the firing patterns the electrical activity of particular brain circuits both dopamine and norepinephrine have separate roles in creating certain States within our brain and body but they like to collaborate meaning they tend to be released at similar locations in the brain in order to deliver us to a particular state of mind and or body so if we were to take a look at just dopamine we would find that dopamine is released at sites within the brain and increases the activity of brain networks that for the most part lead to increases in motivation Pursuit and to some extent mood if we were to look at norepinephrine and where it's released in the brain it tends to be released at many not all but many of the same sites where dopamine is released and the main function of norepinephrine is to increase the activity of neural networks that are involved in attention and focus to particular things in our environment okay so think of dopamine and norepinephrine as collaborators because indeed they are and actually they're very neurochemically similar as well it actually just takes one chemical conversion to turn dopamine into norepinephrine so they are very similar they're like close cousins that work together to help us achieve a common goal that involves increased motivation focus and alertness so when we talk about attention in ADHD or we talk about quieting the hyperactivity or impulsivity of ADHD one of the reasons why drugs that are effective in treating ADHD are so effective is because they increase motivation focus and alertness and they tend to do that at very focal locations in the brain it's worth taking a couple\", 'sentencepiece_token_length': 1016}, {'start': 1558.0, 'end': 1865.0, 'desc': 'Sympathomimetics, Dopamine & Norepinephrine', 'transcript': \"in the brain it's worth taking a couple of minutes to think about how sympathomimetics such as adderall actually increase dopamine and norepinephrine they do so by affecting a couple of specific operations at the so-called synapse what are synapses synapses are the communication points between neurons they're actually the spaces between neurons but that's where a lot of the action is when neurons as we say are stimulating the next neuron or activating the next neuron or inhibiting the next neuron the word neuron just simply refers to nerve cell and so what nerve cells have is they have a cell body that contains their DNA and a bunch of other stuff they have a long wire like process which is referred to as an axon and at the end of that axon there are a bunch of proteins in there that do really interesting things so for instance there are proteins down at the end of the axon that package neurotransmitter into little spherical things that we call vesicles those vesicles can fuse with the end of the axon and vomit the contents those neurotransmitters into the synaptic cleft into that little space between neurons and then if enough of those neurotransmitters bind to receptors on What's called the postsynaptic side which simply means the neuron on the other side well then the next neuron will become active and then the signal will propagate from one neuron to the next now I just described that whole process pretty quickly and I like to think pretty simply but it actually involves a lot of different protein bits and some pretty complex Machinery in order to make that happen I don't want to over complicate our conversation but what I will tell you is that down in the synapse in the presynaptic terminal the neuron that is going to release neurotransmitter there are what are called Transporters which sit there and suck up or suck back up some of the neurotransmitter that's been released there are dopamine Transporters and there are norepinephrine or noradrenergic Transporters down in the synapse what Adderall does and what other sympathomimetics do is to inhibit or disrupt the action of those Transporters and the net consequence of that is that when dopamine and or epinephrine are released into the synapse more of it is allowed to stick around and to binder receptors on the postsynaptic cell than would be the case if Adderall or the other stimulant were not present in the system so one way that Adderall increases dopamine and norepinephrine is by disrupting the activity of these presynaptic Transporters for dopamine and norepinephrine the other way that Adderall increases dopamine and norepinephrine is that it disrupts the activity of a different piece of Machinery in the presynaptic neuron which is called a vmat the vesicle monoamine transporter 2. if you really want to get specific you don't have to remember these names but what these vmats do is actually really cool what they do is they actually take whatever transmitter has been brought back up into the cell by Transporters and they package it into those vesicles that are then going to be released by disrupting the Transporters that vacuum back up some of the dopamine or norepinephrine that's been released and by also disrupting the packaging of dopamine and norepinephrine into vesicles themselves what ends up happening is that there's a buildup of a lot more dopamine and norepinephrine in the presynaptic terminal so that when an electrical signal travels down the neuron now the total amount of dopamine and norepinephrine that's released is increased okay so what's happening when you take Adderall is that you're getting more out of the dopamine and norepinephrine that you're releasing and you're releasing more dopamine and norepinephrine altogether and there's a third mechanism by which Adderall increases the amount of dopamine and norepinephrine present in synapses and therefore can act on other neurons and that has to do with disruption of the entire network between these different proteins I'm not going to go into that in any detail because it gets somewhat complicated in terms of the cell biology and some of the biochemistry down at the tips of these axons but suffice to say that Adderall is such an effective sympathomimetic that is it can increase dopamine to such a great extent especially compared to other treatments for ADHD because of its ability to increase dopamine release and transmission and therefore action as well as noradrenergic release and transmission and action down there in the synapse and it's worth pointing out that most of the effect of Adderall is an increasing dopamine as opposed to norepinephrine it does increase norepinephrine but its major effects we should say the major effects that have made it such an attractive drug to so many people both for the treatment of ADHD and for people to take recreationally or off prescription or for sake of studying or work simply because they want to focus more and longer is because of its ability to increase dopamine to such a great extent I'd like to take a quick break and\", 'sentencepiece_token_length': 1194}, {'start': 1940.0, 'end': 2196.0, 'desc': 'Vyvanse is Timed-Release D-Amp', 'transcript': \"bit earlier I mentioned that L amphetamine levo amphetamine is present in Adderall but at one quarter the amount of D amphetamine okay so there's a little bit of l-amphetamine and a lot of damphetamine in Adderall many of you are probably familiar with vivance Vyvanse is a commercial name for what many people think is extended release Adderall but actually Vyvanse is not extended release Adderall Vivant is a drug in which the pharmaceutical industry has taken one component of Adderall just the D amphetamine component and attached to it an amino acid called lysine now the amino acid lysine is a big amino acid and the attaching of Lysine to D amphetamine what we call vivance makes it what's called a pro drug it actually can't have any effect on its own but when one takes Vyvanse and it's broken down in the gut but to a greater extent actually in the bloodstream the lysines are cleaved off slowly over time and as a consequence Vyvanse is basically timed release dmphetamine this is important because I think a lot of people think that Adderall which again is D amphetamine and L amphetamine and those two things operate quite a bit differently at the level of norepinephrine and epinephrine and cardiac versus brain effects a lot of people think Vyvanse is just slow release Adderall but it is not what vivance is is D amphetamine only but in time release form and Vyvanse was actually developed as a way to try and get around or rather prevent some of the abuse potential of Adderall and Other Drugs that contain damphetamine D amphetamine stands for dextra amphetamine and in the 70s and 80s there were a fair amount of movies and there was a lot of trafficking and there was a lot of criminal activity related to what was called dexedrine dexedrine is pure D amphetamine so if we're going to be very direct if I were going to just frame these things in the context of their neurochemistry what I can tell you is that vivance is time release dexedrine it's not time release Adderall now just because there were movies and reports of criminal activity related to dexedrine that doesn't necessarily mean that dexedrine is not an effective and useful pharmaceutical in fact vivance which is Time released dexedrine has proved to be very effective in the treatment of ADHD for a lot of people and the reason for that is this time release does indeed prevent abuse in the sense that despite people's many attempts from what I hear to increase the rate of Entry of the damphetamine into their system by either snorting it or you know God forbid even injecting it and things of that sort the attaching of that lysine to damphetamine really does slow the absorption so when somebody takes Vyvanse and hopefully people are taking it responsibly when they take Vyvanse what they're really getting is a slow trickle of damphetamine into their system and therefore a slow long lasting increase in dopamine and norepinephrine and indeed that's what happens the effects of Vyvanse can extend over anywhere from 12 to 16 sometimes even 18 hours depending on how quickly somebody metabolizes it and I should say that there is no way to predict how quickly one will metabolize any of these drugs except by trying them that's one of the sort of downsides of the state of things these days there's no blood test or enzymatic test that will tell you whether or not you're going to be a fast metabolizer or a slow metabolizer and that's why people just have to sort through different dosages which we'll talk about in a little bit they have to sort through different types of sympathomagnetics you know some people try Adderall and they find that you know the quick time course of Adderall or at least quick for them of about six to eight hours is just too fast and then it wears off and they get into a slump in the afternoon other people find that one Adderall taken at six a.m will have them going all day long and into the night and it's just too much stimulation and they need to come way way down in dose or they need to think about other sympathomimetics for ADHD and we'll talk about what some of those other options are a little bit as well so the important thing to understand is that Adderall is really Two drugs DNL amphetamine vivance is D amphetamine which is also called dexedrine but with this time released aspect created by lumping a lysine on there and you may\", 'sentencepiece_token_length': 1097}, {'start': 2196.0, 'end': 2410.0, 'desc': 'Ritalin, Concerta', 'transcript': \"lumping a lysine on there and you may notice that I haven't mentioned one of the major drugs used to treat ADHD and that's ritalin or what sometimes also called Concerta depending on again the time release forms Etc Ritalin was very commonly prescribed for the treatment of ADHD early in the days of using sympathomimetics in order to treat ADHD so for instance I went to college in the early 90s so I started college in 93 and I graduated in 98. it was one year in there as a let's call it a transition year I can recall hearing that Ritalin was being prescribed for ADHD in kids and I like many other people were wondering what are the long-term consequences of this going to be I also like many other people was very perplexed as to why a stimulant sympathomimetic like Ritalin was being prescribed for hyperactive kids that will become clear in a moment but we don't hear so much about Ritalin nowadays and I think that's because Adderall and Vyvanse and things like them have become so popular for the treatment of ADHD it's worth noting that Ritalin is not actually amphetamine Ritalin is what's called methylphenidate and methylphenidate Works in a lot of ways that are similar to the way that Adderall and Vyvanse work but there are certain ways in which it's different now Ritalin methylphenidate does increase dopamine transmission at synapses and it does so also by inhibiting the function of that presynaptic dopamine transporter that would otherwise suck more dopamine back up into the presynaptic cell methylphenidate Ritalin also disrupts the activity of the noradrenergic transporter leading to net increases in the amount of norepinephrine at the synapse but it is not as much a potent inhibitor of the noradrenergic transporter and therefore most of the effect of methylphenidate is to increase dopamine at synapses a lot of people don't realize this a lot of people think that Ritalin is just very short-acting Adderall and that's not the case it is true that Ritalin at least in its standard form tends to have a pretty short half-life and therefore its effects basically kick in about 20 to 40 minutes after taking it sometimes a little bit sooner sometimes a little later and they last about four to six hours as opposed to the six to eight hours typical of Adderall but Ritalin is not short-acting Adderall Ritalin is mainly increasing dopamine and to some extent norepinephrine at synapses whereas Adderall and vivance are increasing both dopamine and norepinephrine to a much greater extent and for those of you that are interested in the underlying cell biological reason for that it has something to do with ritalin's relatively lower affinity for the neuroadrenergic transporter but it's also because remember I listed off three mechanisms by which Adderall and by extension Vyvanse increased dopamine and norepinephrine transmission right disruption the transporter disruption of the vmat2 as well as a disruption of the whole kind of complex of communication between those proteins well Ritalin is really only tapping into the Drug's ability to disrupt the dopamine and noradrenergic transporter so it's three mechanisms of increasing dopamine and norepinephrine for Adderall and Vyvanse and by extension dexedrine and it's only one mechanism for Ritalin to increase dopamine and norepinephrine and therein mostly dopamine so if we take a step\", 'sentencepiece_token_length': 848}, {'start': 2410.0, 'end': 2728.0, 'desc': 'Dopamine & “Noise Reduction”; Norepinephrine & “Signal Amplification”', 'transcript': \"mostly dopamine so if we take a step back for a moment from all these drugs and all this cell biology of neurons and so forth and we go back to the brain networks involved in attention remember the orchestra model or the teacher model where the prefrontal cortex really sits in top seat in terms of coordinating the actions both the quieting and the yes please speak actions of the brain really bringing about what we think of as focused attention and task switching all the stuff that goes along with learning and focus and cognition well what we know is that dopamine and norepinephrine which are differentially increased by these different drugs that we've been talking about also differentially impact the various aspects of executive function of the prefrontal cortex increasing our attention for specific things and while there is a lot of nuance in the literature about this we can safely say a couple of things first of all increasing dopamine at particular synapses and networks in the brain can serve as what's called noise reduction it can help further enhance the quieting of all that background stuff that background stuff can be attention to things in your environment like noises or visual cues it could be some internal narrative that you had about yesterday or something that somebody said about you or something that somebody you like would like to say about you or whatever it might be that's happening in your head that's distracting you as well as your representation of your internal bodily State what we call interoception this is a really important aspect of attention that we don't often hear about which is that we have the ability to attend to things outside of us which is called exteroception as well as an ability to attend to things inside of us which include things like thoughts but also includes you know for instance how empty or full our gut feels whether or not we're comfortable in our chair you know when we think about the practice of focus and learning or focusing as a verb it involves often forcing ourselves to sit still it often involves us suppressing the fact that our foot is a little bit cramped or that we might need to use the restroom for you know we might want to delay that for 10-15 minutes even though it might be fairly urgent all these sorts of things are Central to our ability to attend and focus and so dopamine while it does many different things in the brain many many different things one of its main functions in the context of all this prefrontal cortex and attention stuff is to quiet the amount of noise that is it helps the prefrontal cortex suppress the signals that would otherwise distract us into thinking about oh yeah I'm kind of thirsty right now or I need to use the restroom or I really want to make this caller I really really want to pick up my phone all of that stuff all of that suppression that shh that quieting down of all the background chatter related to things external and internal to us in our head and our body is greatly facilitated by having more dopamine present in the synapses that allow for what we call noise reduction now in parallel to that is norepinephrine norepinephrine is released from multiple sites in the brain and body but within the brain there's one major site of neurons that manufacture norepinephrine and the name of that site is Locus ceruleus it sits in the back of the brain it's actually a relatively small collection of neurons but they are very very powerful they extend their little axons their wires to multiple locations in the brain and they release norepinephrine at those locations so think of them sort of as a sprinkler system that originates from one very focal location but that can sprinkle norepinephrine at multiple locations in the brain and the amazing thing about Locus ceruleus and that sprinkler system is that indeed the sprinkler system can be pretty widespread where everywhere there's a sprinkler head somebody's getting norepinephrine but it also can fairly focally release norepinephrine at particular sites so while in the context of today's discussion dopamine is acting largely to impart noise reduction norepinephrine has the ability to boost signals at synapses to increase the amplitude and frequency of communication between neurons and in that way in the context of today's discussion norepinephrine when released at the particular synapses in the particular brain networks that are related to attention and learning is largely serving to increase signal so what we have in the context of a drug like Adderall or vivance or to some extent methylphenidate Ritalin does this as well is an increase in dopamine and neuro epinephrine that is leading to two things both a reduction in noise a quieting of the circuitry that we don't want to hear so much from and an increase in the signal of the networks that we do want to pay attention to and the net effect of that noise reduction and Signal amplification is what the engineers refer to as increased signal to noise and the consequence of that is a heightened subjective sense or ability to decide what we want to focus on sit down or stand there and just focus on it so the way that we've been discussing\", 'sentencepiece_token_length': 1113}, {'start': 2728.0, 'end': 3057.0, 'desc': 'ADHD: Focus, Hyperactivity & Impulsivity; Drug Selection & Dose', 'transcript': \"so the way that we've been discussing drugs to treat ADHD and their ability to increase dopamine and norepinephrine and thereby to reduce the amount of noise so to speak in the brain and to increase the amount of signal related to things that we want to attend to all presumes that the amount of dopamine and the amount of norepinephrine that's being increased is perfect for what we want to accomplish which is increased focus and reduced hyperactivity and impulsivity but of course in the real world that's not always the case depending on the dosage of the drug one sensitivity to the drug even what stage of development across the lifespan a person is at things can really go Haywire pretty fast and what I'm referring to when I say Haywire is if you think about dopamine and its ability to reduce noise well dopamine does a bunch of other things as well and in fact we know that if dopamine is increased too much in the brain somebody that has ADHD or somebody that doesn't have ADHD people can become euphoric people can become manic people can even become psychotic likewise if norepinephrine is increased too much people won't just become alert they will become very anxious have panic attacks and depending on the drug they're taking they may even experience very serious peripheral symptoms meaning elevated heart rate and sweating that is super uncomfortable and on and on so everything I've been discussing up until now is true but I want to make it clear that it's true in the context of appropriately dosed prescribed drug for a given condition which leads us to the next question which is why would it be that giving these drugs which are in fact stimulants why would that calm a kid down why would that common adult with ADHD down and the answer to that is not completely straightforward and it is worth pointing out that not everyone with ADHD has impulsivity and hyperactivity and therefore an inability to focus some kids and adults with ADHD do have challenges with impulsivity and hyperactivity some do not some just have challenges with focus and I did an entire episode about ADHD and we are going to have an expert guest on this podcast who specializes in the treatment of ADHD to talk about some of these issues further but I just want to remind everybody that as in the general population children and adults with ADHD are capable of very concentrated periods of focus the pattern however tends to be that children and adults with ADHD have a harder time getting into that state of focus and perhaps most importantly they have a very hard time getting into a forced state of focus for things that they don't enjoy doing I'm sure many of you are also thinking wait I don't like to do certain things and it's harder to focus on those things than on the things I like of course does that mean I have ADHD and the answer is not necessarily so kids and adults with ADHD exhibit an extreme variation in their ability to focus such that if there's something they really really like doing they can indeed Focus however for many many other activities that are required in order to develop I guess we'll just call it normal life advancement so sitting still listening to conversations that we may not be particularly interested in that's where the challenges come about so the point is that these brain networks and these neuromodulators like dopamine and norepinephrine that we've been talking about in Fairly straightforward terms as it relates to a Drug's ability to increase their transmission and therefore an improved ability of focus presumes two things it presumes that the dosing is right that is that the levels of increases in these neuromodulators is just right and I also just want to acknowledge that ADHD is first of all not an inability to focus at all it is immense challenges in focusing on lots of different things as required for normal life progression and it's also the case that there is no one specific pattern of ADHD that applies to everyone with ADHD some people both kids and adults will exhibit the hyperactivity but not the impulsivity although those two things tend to go hand in hand some people will have a challenge in focus without hyperactivity impulsivity and so forth and all this just really speaks to the complexity of ADHD and yet and yet we can confidently say that there are more drugs to treat ADHD than any other psychiatric condition we've talked about a few of those now but among those Adderall vivance Ritalin also called methylphenol State there are time release versions there are different variations on those time release versions there's even straight dexedrine which is prescribed for ADHD in some cases and on and on and you might also find it interesting to know that that very large kit of drugs all of which at least the ones we've talked about so far are sympathome addicts or stimulants are more effective at treating ADHD than are any other collection of drugs for treating other psychiatric disorders so what all of that diversity of symptomology and ADHD as well as differences in sensitivity to drugs and individual variation what all of that speaks to is that the large kit of drugs that's out there is designed to be assessed with the careful consult of a very qualified psychiatrist in order to allow the child or adult to arrive at the specific drug and the specific dosage that's ideal for their particular pattern of ADHD and that issue actually\", 'sentencepiece_token_length': 1186}, {'start': 3057.0, 'end': 3288.0, 'desc': 'How do Stimulants ‘Calm’ ADHD?', 'transcript': \"pattern of ADHD and that issue actually gives rise to the answer to that now somewhat age-old question as to why giving stimulants to a kid that is hyperactive would calm them down and the answer is that the hyperactivity impulsivity and focus issues present in ADHD in children and adults are the consequence not necessarily of deficient activity of neural circuits in the prefrontal cortex or deficient activity of the default mode Network or deficient activity of the salience network Etc what appears to be the case based on a lot of high quality neuroimaging data is that the brains of children and adults with ADHD have all of these networks functioning but those networks are actually hyper connected that is they tend to be co-active at times when ordinarily meaning kids and adults without ADHD they would not be co-active so that's an important point because it's easy to get the impression that ADHD is just a deficiency in dopamine and norepinephrine and that's simply not the case if you recall dopamine and norepinephrine are neuromodulators they modulate the activity of other neural circuits and they can both increase and decrease activity within those circuits so you don't necessarily want to think about dopamine and norepinephrine just as molecules that increase neural activity and you certainly don't want to think about ADHD it's just a deficiency in dopamine or deficiency in norepinephrine the way these drugs work when they are used effectively to treat ADHD is to tune the amount of dopamine and norepinephrine that are present in particular brain networks in order to allow the person to arrive at just the right balance between the activation of these different neural circuits causing them largely to be less synchronous in their firing so this takes us back to this question why giving stimulants to a kid would calm them down it's not so much that you're giving a stimulant to a kid to place them into a state of calm I think that's a common misconception rather by increasing dopamine and norepinephrine these drugs yes increase levels of overall autonomic arousal they are after all sympathomimetics but more importantly to the treatment of ADHD symptoms you are activating the prefrontal cortex in a way that allows it to be more of a coordinator of that Orchestra conductor or if you prefer the analogy to a teacher in the classroom to ramp up the activity of certain neural circuits in a given moment and quiet down the activity of other neural circuits such that the default mode Network can still perform its incredible actions after all the default mode network is involved not just in self-referencing and kind of daydreaming but also creativity and Imagination that's been well described in the literature as well as the salience network and these other networks that are designed to drop us into very narrow trenches of attention these drugs for the treatment of ADHD are are indeed stimulants but the goal of prescribing these drugs to a child or adult with ADHD is to adjust dosage timing and the duration over which somebody takes it in their lifespan in order to allow those neural circuits to work in the proper way meaning for the conductor to activate the instruments in that little symphony or band in the appropriate order in order to arrive at the right music as opposed to all the instruments playing at once which would just be complete noise or if again if you prefer the classroom teaching analogy for the teacher to call on one student while the others are quiet and then to call on a different student have one student return to their seats to have the students work in small groups again all of this by analogy the point being that dopamine and norepinephrine are all allowing these networks to be activated to the precisely correct levels and in the precisely correct sequence now the other key aspect of drugs like Adderall\", 'sentencepiece_token_length': 852}, {'start': 3288.0, 'end': 3486.0, 'desc': 'Neuroplasticity & Neuromodulators', 'transcript': \"key aspect of drugs like Adderall Vyvanse Ritalin and similar to tree ADHD has everything to do with these neuromodulators dopamine and norepinephrine but it has to do with their other incredible feature besides just their ability to reduce noise and increase signal Within These brain networks and that incredibly important feature is what we call neuroplasticity or the brain and nervous system's ability to change in response to experience I've done entire episodes of The huberman Lab podcast on neuroplasticity what it is and how to access it at different stages of development and in adulthood by the way you can find those episodes at hubermanlab.com by simply searching plasticity in the search function but the important thing to understand about plasticity in the context of today's discussion is that while there are many different ways to induce neuroplasticity almost all of them almost all of them involve strongly activating certain brain Networks and in that case also strong or elevated release of certain neuromodulators now we've talked about dopamine and norepinephrine they are but two of many neuromodulators others include serotonin acetylcholine and each of the neuromodulators does different things that different synapses in the brain and there's some Global statements that can be made about each of them we've made some of those earlier like dopamine is broadly involved in motivation craving and pursuit and norepinephrine and Signal detection and drawing of focus or salience to something in our environment or in our body or inner experience serotonin does other things acetylcholine does other things but what's really important to understand is that any time there is a dramatic elevation in dopamine and norepinephrine relative to Baseline relative to what was happening with dopamine and norepinephrine just prior to that that has a tendency to promote neuroplasticity at particular synapses so here is where it's appropriate to remind everybody that neuromodulators are different than neurotransmitters neurotransmitters are chemicals that just like dopamine and norepinephrine are released between neurons and they are what actually contribute to the electrical signals going up or down between different neurons and again dopamine and norepinephrine modulate that activity causing a given amount of neurotransmitter to have an even greater effect for instance so when we hear about dopamine and norepinephrine and we hear about motivation or Focus Etc that's all fine and good but it's also important to remember that when dopamine and norepinephrine are increased there is a higher probability of strengthening connections where dopamine and norepinephrine are increased and what that means is that later even if levels of dopamine and norepinephrine are not increased if they go back to Baseline it's often the case that if in our prior history or the history of a given set of neurons in our brain there was more dopamine or norepinephrine around it's very likely that the connections where that took place are strengthened and therefore more easily activated and this takes us back to the really\", 'sentencepiece_token_length': 712}, {'start': 3842.0, 'end': 3912.0, 'desc': 'Kids, ADHD Diagnosis & Treatment; Predispose Addiction?', 'transcript': \"to the next I'd like to take a quick break and thank our sponsor inside tracker inside tracker is a personalized nutrition platform that analyzes data from your blood and DNA to help you better understand your body and help you reach your health goals I've long been a believer in getting regular blood work done for the simple reason that many of the factors that impact your immediate and long-term Health can only be assessed with a quality blood test the problem with a lot of blood and DNA tests out there however is that they'll give you information about certain lipid markers or hormone markers but no information about what to do with all all of that data inside tracker makes it very easy to look at your levels of hormones metabolic factors lipids Etc and then to assess what sorts of Behavioral nutritional supplementation or perhaps other interventions you might want to use in order to bring those numbers into the ranges that are optimal for your health inside tracker's ultimate plan now includes three new hormone markers that are critical to measure during a woman's reproductive and menopausal years these are estradiol progesterone and thyroid stimulating hormone if you'd like to try inside tracker you can go to insidetracker.com huberman to get 20 off any of inside tracker's plans again that's inside tracker.com huberman to get 20 off now the other common question is if a child\", 'sentencepiece_token_length': 323}, {'start': 4408.0, 'end': 4772.0, 'desc': 'ADHD Medications: Individuality, Doses, Tapering & Long-Term Use', 'transcript': \"arise a question that comes up from time to time when discussing the long-term effects of drugs like Adderall Ritalin and vivance is whether or not they can negatively impact height or growth or development in some other way this is a logical question to ask because after all these drugs are effectively mimicking stress in the body and most everyone is heard by now that while stress can help us in the short term it helps us deploy immune molecules to protect us against infection and it sharpens our visual focus and our ability to respond to things for survival chronically elevating our stress over long periods of time we know reduces the effectiveness of our immune system and can actually cause certain forms of brain degeneration and while there aren't a lot of longitudinal studies on the heights of kids with ADHD and of course we never can tell how tall someone would have grown to be if they were treated with a drug because we don't have a perfect control experiment even in the case of identical twin experiments and therein there aren't that many of those examples where one twin was treated for ADHD and the other wasn't Etc but here's what we know it does not appear that treatment with sympathomimetics during development provided that dosages are kept in the appropriate ranges is going to limit overall height in fact if you look at the data it appears that children with ADHD who are treated with ADHD meds actually arrive at slightly higher bmis body mass indexes compared to age-matched peers now of course body mass index doesn't necessarily correlate with height right someone could not achieve a full height but could be heavier either through bone or fat or muscle or combination of all three but what we know is that the appropriate use of ADHD meds during development is not stunting development in any kind of overall way it's not preventing maturation of the body in ways that are leading to reduced weight or somehow impaired growth overall with that said long-term elevations of sympathetic nervous system activity does carry some risk and one of the primary risks that people have wondered about is cardiovascular risk this makes perfect sense right when you increase the activity of the sympathetic nervous system you increase blood pressure to increase heart rate you increase in some cases peripheral sweating you know all the things that we associate with stress so you can imagine that a child or adult with ADHD that takes these sympathomimetics every day even if the dosage is kept in a Range that doesn't allow them to experience any immediate untoward side effects so they're not feeling miserable they're just feeling like they can focus better but one always wonders what's going on under the hood so to speak there is as far as I know one major study that's addressed this and the conclusions of that study were a little bit hard to put into a single category it did point to a subtle increase in cardiovascular risk but the results did not point to anything so dramatic that the authors of the study warned against taking these drugs or encouraging people to cease taking these drugs again provided they're being prescribed by a board-certified physician for ADHD and at the appropriate dosage for that person that said I think this all again speaks to the importance of arriving at minimal effective dosage and it stands to reason that if you're somebody who's taking ADHD meds or if your child is taking ADHD meds that one would want to do all the other things that they could do in order to try and improve cardiovascular health or at least not put it at additional risk so those are going to be the obvious things like avoiding smoking or vaping nicotine regular exercise is going to be encouraged and things of that sort and that dovetails into a bunch of other questions that are often asked anytime the topic of Adderall or Ritalin comes up which is what about alcohol you know is drinking alcohol the same time or at different times even going to be problematic if one is taking these drugs is taking benzodiazepines going to be a problem etc etc there's a very straightforward answer to this which is it's very clear that alcohol certainly in children but also in adults is best not consumed I did an entire episode about alcohol which got into this and the data for this if you've heard that having some alcohol in particular red wine is better for you than know alcohol that is simply not true sorry it's not true most adults who are not alcoholics can probably have up to two that's right two drinks per week and still be on the safe side of Health although zero is better than two and once you get past two you start seeing effects on various systems including increased cancer risk especially brain neuron loss and degeneration risk I covered all of those data in the episode on alcohol that you can find at hubermanlab.com combining alcohol with sympathomimetics even though they reside in very different Pathways within the brain in fact the sympathomimetics are driving up sympathetic nervous system activity whereas alcohol is actually doing the opposite it's depressing it and yet all the data points to the fact that combining alcohol with sympathomimetics such as Vyvanse Adderall ritalin or any kind of amphetamine is going to be more detrimental to the brain and body than simply taking those drugs on their own put differently and more directly if you are taking any of the drugs that we've been talking about to treat ADHD or if you just happen to be taking them for whatever reason you are going to want to avoid drinking alcohol at any time and you're going to want to avoid benzodiazepines and similar unless they've been prescribed to you by your physician in advance of this episode I put a call out on social media for questions about Adderall Etc and I got a lot of questions about whether or not their impacts of these drugs on the hormone systems of the body and if they\", 'sentencepiece_token_length': 1305}, {'start': 4772.0, 'end': 5265.0, 'desc': 'Cortisol & Hormones', 'transcript': \"hormone systems of the body and if they impact the reproductive system in particular I also got questions about whether or not these drugs impact sexual behavior or libido or anything of that sort in reviewing the literature what I can tell you is that there are very few studies unfortunately of the long-term effects of these drugs on the endocrine or hormone systems of the body but we do know a few things for sure first of all when you increase the activity of the sympathetic nervous system for long periods of time you are very likely increasing levels of cortisol cortisol is a quote unquote stress hormone but cortisol also plays some really important positive roles in your body in fact if you want cortisol released especially early in the day you don't want cortisol released so much late in the day this actually relates back to timing and schedules of taking drugs this is something again that needs to be worked out with your psychiatrist or your child's psychiatrist but one of the reasons why there are so many different drugs for the treatment of ADHD is that each and all of them has a different time course of action so Ritalin is very short-lived which might sound bad because then you have to take it multiple times throughout the day but if you think about from the perspective of sleep and the importance of having low cortisol at night and these drugs increase cortisol and the importance of getting sleep because after all sleep is the foundation of mental health physical health and performance in kids and adults it's responsible for growth it's when neuroplasticity happens it's just so vitally important a lot of the drugs that we've been talking about can severely limit one's ability to fall and stay asleep and so a short-acting drug like Ritalin is actually attractive from the perspective of being able to take it in the morning and still get to sleep at night or taking it in the morning and in the afternoon and maybe even again in the evening depending on the person and then still being able to fall asleep at night whereas long duration release of D amphetamine which is what you get when you take Vyvanse for some people is going to inhibit their sleep they'll get a nice steady rise and Improvement in focus and reduction in hyperactivity but they might have a lot of trouble falling asleep at night and Adderall having a somewhat intermediate time course of action between ritalin which is short-lived and Vyvanse which is very long-lived perhaps is going to be the best solution for somebody else where they can take it early in the day perhaps at a low dose maybe again later in the day low dose and then still fall asleep at night but I've spoken to people and I've spoke to this clinician expert in ADHD who told me that some people will take as little as 2.5 milligrams of Adderall at 6 00 am and have a hard time falling asleep later that night at 11 PM so again vastly different sensitivities to these drugs leading to vastly different requirements of dosage and timing of intake and which particular drug somebody might choose to or choose not to take so how does that relate to hormones and sex and reproduction well cortisol itself is a hormone it can act as a bit of a hormone and a neurotransmitter in the brain but for the most part it's acting as a hormone in the brain and body and it does a number of things first of all it can enhance your levels of focus and alertness it can activate your immune system I know that immunologists out there just cringe when I say activate the immune system your immune system is always doing various things so it's always active just as your nervous system is always active but it can to be specific it can amplify or mobilize the release of anti-inflammatory molecules in your brain and body to combat different types of bacterial viral and fungal infections it's doing an enormous number of positive things it's also involved in setting mood it has interactions with thyroid hormone pathways I've done entire episodes about cortisol and cortisol regulation to paint all of that with a very broad brush and briefly now it's advantageous to have your cortisol release high in the early part of the day and to taper off toward the end of the day in fact late day elevations in cortisol are a strong correlate of depressive symptoms this was demonstrated by my colleagues David Spiegel and Robert sapolsky at Stanford School of Medicine but that is not to say that cortisol is bad it's to say that the timing of cortisol release is key so do these sympathomimetic drugs disrupt the endocrine system well they can if you are very awake and very alert regardless of whether or not you're taking your sympathomimetic treatment for ADHD early in the day or late in the day you are very likely experiencing elevations in cortisol late in the day so it is important even for those of you that like to study and need to focus in the evening and nighttime hours that you try and limit your levels of overall alertness and certainly stress late in the day because doing that day after day after day for several weeks or months or years can indeed disrupt other hormones in the endocrine system and again that's because cortisol is interacting with thyroid hormone and testosterone and estrogen in fact cortisol in many ways competes with or can out-compete for the production of testosterone and other so-called steroid hormones remember cortisol itself is a corticosteroid hormone so when we hear the word steroids oftentimes people just think about athletes and steroid abuse in sports but steroid hormones includes a lot of different types of hormones which are good for us our endogenous steroid hormones are vital for all sorts of things Vitality reproduction Etc and the way this works in general terms is that the cholesterol molecule is used to create testosterone and cortisol and estrogen if we make too much cortisol we in many ways are reducing the total amount of testosterone that we make or that is active it's not exactly that straightforward but we can make that statement with uh with confidence for instance if you spike your cortisol just briefly during the day because you have some sort of stressful event that's not going to inhibit your testosterone in fact it probably is going to boost your testosterone levels somewhat however if your cortisol levels are chronically elevated yes indeed it's likely that you're going to suppress your total and or free Unbound forms of testosterone and downstream to that you will experience effects such as reductions in libido reductions in muscle and bone mass reductions in all sorts of aspects of testosterone related psychology and bodily biology this is true for both males and females and the same thing could be said for estrogen now what's impossible for us to say is whether or not taking a given treatment for ADHD is going to for instance prevent a woman from ovulating that could happen through chronic elevations and cortisol but there's no direct link meaning there are no studies at least that I'm aware of showing that people that take Adderall have irregular ovulatory Cycles or that they cease menstruating entirely I don't think there's any evidence for that whatsoever nor is there any evidence that people that take Adderall or other sympathomimetics for the treatment of ADHD have lower overall testosterone in fact you can imagine all sorts of instances in which the opposite was true that a child or young adult or adult who has ADHD but then goes on these meds to improve their symptoms is now focusing and achieving more in life we know that happiness can impact dopamine and vice versa and testosterone levels and productivity itself and reaching our goals can feedback on the hormone system so anytime there's a discussion about hormones or a study that shows that doing X or not doing why impacts hormone levels of a given type we have to be very careful to make sure that we're talking about causality because all of these hormones are in a very intricate crosstalk with one another we can however make a very general statement which is that when you are in states of stress for long periods of time that is not a favorable condition addition for your immune system your hormone system or frankly any other system in the brain and body so the treatment of ADHD with these drugs should never be done at the expense of these other critical biological systems another common question and concern is whether or not kids and I suppose for that matter adults that take medication for ADHD are basically being predisposed to psychosis and or other forms of addiction and\", 'sentencepiece_token_length': 1959}, {'start': 5265.0, 'end': 5900.0, 'desc': 'Psychosis & Addiction; Methamphetamine', 'transcript': \"and or other forms of addiction and earlier we talked a bit about the risk for addiction and the take-home message there is very clear that kids and adults that are treated for ADHD appropriately so with the appropriate dosage of the appropriate drugs under the supervision of a board-certified qualified psychiatrist or at less risk for forming addictions to other substances in adulthood or other substances generally I think a lot of people also wonder whether or not those kids and those adults that take these ADHD meds become addicted to the medications themselves that's a bit of a tricky issue to resolve anytime one stops taking a drug or even tapers off a drug that's used to treat something where they feel better on the drug they're going to experience two sets of effects and these two sets of effects are often confounded with one another one is the withdrawal effects so the effects of removing the drug that makes somebody feel less good than Baseline so for instance a kid that takes ADHD meds until their late teens or early 20s decides they're going to taper off they do that and they're feeling lousy during the taper or when they reduce their dosage to zero they're you know foggy brain they can't focus they feel a little bit depressed mood it unclear whether or not those are withdrawal symptoms or whether or not those are the consequence of not having the systems in their brain activated the way that those systems were activated before I realize that for some of you that might seem like the same thing but that's not necessarily the same thing and probably the best analogy would be something along the lines of a hangover right if somebody drinks too much on a given night the next morning they have a hangover The Hangover makes them feel lousy it's it is actually a withdrawal from alcohol effect but then when they recover from The Hangover they realize that their sober State feels pretty good it doesn't obviously feel the same as being on alcohol but that sober state is not a state of withdrawal okay if we were to look at removal or tapering off of ADHD meds there's going to be a period of withdrawal symptoms but then the real question is how does somebody feel after they get through those withdrawal symptoms so that's an important issue to highlight now in terms of psychosis this is a very interesting and very important literature sure first of all any amphetamine whether or not it's D amphetamine L amphetamine and also methylphenidate for that matter Ritalin can induce psychosis now there are a number of different factors that are going to predispose somebody to psychosis having a first relative who's had psychotic episodes either schizophrenic episodes or bipolar episodes is certainly a strong predisposition of course if an individual themselves have had psychotic episodes that's the strongest predisposition that one could imagine so having a first relative with schizophrenia or with bipolar depression or sometimes called bipolar disorder sometimes it's also just called bipolar these days is going to be a strong predisposition for psychotic episodes made much greater anytime one takes a sympathomimetic drug such as amphetamine but also methylphenidate Ritalin is going to increase that likelihood of psychotic episodes then comes the question of if somebody has a psychotic episode as the consequence of taking any of these drugs whether or not it's been prescribed for ADHD or not will those psychotic symptoms go away after the person stops taking the drug there appears to be a divide in the literature or rather a divide according to drug such that people that take Ritalin methylphenidate and have a psychotic episode often not always but most often if they stop taking methylphenidate The Psychotic episode will cease not always the case but most often times it will cease whereas in individuals who have a predisposition to psychosis or even if they're not aware of a predisposition of psychosis and they take Adderall which as you recall is a combination of D and L amphetamine they can have psychotic episodes that sometimes are very long lasting even after the cessation of the drug and while that might sound kind of shocking and really scary and indeed it is scary it perhaps shouldn't shock us that much because if you recall D amphetamine which there's a lot of in Adderall it's a very potent way of increasing dopamine and anytime you potently increase dopamine in a person who has a predisposition to psychotic episodes you are shifting the whole system toward a greater propensity for psychosis this would also be the appropriate time to talk about meth methamphetamine again methamphetamine is considered an illicit drug a drug of abuse it is responsible for a lot of The Misfortune and tragedy that you see on the streets of major cities and even outside of major cities and rural areas it has all sorts of negative effects on health including oral health cardiovascular health it is neurotoxic to serotonergic neuron so it kills serotonin neurons that is absolutely clear it kills dopaminergic neurons that is absolutely clear one of the ways that methamphetamine creates so many of the problems that it does eating effects on the body abuse potential addictive potential the fact that methamphetamine can spark psychosis in those that have a predisposition to psychosis but also that it can create psychosis in individuals who have no predisposition to psychosis right all of this points to methamphetamine just being a terrible drug all around and yet if you recall back to the beginning of the episode there is one form of prescription methamphetamine but its uses are extremely narrow and it's probably best left out of this conversation because its uses are so so narrow in the clinical sense I managed to talk to One expert this is a board-certified psychiatrist who's expert in ADHD who is also very familiar with the psychosis symptoms induced by methamphetamine and by various ADHD drugs and people who have the predisposition they made it very clear that any of the sympathom and medic ADHD drugs that are of the amphetamine variety so that would be Adderall and extended release Adderall it'll be Pure dexedrine or any variants that include amphetamine are going to have higher likelihood of inducing psychosis and people that have a predisposition of psychosis and yet they did assure me that at appropriately prescribed and safe dosages that the total incidence of psychosis in people that take those drugs is still fairly low and not that much greater than in the general population although there is an increased risk it's not that severe and they also highlighted the fact that methylphenidate Ritalin carries a lower potential for inducing psychosis not zero but a lower level of inducing psychosis then for the amphetamine type sympathomimetics now one exception is a Vyvanse that long release damphetamine that we talked about earlier there does seem to be some things protective about that long duration release of damphetamine that occurs with Vyvanse which is not to say that there's zero abuse or addictive potential with Vyvanse um I was told by the same individual that indeed they've had knowledge of patients trying to increase the rate of absorption of Vyvanse and release of Vyvanse or technically of the damphetamine in order to get more of a high from Vyvanse as opposed to just the extended release but they did assure me however that Vivant seems to be associated with fewer psychotic episodes and less abuse and addictive potential overall which again is not to say that it's a perfectly safe drug but really this just highlights the fact that the kinetics or the time course of dopamine and norepinephrine release that's caused by a given drug is going to correlate very strongly with its abuse potential and addictive potential and its potential to induce psychotic episodes and this is where the discussion about meth becomes especially relevant one of the reasons why meth is so dangerous in terms of its addictive potential and its potential to induce psychotic episodes is first of all how much dopamine it releases again five times more than any of the other drugs that we've been talking about but also how fat past that Peak comes on it's a very fast onset and that's true whether or not people are snorting it without their taking it orally or especially if they inject it intravenously but meth because it increases dopamine so fast into such a great degree and then the the peak in dopamine comes down very fast as well and it drops below the Baseline levels of dopamine that were present initially that's one of the reasons why methamphetamine is so dangerous in terms of addiction and in terms of psychotic episodes this gets back to a bunch of issues we've talked about before on the huberman Lab podcast about dopamine kinetics and I've done two episodes on dopamine that I'll refer you to one is called dopamine motivation and drive which is all about dopamine and regulating dopamine and the other one is about optimizing dopamine it's more of a toolkit focused episode both those you can find at hubermanlab.com but the general takeaway that's relevant for what we're talking about now is that with dopamine it's not just about the absolute levels of dopamine that are reached but how long lasting those increases in dopamine are so with vivance even though vivance is damphetamine it's fairly potent not as impotent as meth but fairly potent at increasing dopamine and norepinephrine it's a long extended release in dopamine and norepinephrine which reduces its overall abuse potential because it doesn't tend to create that immediate Euphoria and high and then crash below Baseline a lot of you will hear that it increases dopamine a lot and then stays up as translating to okay well then you're just euphoric for 16 hours but that's not the case when it comes to dopamine it's an issue of How High that Peak is and whether or not that Peak is stable or whether or not it comes down again and when it comes to psychotic episodes or addictive potential it seems that any drug or behavior that increases dopamine very quickly and then brings dopamine down very quickly is what sets the high potential for addiction and abuse and for inducing psychotic episodes so that's why I'm talking about these two things in parallel and now it should be very clear why vyvance doesn't have so much addictive and abuse potential and has at least lower potential for inducing psychotic episodes and it should also be clear to you that for people who do not have ADHD as\", 'sentencepiece_token_length': 2451}, {'start': 5900.0, 'end': 6150.0, 'desc': 'Recreational Use, Addiction & Psychosis; Habituation', 'transcript': \"that for people who do not have ADHD as a child or for people that do not have ADHD in adulthood if they were to take any truly any of the compounds that we're talking about thus far methylphenidate Ritalin Adderall vivance dexedrine and certainly methamphetamine what we observe from neuroimaging studies is that these people get enormous increases in dopamine they're not familiar with these drugs so the increases in dopamine are just Cosmic for them they experience a lot of euphoria even if the dosages are low the Euphoria is associated with a very heightened degree of focus they've never really felt before here what I'm talking about is a lot of the recreational and off prescription use of Adderall and things like it and what we know is that that sets in motion both a potential for abuse and addiction to that feeling and substance as well as a higher potential for psycho episodes down the road okay so put differently children who have ADHD and are prescribed any of these drugs or adults who have ADHD and are prescribed any of these drugs who take them for some period of time are actually at lesser risk to all of the issues related to having chronically elevated and greatly elevated dopamine as a kind of first time event or as a rare event whereas anyone who takes these drugs without a prescription and decides okay I want to focus more or I'm going to use this to stay up for a couple of days in other words using it recreationally or using it for quote-unquote performance enhancement is that far greater risk for addiction to these substances because of the amplitude and the time course of dopamine that results when one takes these drugs just out of the blue and so for that reason I really want to caution everybody against using any of the compounds that I've discussed thus far unless it's been prescribed to you by a physician for the specific purpose of ADHD now I'm sure someone out there is screaming from the back wait if a kid takes these drugs because they're prescribed them for ADHD the very first time they take them they're going to have a huge amplitude dopamine response or if an adult goes in and talks to their psychiatrist and says you know I'm having issues with focusing in their prescribed one of these meds for ADHD and they take it they're going to have a huge amplitude dopamine response isn't that going to set in motion all the same things that somebody who is using these drugs recreationally would have and indeed that's one of the reasons why a lot of psychiatrists will start with a very low dosage or the lowest possible dosage to see how somebody responds to that low dosage and then over time might or might not increase that dosage in fact they might even bring it down further depending on how sensitive somebody is to the drug but equally important is the fact that it is the repeated taking of that drug by the child with ADHD or by the adult with ADHD that actually leads to lesser and lesser peaks in dopamine each time which is not to say that the person becomes entirely desensitized to the effects of the drug but rather that the system equilibrates through what's called homeostatic plasticity sometimes referred to broadly as habituation to a drug but there are systems in the brain and body that regulate the connections between neurons so that if dopamine and norepinephrine are elevated above Baseline levels for a while the system normalizes so that instead the connections between neurons become stronger and there isn't the critical requirement for all that increase in dopamine and norepinephrine I realize that might sound a little bit technical but basically what I'm saying is the response that somebody has to taking a drug for the first time is Far and Away different than the response to a drug that somebody has if they are taking the same drug day after day after day this gets to another issue which is not discussed that often these days but that is really important if you go back to the original clinical literature on the sympathomimetics what you'll find is that the original use of these sympathomimetics to treat childhood ADHD\", 'sentencepiece_token_length': 928}, {'start': 6150.0, 'end': 6335.0, 'desc': 'Drug Holidays; Ritalin & Long-Term Effects', 'transcript': \"sympathomimetics to treat childhood ADHD suggested that children not take these drugs every single day now I'm not recommending that kids take drug holidays because I'm not a clinician I'm not promoting any specific dose or dosing regimen but in speaking again to a psychiatrist expert in ADHD who by the way is going to be a guest on this podcast in the not too distant future what he told me was that many of these drugs were designed to be taken during the school week for children with weekends off or during the school year with weekends off but then also with vacations during the summer holidays and that these days rarely if ever is that the pattern of intake that these kids are following and why that is has interesting sociological and financial explanations I'm not alluding to any kind of conspiracy here but this is an aspect of the dosing with these drugs that has sort of Fallen away in recent years but I think is really interesting and it's something that actually was supported for the treatment of adult ADHD as well again there is a very different biological and neuroplastic response to taking a drug once versus taking a drug for say five days and then taking weekends off to taking a drug over and over again every single day for a pattern of years and when exploring the literature and preparation for this episode I confess it was a bit dizzying to find answers to what are the long-term effects of taking Adderall or what are the long-term effects of taking Vyvanse Etc in fact most of the literature on the long-term effects of taking drugs to treat ADHD has focus on methylphenidate on Ritalin there are studies on Vyvanse and adderall and actually those were the studies that I will link in the show note captions primarily because that's where most of the interest is these days the reason why so many of the Studies have focused on methylphenidate on Ritalin is largely because that was one of the first drugs used to treat ADHD so in terms of addressing long-term effects so kids treated with ADHD meds those kids are now adults and therefore can be neuroimaged and assessed whereas a lot of kids that have been prescribed Adderall or Vyvanse or similar have not yet made it to stages of life in which we can answer that question directly there are a few studies and I've made it clear to include those studies in my description of results today in particular the result I talked about earlier where there's an improvement in executive function in kids that have taken ADHD meds or adults that have taken ADHD meds for a longer period of time anywhere from months to years those studies did include both Adderall and Vyvanse and methylphenidate and again I'll link to those studies but by and large most of what we know about the long-term effects of any of these drugs has to do primarily with studies of methylphenidate I'd like to spend a little bit of time talking about some compounds that are not considered amphetamines at all but that are now being used to treat ADHD both in children and adults more frequently the major drug in this category of\", 'sentencepiece_token_length': 709}, {'start': 6335.0, 'end': 6783.0, 'desc': 'Modafinil, Armodafinil; Side-Effects', 'transcript': \"major drug in this category of non-amphetamine treatments for ADHD is modafinil which is also called by its commercial name Provigil there's a variance on this which is our modafinil which goes by the brand name Nuvigil the major difference between modafinil and arm modafinil aside from having a slight chemical difference is that modafinil was released first our modafinil is the second in the generation of these drugs and modafinil tends to be very expensive that's one of the reasons why it's prohibitive for some people to take it can be as expensive as 25 a pill or more to more than a thousand dollars per month and our modafinil tends to be far far less expensive I've talked to a couple experts about whether or not there are any genuine differences between these two drugs and they report no although consumers of these drugs for whatever reason whether or not it's Placebo or not report yes there is a different when I say Placebo I in no way mean that these drugs are just acting as Placebo I just mean that you know people tend to get very attached to certain drugs and whether or not the brand name or the generic version works better for them there's all sorts of lore about this in fact there are a lot of people out there who strongly feel that brand name Adderall works better than generic Adderall for them there are a lot of people out there who say the same thing about vivance there are a lot of people out there who say the same thing about Ritalin and all sorts of drugs whether or not that's true or not is unclear it is clear that generic versions of drugs can use binders and other things that are in the pill or capsule that are different than what the brand name pillar capsule uses as binders to hold the drug together and that can impact rates of release and Metabolism Etc but a lot of this is just Laura in fact I went into the literature to try and find any real concrete support for the idea that generic adderall is less potent or less effective than brand name Adderall and despite the tens of thousands of people who will say to the contrary I could not find any peer-reviewed published data about that so who knows maybe it's a belief effect as it's called maybe there's a real difference there nowadays modafinil and armodafinil are prescribed for a huge range of daytime sleepiness issues and we were talking about narcolepsy but there are also people who suffer from daytime sleepiness related to dementia daytime sleepiness related to post surgery anesthesia so there's this thing where people have surgery and then they come out of surgery and they feel better for a few days but then they find that they aren't recovering their normal levels of wakefulness so it's prescribed sometimes to try and get people back into a normal state of wakefulness it's been prescribed for a traumatic head injury after stroke again all of these prescribed uses have to be carried out by a certified physician you really don't want to start cowboying the use of modafinil or modafinil or any other prescription drug for that matter I must say that in discussing all these different drugs during today's episode I have zero knowledge of any of these drugs from a first-hand experience except for our modafinil back in 2017 I was prescribed a very very low dose of armodafinil for jet lag for daytime sleepiness issues really when I was traveling overseas to give a talk so our modafinil was given to me in a 25 milligram tablet it was advised to me that I take a half or even a quarter of that so I started with a quarter I am a believer in minimal effective dose I'm also somebody who's fairly hypersensitive to most medication so I took what I measured out to be five to seven milligrams of our modafinil and what I experienced was pretty profound certainly it relieved any daytime sleepiness in fact it made me feel extremely alert for a period of about four to six hours I can't say it was the most comfortable State although I did not feel as if I had racing heart or anything of that sort I basically felt as if I was in a narrow tunnel of attention for that entire period one thing I did not like about the experience is that it was a very hard experience to come down from there was no crash but I found that that high arousal State didn't taper off for many hours later even though it was most heightened for four hours I would say anywhere from 8 to 12 hours later I still felt like I was you know blinking once every four minutes or so and I've certainly been accused on this this podcast and at other times of blinking to seldom to my knowledge I don't have ADHD I've never been prescribed ADHD meds I've never been tested for ADHD I don't think I have ADHD and yet taking our modafinil certainly increased my levels of attention but at least by that one experience it's not something that I would want to repeat again I certainly would not want to be in that state for learning new material when I sit down to research a podcast or research papers in my lab or forage for information or learn from people or books or lectures or podcasts I want to be in a state of alertness but calm where I can really consider the ideas where I can script things out by hand I'm a big believer in writing things out by hand to remember them later drawing little diagrams I would not want to be in the state that even that very low dose of our modafinil put me in in order to learn and I should mention that both modafinil and armodafinil are associated with a good number of side effects if they don't agree with you or if the dosage is too high things like decreased appetite people get a run nose headache there's this instance of skin rashes in fact one of the reasons why modafinil and arm modafinil aren't more broadly prescribed is that there's a very rare skin condition in which people who have taken certain drugs not just modafin or arm modafinil have developed these very severe burn type blisters and in some cases this can be fatal this is again very rare and it was observed in at least one patient who took modafinil as part of a trial for modafinil as a treatment for ADHD it's called Stevens-Johnson syndrome please if you are squeamish to images of skin abrasions and lesions and things of that sort please don't look it up on the internet unless you're able to handle that and maybe not at all but the point here is that one of the reasons that modafinil in our modafinil are not more widely prescribed for ADHD and that it's still only prescribed off label is that Stephen Johnson syndrome was flagged as kind of a potential risk although the ADHD specialist that I spoke to are somewhat frustrated with that because they insist that the frequency of this syndrome that causes the skin rash that's sometimes fatal is no more frequent in those that took modafinil in this trial than with other drugs that have been approved so this gets into all sorts of issues around what drugs make it to approval and which ones don't and as we know modafinil and or modafinil are already being prescribed in the general population for other things this was dealing specifically with the question of whether or not it should be prescribed in kids with ADHD and certainly I am a proponent of exerting Extreme Caution when thinking about which drugs should be approved for the treatment of anybody but especially kids and to round out our discussion of drugs used for the treatment of ADHD that fall into let's call it the atypical category right the typical category being Adderall Vyvanse methylphenidate and things of that variety the less typical\", 'sentencepiece_token_length': 1776}, {'start': 6783.0, 'end': 7083.0, 'desc': 'Guanfacine, Alcohol', 'transcript': \"things of that variety the less typical would be modafinil armodafone proprion Wellbutrin and so forth the last in this category of atypical is guanfacine guanfacine is an interesting compound it's a compound that was developed to lower blood pressure and indeed it does lower blood pressure and it is an alpha 2A Agonist Alpha 2A being a receptor for norepinephrine so guanfacine is a non-stimulant medication to treat ADHD and it's also used to treat some other conditions as well that is only working on the noradrenergic system it is not tapping into the dopamine system but all the other stuff that we talked about is really ramping up dopamine and norepinephrine guanfacine is only increasing norepinephrine and it's doing so by what we say agonizing or stimulating one particular aspect of the noradrenergic system and that's the alpha 2A system what's interesting about guanfacine is that it has a bunch of Pathways that it activates that feed back onto the autonomic nervous system to dampen down the activation of the sympathetic nervous system so whereas most of what we talked about today are sympathomimetics they tend to make us more ramped up more aroused and alert guanfacine is doing the opposite and as a consequence it's not prescribed that often because a lot of times when people take guanfacine it either has no effect on ADHD symptoms or it tends to make people feel very sleepy however there's a small subset of individuals by about five to ten percent of people that try it including kids that do get some significant relief from their ADHD symptoms and they seem to tolerate guanfacine better than they're tolerating some of the other drugs that we've talked about up until now the way guanfacine works is also really interesting you're now familiar with the locus ceruleus this little packet or we call it a nucleus of neurons in the back of the brain that release norepine different at other sites in the brain and they're going to be those Alpha 2A receptors that guanfacine works on and stimulates lots of different places in the brain related to increasing salience and relevance of particular stimuli that we see and that we need to attend to it appears that guanfacine can activate the prefrontal cortical networks in ways that are above their normal Baseline so that's good so improvements in executive function that Orchestra or teacher-like function we talked about before and can increase the efficacy of that output from Locus ceruleus and what that seems to do is increase the coordinated firing of locus ceruleus neurons with prefrontal cortex so in many ways it's acting like a fine-tuning of that Orchestra conductor operation that is so valuable in teaching these brain circuits during childhood of how to attend to one thing and ignore everything else so this is one reason why guanfacine is now approved not just for adults with ADHD but it's primarily used in kids age 6 to 17 years old for the treatment of ADHD again with the hope that these kids can take the drug and these circuits can learn how to focus and how to attend to certain things and limit impulsivity and hyperactivity and then perhaps come off the drugs although sometimes again people have to stay on them indefinitely the other thing about guanfacine is that because it lowers blood pressure and it has this effect of kind of dampening down overall sympathetic arousal sometimes it is prescribed in conjunction with other ADHD meds so yes there are kids out there and adults out there who are taking Adderall and guanfacine where they're taking Vyvanse and guanfacine and this is where it starts to get into drug cocktails and a bunch of other things that gets everybody a little bit uncomfortable I think because the idea of taking one drug to dampen down the side effects of another drug and to offset things and compensate you know is getting towards what's called poly pharmacology and uh you know I think it's understandable that people be concerned about that and yet again in reviewing this with some of the experts on ADHD there do seem to be a certain category of children out there and adults who really struggle with the standard ADHD meds and in that case guanfacine has provided a certain number of these individuals tremendous relief one note about guanfacine in no way shape or form am I encouraging anyone who's not prescribed guanfacine to take it but should you know someone who's taking guanfacine off label in order to improve their focus or enhance any aspect of their biology or psychology please let them know that it has a profound effect on lowering the tolerance for alcohol such that even small amounts of alcohol can lead to really serious problems and even potentially death so that's a very serious warning with guanfacine so today we discussed a lot of different compounds for the treatment of ADHD and it now should become clear what the general themes of those compounds is the general theme is that they tend to increase overall levels of arousal and wakefulness which leads to decreased\", 'sentencepiece_token_length': 1170}, {'start': 7083.0, 'end': 7226.0, 'desc': 'ADHD Medications', 'transcript': \"wakefulness which leads to decreased levels of hyperactivity impulsivity and focus and on the face of it that might seem counter-intuitive raise arousal to reduce hyperactivity and impulsivity indeed that's the case because these compounds because they act on neuromodulator systems like dopamine and norepine epinephrine are effective in creating neuroplasticity they change the strength of the connections in the neural circuits of the brain that lead to states of heightened focus and reduced impulsivity and reduced hyperactivity so we talked about the different mechanisms by which the different medications for ADHD accomplish this both the typical sort like methylphenidate and adderall and vivance and some of the atypical compounds that are now being used in addition such as modafinil or modafinil guanfacine and Wellbutrin and where possible I tried to highlight both the short and long-term effects of these various compounds and I try to address some of the major concerns about these compounds most notably the question of why are we putting so many kids on amphetamine and what is the long-term consequence of that and throughout today's episode I tried to highlight both the immediate and long-term benefits but also the immediate and long-term risks that can exist with these compounds certainly when taken without a prescription recreationally there is a real risk for abuse and addiction as well as even a risk for psychotic episodes but also the risks that accompany long-term use of these drugs in people with ADHD and yet it is also clear that not treating the symptoms of ADHD carry significant risk as well and what's very clear from the scientific and clinical literature and is covered in a significant amount of detail in the episode that I did about ADHD which you can find at hubermanlab.com is that combinations of drug treatments and behavioral protocols seem to surpass either drug treatments or behavioral protocols alone speaking to the tremendous importance of combining multiple methodologies when treating ADHD and working with a board-certified psychiatrist who really understands ADHD and is really up to date on all the latest scientific and clinical literature if you're learning from and or enjoying this podcast please subscribe to our YouTube channel that's a terrific zero cost way to support us in addition please subscribe to the podcast on both Spotify and apple and on both Spotify and apple you can also leave us up to a\", 'sentencepiece_token_length': 542}], 'description': 'In this episode, I explain how medications such as Adderall, Ritalin, Vyvanse and other stimulants work to increase focus and treat attention-deficit/hyperactivity disorder (ADHD). I explain the brain circuits involved in focus and the key roles dopamine and norepinephrine play in their regulation. Then I explain how stimulants such as Adderall and Vyvanse can increase focus and reduce hyperactivity in kids or adults with ADHD, and how and why Ritalin and other medications (e.g., Modafinil, Guanfacine) may work better for some. I explain the long-term effects of ADHD medications on height, cardiovascular health, hormones, predisposition to addiction and psychosis, and whether these treatments can be used and then stopped. I also discuss the immense individual variation in dosage sensitivity for these medications and the negative side-effects that occur from recreational use. This episode ought to benefit anyone with ADHD, their parents, those on ADHD medications or anyone curious about how these medications work.', 'episode_length': 7226.0}\n"
     ]
    }
   ],
   "source": [
    "with open(INPUT_FILE_PATH, \"r\") as file:\n",
    "    data = json.load(file)\n",
    "    \n",
    "print(data[0])"
   ]
  },
  {
   "cell_type": "markdown",
   "metadata": {},
   "source": [
    "# What is the distribution of episodes across categories? (Overlaps Included)"
   ]
  },
  {
   "cell_type": "code",
   "execution_count": 4,
   "metadata": {},
   "outputs": [
    {
     "data": {
      "application/vnd.plotly.v1+json": {
       "config": {
        "plotlyServerURL": "https://plot.ly"
       },
       "data": [
        {
         "alignmentgroup": "True",
         "hovertemplate": "Count=%{x}<br>Categories=%{y}<extra></extra>",
         "legendgroup": "",
         "marker": {
          "color": "#636efa",
          "pattern": {
           "shape": ""
          }
         },
         "name": "",
         "offsetgroup": "",
         "orientation": "h",
         "showlegend": false,
         "textposition": "auto",
         "texttemplate": "%{x}",
         "type": "bar",
         "x": [
          2,
          2,
          3,
          3,
          4,
          5,
          6,
          6,
          7,
          7,
          9,
          9,
          11,
          14,
          17,
          17,
          18,
          19,
          20,
          20,
          26,
          29,
          31
         ],
         "xaxis": "x",
         "y": [
          "Caffeine Science",
          "Supplements",
          "Gut Health",
          "Alcohol, Tobacco & Cannabis",
          "Metabolism & Immunity",
          "Heat & Cold Exposure",
          "NSDR, Meditation & Rest",
          "None",
          "Fertility",
          "Light Exposure & Circadian Rhythm",
          "ADHD, Drive & Motivation",
          "Aging & Longevity",
          "Sleep",
          "Hormone Health",
          "Focus, Productivity & Creativity",
          "Nutrition",
          "Learning & Memory",
          "Emotions & Relationships",
          "The Science of Well-being",
          "Fitness & Recovery",
          "Neuroplasticity, Habits & Goals",
          "Mental Health & Addiction",
          "Neurobiology & Physiology"
         ],
         "yaxis": "y"
        }
       ],
       "layout": {
        "autosize": false,
        "barmode": "relative",
        "height": 800,
        "legend": {
         "tracegroupgap": 0
        },
        "margin": {
         "t": 60
        },
        "template": {
         "data": {
          "bar": [
           {
            "error_x": {
             "color": "#2a3f5f"
            },
            "error_y": {
             "color": "#2a3f5f"
            },
            "marker": {
             "line": {
              "color": "#E5ECF6",
              "width": 0.5
             },
             "pattern": {
              "fillmode": "overlay",
              "size": 10,
              "solidity": 0.2
             }
            },
            "type": "bar"
           }
          ],
          "barpolar": [
           {
            "marker": {
             "line": {
              "color": "#E5ECF6",
              "width": 0.5
             },
             "pattern": {
              "fillmode": "overlay",
              "size": 10,
              "solidity": 0.2
             }
            },
            "type": "barpolar"
           }
          ],
          "carpet": [
           {
            "aaxis": {
             "endlinecolor": "#2a3f5f",
             "gridcolor": "white",
             "linecolor": "white",
             "minorgridcolor": "white",
             "startlinecolor": "#2a3f5f"
            },
            "baxis": {
             "endlinecolor": "#2a3f5f",
             "gridcolor": "white",
             "linecolor": "white",
             "minorgridcolor": "white",
             "startlinecolor": "#2a3f5f"
            },
            "type": "carpet"
           }
          ],
          "choropleth": [
           {
            "colorbar": {
             "outlinewidth": 0,
             "ticks": ""
            },
            "type": "choropleth"
           }
          ],
          "contour": [
           {
            "colorbar": {
             "outlinewidth": 0,
             "ticks": ""
            },
            "colorscale": [
             [
              0,
              "#0d0887"
             ],
             [
              0.1111111111111111,
              "#46039f"
             ],
             [
              0.2222222222222222,
              "#7201a8"
             ],
             [
              0.3333333333333333,
              "#9c179e"
             ],
             [
              0.4444444444444444,
              "#bd3786"
             ],
             [
              0.5555555555555556,
              "#d8576b"
             ],
             [
              0.6666666666666666,
              "#ed7953"
             ],
             [
              0.7777777777777778,
              "#fb9f3a"
             ],
             [
              0.8888888888888888,
              "#fdca26"
             ],
             [
              1,
              "#f0f921"
             ]
            ],
            "type": "contour"
           }
          ],
          "contourcarpet": [
           {
            "colorbar": {
             "outlinewidth": 0,
             "ticks": ""
            },
            "type": "contourcarpet"
           }
          ],
          "heatmap": [
           {
            "colorbar": {
             "outlinewidth": 0,
             "ticks": ""
            },
            "colorscale": [
             [
              0,
              "#0d0887"
             ],
             [
              0.1111111111111111,
              "#46039f"
             ],
             [
              0.2222222222222222,
              "#7201a8"
             ],
             [
              0.3333333333333333,
              "#9c179e"
             ],
             [
              0.4444444444444444,
              "#bd3786"
             ],
             [
              0.5555555555555556,
              "#d8576b"
             ],
             [
              0.6666666666666666,
              "#ed7953"
             ],
             [
              0.7777777777777778,
              "#fb9f3a"
             ],
             [
              0.8888888888888888,
              "#fdca26"
             ],
             [
              1,
              "#f0f921"
             ]
            ],
            "type": "heatmap"
           }
          ],
          "heatmapgl": [
           {
            "colorbar": {
             "outlinewidth": 0,
             "ticks": ""
            },
            "colorscale": [
             [
              0,
              "#0d0887"
             ],
             [
              0.1111111111111111,
              "#46039f"
             ],
             [
              0.2222222222222222,
              "#7201a8"
             ],
             [
              0.3333333333333333,
              "#9c179e"
             ],
             [
              0.4444444444444444,
              "#bd3786"
             ],
             [
              0.5555555555555556,
              "#d8576b"
             ],
             [
              0.6666666666666666,
              "#ed7953"
             ],
             [
              0.7777777777777778,
              "#fb9f3a"
             ],
             [
              0.8888888888888888,
              "#fdca26"
             ],
             [
              1,
              "#f0f921"
             ]
            ],
            "type": "heatmapgl"
           }
          ],
          "histogram": [
           {
            "marker": {
             "pattern": {
              "fillmode": "overlay",
              "size": 10,
              "solidity": 0.2
             }
            },
            "type": "histogram"
           }
          ],
          "histogram2d": [
           {
            "colorbar": {
             "outlinewidth": 0,
             "ticks": ""
            },
            "colorscale": [
             [
              0,
              "#0d0887"
             ],
             [
              0.1111111111111111,
              "#46039f"
             ],
             [
              0.2222222222222222,
              "#7201a8"
             ],
             [
              0.3333333333333333,
              "#9c179e"
             ],
             [
              0.4444444444444444,
              "#bd3786"
             ],
             [
              0.5555555555555556,
              "#d8576b"
             ],
             [
              0.6666666666666666,
              "#ed7953"
             ],
             [
              0.7777777777777778,
              "#fb9f3a"
             ],
             [
              0.8888888888888888,
              "#fdca26"
             ],
             [
              1,
              "#f0f921"
             ]
            ],
            "type": "histogram2d"
           }
          ],
          "histogram2dcontour": [
           {
            "colorbar": {
             "outlinewidth": 0,
             "ticks": ""
            },
            "colorscale": [
             [
              0,
              "#0d0887"
             ],
             [
              0.1111111111111111,
              "#46039f"
             ],
             [
              0.2222222222222222,
              "#7201a8"
             ],
             [
              0.3333333333333333,
              "#9c179e"
             ],
             [
              0.4444444444444444,
              "#bd3786"
             ],
             [
              0.5555555555555556,
              "#d8576b"
             ],
             [
              0.6666666666666666,
              "#ed7953"
             ],
             [
              0.7777777777777778,
              "#fb9f3a"
             ],
             [
              0.8888888888888888,
              "#fdca26"
             ],
             [
              1,
              "#f0f921"
             ]
            ],
            "type": "histogram2dcontour"
           }
          ],
          "mesh3d": [
           {
            "colorbar": {
             "outlinewidth": 0,
             "ticks": ""
            },
            "type": "mesh3d"
           }
          ],
          "parcoords": [
           {
            "line": {
             "colorbar": {
              "outlinewidth": 0,
              "ticks": ""
             }
            },
            "type": "parcoords"
           }
          ],
          "pie": [
           {
            "automargin": true,
            "type": "pie"
           }
          ],
          "scatter": [
           {
            "fillpattern": {
             "fillmode": "overlay",
             "size": 10,
             "solidity": 0.2
            },
            "type": "scatter"
           }
          ],
          "scatter3d": [
           {
            "line": {
             "colorbar": {
              "outlinewidth": 0,
              "ticks": ""
             }
            },
            "marker": {
             "colorbar": {
              "outlinewidth": 0,
              "ticks": ""
             }
            },
            "type": "scatter3d"
           }
          ],
          "scattercarpet": [
           {
            "marker": {
             "colorbar": {
              "outlinewidth": 0,
              "ticks": ""
             }
            },
            "type": "scattercarpet"
           }
          ],
          "scattergeo": [
           {
            "marker": {
             "colorbar": {
              "outlinewidth": 0,
              "ticks": ""
             }
            },
            "type": "scattergeo"
           }
          ],
          "scattergl": [
           {
            "marker": {
             "colorbar": {
              "outlinewidth": 0,
              "ticks": ""
             }
            },
            "type": "scattergl"
           }
          ],
          "scattermapbox": [
           {
            "marker": {
             "colorbar": {
              "outlinewidth": 0,
              "ticks": ""
             }
            },
            "type": "scattermapbox"
           }
          ],
          "scatterpolar": [
           {
            "marker": {
             "colorbar": {
              "outlinewidth": 0,
              "ticks": ""
             }
            },
            "type": "scatterpolar"
           }
          ],
          "scatterpolargl": [
           {
            "marker": {
             "colorbar": {
              "outlinewidth": 0,
              "ticks": ""
             }
            },
            "type": "scatterpolargl"
           }
          ],
          "scatterternary": [
           {
            "marker": {
             "colorbar": {
              "outlinewidth": 0,
              "ticks": ""
             }
            },
            "type": "scatterternary"
           }
          ],
          "surface": [
           {
            "colorbar": {
             "outlinewidth": 0,
             "ticks": ""
            },
            "colorscale": [
             [
              0,
              "#0d0887"
             ],
             [
              0.1111111111111111,
              "#46039f"
             ],
             [
              0.2222222222222222,
              "#7201a8"
             ],
             [
              0.3333333333333333,
              "#9c179e"
             ],
             [
              0.4444444444444444,
              "#bd3786"
             ],
             [
              0.5555555555555556,
              "#d8576b"
             ],
             [
              0.6666666666666666,
              "#ed7953"
             ],
             [
              0.7777777777777778,
              "#fb9f3a"
             ],
             [
              0.8888888888888888,
              "#fdca26"
             ],
             [
              1,
              "#f0f921"
             ]
            ],
            "type": "surface"
           }
          ],
          "table": [
           {
            "cells": {
             "fill": {
              "color": "#EBF0F8"
             },
             "line": {
              "color": "white"
             }
            },
            "header": {
             "fill": {
              "color": "#C8D4E3"
             },
             "line": {
              "color": "white"
             }
            },
            "type": "table"
           }
          ]
         },
         "layout": {
          "annotationdefaults": {
           "arrowcolor": "#2a3f5f",
           "arrowhead": 0,
           "arrowwidth": 1
          },
          "autotypenumbers": "strict",
          "coloraxis": {
           "colorbar": {
            "outlinewidth": 0,
            "ticks": ""
           }
          },
          "colorscale": {
           "diverging": [
            [
             0,
             "#8e0152"
            ],
            [
             0.1,
             "#c51b7d"
            ],
            [
             0.2,
             "#de77ae"
            ],
            [
             0.3,
             "#f1b6da"
            ],
            [
             0.4,
             "#fde0ef"
            ],
            [
             0.5,
             "#f7f7f7"
            ],
            [
             0.6,
             "#e6f5d0"
            ],
            [
             0.7,
             "#b8e186"
            ],
            [
             0.8,
             "#7fbc41"
            ],
            [
             0.9,
             "#4d9221"
            ],
            [
             1,
             "#276419"
            ]
           ],
           "sequential": [
            [
             0,
             "#0d0887"
            ],
            [
             0.1111111111111111,
             "#46039f"
            ],
            [
             0.2222222222222222,
             "#7201a8"
            ],
            [
             0.3333333333333333,
             "#9c179e"
            ],
            [
             0.4444444444444444,
             "#bd3786"
            ],
            [
             0.5555555555555556,
             "#d8576b"
            ],
            [
             0.6666666666666666,
             "#ed7953"
            ],
            [
             0.7777777777777778,
             "#fb9f3a"
            ],
            [
             0.8888888888888888,
             "#fdca26"
            ],
            [
             1,
             "#f0f921"
            ]
           ],
           "sequentialminus": [
            [
             0,
             "#0d0887"
            ],
            [
             0.1111111111111111,
             "#46039f"
            ],
            [
             0.2222222222222222,
             "#7201a8"
            ],
            [
             0.3333333333333333,
             "#9c179e"
            ],
            [
             0.4444444444444444,
             "#bd3786"
            ],
            [
             0.5555555555555556,
             "#d8576b"
            ],
            [
             0.6666666666666666,
             "#ed7953"
            ],
            [
             0.7777777777777778,
             "#fb9f3a"
            ],
            [
             0.8888888888888888,
             "#fdca26"
            ],
            [
             1,
             "#f0f921"
            ]
           ]
          },
          "colorway": [
           "#636efa",
           "#EF553B",
           "#00cc96",
           "#ab63fa",
           "#FFA15A",
           "#19d3f3",
           "#FF6692",
           "#B6E880",
           "#FF97FF",
           "#FECB52"
          ],
          "font": {
           "color": "#2a3f5f"
          },
          "geo": {
           "bgcolor": "white",
           "lakecolor": "white",
           "landcolor": "#E5ECF6",
           "showlakes": true,
           "showland": true,
           "subunitcolor": "white"
          },
          "hoverlabel": {
           "align": "left"
          },
          "hovermode": "closest",
          "mapbox": {
           "style": "light"
          },
          "paper_bgcolor": "white",
          "plot_bgcolor": "#E5ECF6",
          "polar": {
           "angularaxis": {
            "gridcolor": "white",
            "linecolor": "white",
            "ticks": ""
           },
           "bgcolor": "#E5ECF6",
           "radialaxis": {
            "gridcolor": "white",
            "linecolor": "white",
            "ticks": ""
           }
          },
          "scene": {
           "xaxis": {
            "backgroundcolor": "#E5ECF6",
            "gridcolor": "white",
            "gridwidth": 2,
            "linecolor": "white",
            "showbackground": true,
            "ticks": "",
            "zerolinecolor": "white"
           },
           "yaxis": {
            "backgroundcolor": "#E5ECF6",
            "gridcolor": "white",
            "gridwidth": 2,
            "linecolor": "white",
            "showbackground": true,
            "ticks": "",
            "zerolinecolor": "white"
           },
           "zaxis": {
            "backgroundcolor": "#E5ECF6",
            "gridcolor": "white",
            "gridwidth": 2,
            "linecolor": "white",
            "showbackground": true,
            "ticks": "",
            "zerolinecolor": "white"
           }
          },
          "shapedefaults": {
           "line": {
            "color": "#2a3f5f"
           }
          },
          "ternary": {
           "aaxis": {
            "gridcolor": "white",
            "linecolor": "white",
            "ticks": ""
           },
           "baxis": {
            "gridcolor": "white",
            "linecolor": "white",
            "ticks": ""
           },
           "bgcolor": "#E5ECF6",
           "caxis": {
            "gridcolor": "white",
            "linecolor": "white",
            "ticks": ""
           }
          },
          "title": {
           "x": 0.05
          },
          "xaxis": {
           "automargin": true,
           "gridcolor": "white",
           "linecolor": "white",
           "ticks": "",
           "title": {
            "standoff": 15
           },
           "zerolinecolor": "white",
           "zerolinewidth": 2
          },
          "yaxis": {
           "automargin": true,
           "gridcolor": "white",
           "linecolor": "white",
           "ticks": "",
           "title": {
            "standoff": 15
           },
           "zerolinecolor": "white",
           "zerolinewidth": 2
          }
         }
        },
        "title": {
         "text": "What is the distribution of episodes across categories? (Overlaps Included)"
        },
        "width": 800,
        "xaxis": {
         "anchor": "y",
         "domain": [
          0,
          1
         ],
         "title": {
          "text": "Count"
         }
        },
        "yaxis": {
         "anchor": "x",
         "domain": [
          0,
          1
         ],
         "title": {
          "text": "Categories"
         }
        }
       }
      }
     },
     "metadata": {},
     "output_type": "display_data"
    }
   ],
   "source": [
    "topics_dict = defaultdict(int)\n",
    "\n",
    "for episode in data:\n",
    "    topics = episode[\"topics\"]\n",
    "    if not topics:\n",
    "        topics_dict[\"None\"] += 1\n",
    "    else:\n",
    "        for topic in topics:\n",
    "            topics_dict[topic] += 1\n",
    "\n",
    "topics_dict = dict(sorted(topics_dict.items(), key=lambda item: item[1], reverse=False))\n",
    "fig = px.bar(\n",
    "    y=list(topics_dict.keys()),\n",
    "    x=list(topics_dict.values()),\n",
    "    labels={'y':'Categories', 'x':'Count'},\n",
    "    orientation='h',\n",
    "    text_auto=True)\n",
    "fig.update_layout(autosize=False, width=800, height=800, title='What is the distribution of episodes across categories? (Overlaps Included)')\n",
    "fig.show()"
   ]
  },
  {
   "cell_type": "markdown",
   "metadata": {},
   "source": [
    "# What is the distribution of episodes across publish years?"
   ]
  },
  {
   "cell_type": "code",
   "execution_count": 5,
   "metadata": {},
   "outputs": [
    {
     "data": {
      "application/vnd.plotly.v1+json": {
       "config": {
        "plotlyServerURL": "https://plot.ly"
       },
       "data": [
        {
         "alignmentgroup": "True",
         "hovertemplate": "Count=%{x}<br>Year=%{y}<extra></extra>",
         "legendgroup": "",
         "marker": {
          "color": "#636efa",
          "pattern": {
           "shape": ""
          }
         },
         "name": "",
         "offsetgroup": "",
         "orientation": "h",
         "showlegend": false,
         "textposition": "auto",
         "texttemplate": "%{x}",
         "type": "bar",
         "x": [
          1,
          2,
          52,
          53,
          64
         ],
         "xaxis": "x",
         "y": [
          "2020",
          "None",
          "2021",
          "2022",
          "2023"
         ],
         "yaxis": "y"
        }
       ],
       "layout": {
        "barmode": "relative",
        "legend": {
         "tracegroupgap": 0
        },
        "margin": {
         "t": 60
        },
        "template": {
         "data": {
          "bar": [
           {
            "error_x": {
             "color": "#2a3f5f"
            },
            "error_y": {
             "color": "#2a3f5f"
            },
            "marker": {
             "line": {
              "color": "#E5ECF6",
              "width": 0.5
             },
             "pattern": {
              "fillmode": "overlay",
              "size": 10,
              "solidity": 0.2
             }
            },
            "type": "bar"
           }
          ],
          "barpolar": [
           {
            "marker": {
             "line": {
              "color": "#E5ECF6",
              "width": 0.5
             },
             "pattern": {
              "fillmode": "overlay",
              "size": 10,
              "solidity": 0.2
             }
            },
            "type": "barpolar"
           }
          ],
          "carpet": [
           {
            "aaxis": {
             "endlinecolor": "#2a3f5f",
             "gridcolor": "white",
             "linecolor": "white",
             "minorgridcolor": "white",
             "startlinecolor": "#2a3f5f"
            },
            "baxis": {
             "endlinecolor": "#2a3f5f",
             "gridcolor": "white",
             "linecolor": "white",
             "minorgridcolor": "white",
             "startlinecolor": "#2a3f5f"
            },
            "type": "carpet"
           }
          ],
          "choropleth": [
           {
            "colorbar": {
             "outlinewidth": 0,
             "ticks": ""
            },
            "type": "choropleth"
           }
          ],
          "contour": [
           {
            "colorbar": {
             "outlinewidth": 0,
             "ticks": ""
            },
            "colorscale": [
             [
              0,
              "#0d0887"
             ],
             [
              0.1111111111111111,
              "#46039f"
             ],
             [
              0.2222222222222222,
              "#7201a8"
             ],
             [
              0.3333333333333333,
              "#9c179e"
             ],
             [
              0.4444444444444444,
              "#bd3786"
             ],
             [
              0.5555555555555556,
              "#d8576b"
             ],
             [
              0.6666666666666666,
              "#ed7953"
             ],
             [
              0.7777777777777778,
              "#fb9f3a"
             ],
             [
              0.8888888888888888,
              "#fdca26"
             ],
             [
              1,
              "#f0f921"
             ]
            ],
            "type": "contour"
           }
          ],
          "contourcarpet": [
           {
            "colorbar": {
             "outlinewidth": 0,
             "ticks": ""
            },
            "type": "contourcarpet"
           }
          ],
          "heatmap": [
           {
            "colorbar": {
             "outlinewidth": 0,
             "ticks": ""
            },
            "colorscale": [
             [
              0,
              "#0d0887"
             ],
             [
              0.1111111111111111,
              "#46039f"
             ],
             [
              0.2222222222222222,
              "#7201a8"
             ],
             [
              0.3333333333333333,
              "#9c179e"
             ],
             [
              0.4444444444444444,
              "#bd3786"
             ],
             [
              0.5555555555555556,
              "#d8576b"
             ],
             [
              0.6666666666666666,
              "#ed7953"
             ],
             [
              0.7777777777777778,
              "#fb9f3a"
             ],
             [
              0.8888888888888888,
              "#fdca26"
             ],
             [
              1,
              "#f0f921"
             ]
            ],
            "type": "heatmap"
           }
          ],
          "heatmapgl": [
           {
            "colorbar": {
             "outlinewidth": 0,
             "ticks": ""
            },
            "colorscale": [
             [
              0,
              "#0d0887"
             ],
             [
              0.1111111111111111,
              "#46039f"
             ],
             [
              0.2222222222222222,
              "#7201a8"
             ],
             [
              0.3333333333333333,
              "#9c179e"
             ],
             [
              0.4444444444444444,
              "#bd3786"
             ],
             [
              0.5555555555555556,
              "#d8576b"
             ],
             [
              0.6666666666666666,
              "#ed7953"
             ],
             [
              0.7777777777777778,
              "#fb9f3a"
             ],
             [
              0.8888888888888888,
              "#fdca26"
             ],
             [
              1,
              "#f0f921"
             ]
            ],
            "type": "heatmapgl"
           }
          ],
          "histogram": [
           {
            "marker": {
             "pattern": {
              "fillmode": "overlay",
              "size": 10,
              "solidity": 0.2
             }
            },
            "type": "histogram"
           }
          ],
          "histogram2d": [
           {
            "colorbar": {
             "outlinewidth": 0,
             "ticks": ""
            },
            "colorscale": [
             [
              0,
              "#0d0887"
             ],
             [
              0.1111111111111111,
              "#46039f"
             ],
             [
              0.2222222222222222,
              "#7201a8"
             ],
             [
              0.3333333333333333,
              "#9c179e"
             ],
             [
              0.4444444444444444,
              "#bd3786"
             ],
             [
              0.5555555555555556,
              "#d8576b"
             ],
             [
              0.6666666666666666,
              "#ed7953"
             ],
             [
              0.7777777777777778,
              "#fb9f3a"
             ],
             [
              0.8888888888888888,
              "#fdca26"
             ],
             [
              1,
              "#f0f921"
             ]
            ],
            "type": "histogram2d"
           }
          ],
          "histogram2dcontour": [
           {
            "colorbar": {
             "outlinewidth": 0,
             "ticks": ""
            },
            "colorscale": [
             [
              0,
              "#0d0887"
             ],
             [
              0.1111111111111111,
              "#46039f"
             ],
             [
              0.2222222222222222,
              "#7201a8"
             ],
             [
              0.3333333333333333,
              "#9c179e"
             ],
             [
              0.4444444444444444,
              "#bd3786"
             ],
             [
              0.5555555555555556,
              "#d8576b"
             ],
             [
              0.6666666666666666,
              "#ed7953"
             ],
             [
              0.7777777777777778,
              "#fb9f3a"
             ],
             [
              0.8888888888888888,
              "#fdca26"
             ],
             [
              1,
              "#f0f921"
             ]
            ],
            "type": "histogram2dcontour"
           }
          ],
          "mesh3d": [
           {
            "colorbar": {
             "outlinewidth": 0,
             "ticks": ""
            },
            "type": "mesh3d"
           }
          ],
          "parcoords": [
           {
            "line": {
             "colorbar": {
              "outlinewidth": 0,
              "ticks": ""
             }
            },
            "type": "parcoords"
           }
          ],
          "pie": [
           {
            "automargin": true,
            "type": "pie"
           }
          ],
          "scatter": [
           {
            "fillpattern": {
             "fillmode": "overlay",
             "size": 10,
             "solidity": 0.2
            },
            "type": "scatter"
           }
          ],
          "scatter3d": [
           {
            "line": {
             "colorbar": {
              "outlinewidth": 0,
              "ticks": ""
             }
            },
            "marker": {
             "colorbar": {
              "outlinewidth": 0,
              "ticks": ""
             }
            },
            "type": "scatter3d"
           }
          ],
          "scattercarpet": [
           {
            "marker": {
             "colorbar": {
              "outlinewidth": 0,
              "ticks": ""
             }
            },
            "type": "scattercarpet"
           }
          ],
          "scattergeo": [
           {
            "marker": {
             "colorbar": {
              "outlinewidth": 0,
              "ticks": ""
             }
            },
            "type": "scattergeo"
           }
          ],
          "scattergl": [
           {
            "marker": {
             "colorbar": {
              "outlinewidth": 0,
              "ticks": ""
             }
            },
            "type": "scattergl"
           }
          ],
          "scattermapbox": [
           {
            "marker": {
             "colorbar": {
              "outlinewidth": 0,
              "ticks": ""
             }
            },
            "type": "scattermapbox"
           }
          ],
          "scatterpolar": [
           {
            "marker": {
             "colorbar": {
              "outlinewidth": 0,
              "ticks": ""
             }
            },
            "type": "scatterpolar"
           }
          ],
          "scatterpolargl": [
           {
            "marker": {
             "colorbar": {
              "outlinewidth": 0,
              "ticks": ""
             }
            },
            "type": "scatterpolargl"
           }
          ],
          "scatterternary": [
           {
            "marker": {
             "colorbar": {
              "outlinewidth": 0,
              "ticks": ""
             }
            },
            "type": "scatterternary"
           }
          ],
          "surface": [
           {
            "colorbar": {
             "outlinewidth": 0,
             "ticks": ""
            },
            "colorscale": [
             [
              0,
              "#0d0887"
             ],
             [
              0.1111111111111111,
              "#46039f"
             ],
             [
              0.2222222222222222,
              "#7201a8"
             ],
             [
              0.3333333333333333,
              "#9c179e"
             ],
             [
              0.4444444444444444,
              "#bd3786"
             ],
             [
              0.5555555555555556,
              "#d8576b"
             ],
             [
              0.6666666666666666,
              "#ed7953"
             ],
             [
              0.7777777777777778,
              "#fb9f3a"
             ],
             [
              0.8888888888888888,
              "#fdca26"
             ],
             [
              1,
              "#f0f921"
             ]
            ],
            "type": "surface"
           }
          ],
          "table": [
           {
            "cells": {
             "fill": {
              "color": "#EBF0F8"
             },
             "line": {
              "color": "white"
             }
            },
            "header": {
             "fill": {
              "color": "#C8D4E3"
             },
             "line": {
              "color": "white"
             }
            },
            "type": "table"
           }
          ]
         },
         "layout": {
          "annotationdefaults": {
           "arrowcolor": "#2a3f5f",
           "arrowhead": 0,
           "arrowwidth": 1
          },
          "autotypenumbers": "strict",
          "coloraxis": {
           "colorbar": {
            "outlinewidth": 0,
            "ticks": ""
           }
          },
          "colorscale": {
           "diverging": [
            [
             0,
             "#8e0152"
            ],
            [
             0.1,
             "#c51b7d"
            ],
            [
             0.2,
             "#de77ae"
            ],
            [
             0.3,
             "#f1b6da"
            ],
            [
             0.4,
             "#fde0ef"
            ],
            [
             0.5,
             "#f7f7f7"
            ],
            [
             0.6,
             "#e6f5d0"
            ],
            [
             0.7,
             "#b8e186"
            ],
            [
             0.8,
             "#7fbc41"
            ],
            [
             0.9,
             "#4d9221"
            ],
            [
             1,
             "#276419"
            ]
           ],
           "sequential": [
            [
             0,
             "#0d0887"
            ],
            [
             0.1111111111111111,
             "#46039f"
            ],
            [
             0.2222222222222222,
             "#7201a8"
            ],
            [
             0.3333333333333333,
             "#9c179e"
            ],
            [
             0.4444444444444444,
             "#bd3786"
            ],
            [
             0.5555555555555556,
             "#d8576b"
            ],
            [
             0.6666666666666666,
             "#ed7953"
            ],
            [
             0.7777777777777778,
             "#fb9f3a"
            ],
            [
             0.8888888888888888,
             "#fdca26"
            ],
            [
             1,
             "#f0f921"
            ]
           ],
           "sequentialminus": [
            [
             0,
             "#0d0887"
            ],
            [
             0.1111111111111111,
             "#46039f"
            ],
            [
             0.2222222222222222,
             "#7201a8"
            ],
            [
             0.3333333333333333,
             "#9c179e"
            ],
            [
             0.4444444444444444,
             "#bd3786"
            ],
            [
             0.5555555555555556,
             "#d8576b"
            ],
            [
             0.6666666666666666,
             "#ed7953"
            ],
            [
             0.7777777777777778,
             "#fb9f3a"
            ],
            [
             0.8888888888888888,
             "#fdca26"
            ],
            [
             1,
             "#f0f921"
            ]
           ]
          },
          "colorway": [
           "#636efa",
           "#EF553B",
           "#00cc96",
           "#ab63fa",
           "#FFA15A",
           "#19d3f3",
           "#FF6692",
           "#B6E880",
           "#FF97FF",
           "#FECB52"
          ],
          "font": {
           "color": "#2a3f5f"
          },
          "geo": {
           "bgcolor": "white",
           "lakecolor": "white",
           "landcolor": "#E5ECF6",
           "showlakes": true,
           "showland": true,
           "subunitcolor": "white"
          },
          "hoverlabel": {
           "align": "left"
          },
          "hovermode": "closest",
          "mapbox": {
           "style": "light"
          },
          "paper_bgcolor": "white",
          "plot_bgcolor": "#E5ECF6",
          "polar": {
           "angularaxis": {
            "gridcolor": "white",
            "linecolor": "white",
            "ticks": ""
           },
           "bgcolor": "#E5ECF6",
           "radialaxis": {
            "gridcolor": "white",
            "linecolor": "white",
            "ticks": ""
           }
          },
          "scene": {
           "xaxis": {
            "backgroundcolor": "#E5ECF6",
            "gridcolor": "white",
            "gridwidth": 2,
            "linecolor": "white",
            "showbackground": true,
            "ticks": "",
            "zerolinecolor": "white"
           },
           "yaxis": {
            "backgroundcolor": "#E5ECF6",
            "gridcolor": "white",
            "gridwidth": 2,
            "linecolor": "white",
            "showbackground": true,
            "ticks": "",
            "zerolinecolor": "white"
           },
           "zaxis": {
            "backgroundcolor": "#E5ECF6",
            "gridcolor": "white",
            "gridwidth": 2,
            "linecolor": "white",
            "showbackground": true,
            "ticks": "",
            "zerolinecolor": "white"
           }
          },
          "shapedefaults": {
           "line": {
            "color": "#2a3f5f"
           }
          },
          "ternary": {
           "aaxis": {
            "gridcolor": "white",
            "linecolor": "white",
            "ticks": ""
           },
           "baxis": {
            "gridcolor": "white",
            "linecolor": "white",
            "ticks": ""
           },
           "bgcolor": "#E5ECF6",
           "caxis": {
            "gridcolor": "white",
            "linecolor": "white",
            "ticks": ""
           }
          },
          "title": {
           "x": 0.05
          },
          "xaxis": {
           "automargin": true,
           "gridcolor": "white",
           "linecolor": "white",
           "ticks": "",
           "title": {
            "standoff": 15
           },
           "zerolinecolor": "white",
           "zerolinewidth": 2
          },
          "yaxis": {
           "automargin": true,
           "gridcolor": "white",
           "linecolor": "white",
           "ticks": "",
           "title": {
            "standoff": 15
           },
           "zerolinecolor": "white",
           "zerolinewidth": 2
          }
         }
        },
        "title": {
         "text": "What is the distribution of episodes across publish years?"
        },
        "xaxis": {
         "anchor": "y",
         "domain": [
          0,
          1
         ],
         "title": {
          "text": "Count"
         }
        },
        "yaxis": {
         "anchor": "x",
         "domain": [
          0,
          1
         ],
         "title": {
          "text": "Year"
         }
        }
       }
      }
     },
     "metadata": {},
     "output_type": "display_data"
    }
   ],
   "source": [
    "year_dict = defaultdict(int)\n",
    "\n",
    "for episode in data:\n",
    "    created = episode[\"created\"]\n",
    "    \n",
    "    if not created:\n",
    "        year_dict[\"None\"] += 1\n",
    "    else:\n",
    "        year = str(parse(created).year)\n",
    "        year_dict[year] += 1\n",
    "\n",
    "year_dict = dict(sorted(year_dict.items(), key=lambda item: item[1], reverse=False))\n",
    "fig = px.bar(\n",
    "    y=list(year_dict.keys()),\n",
    "    x=list(year_dict.values()),\n",
    "    labels={'y':'Year', 'x':'Count'},\n",
    "    orientation='h',\n",
    "    text_auto=True)\n",
    "fig.update_layout(title='What is the distribution of episodes across publish years?')\n",
    "fig.show()"
   ]
  },
  {
   "cell_type": "markdown",
   "metadata": {},
   "source": [
    "# What is the distribution of episodes with guests?"
   ]
  },
  {
   "cell_type": "code",
   "execution_count": 6,
   "metadata": {},
   "outputs": [
    {
     "data": {
      "application/vnd.plotly.v1+json": {
       "config": {
        "plotlyServerURL": "https://plot.ly"
       },
       "data": [
        {
         "alignmentgroup": "True",
         "hovertemplate": "Count=%{x}<br>Guest=%{y}<extra></extra>",
         "legendgroup": "",
         "marker": {
          "color": "#636efa",
          "pattern": {
           "shape": ""
          }
         },
         "name": "",
         "offsetgroup": "",
         "orientation": "h",
         "showlegend": false,
         "textposition": "auto",
         "texttemplate": "%{x}",
         "type": "bar",
         "x": [
          72,
          100
         ],
         "xaxis": "x",
         "y": [
          "Guest",
          "No Guest"
         ],
         "yaxis": "y"
        }
       ],
       "layout": {
        "barmode": "relative",
        "legend": {
         "tracegroupgap": 0
        },
        "margin": {
         "t": 60
        },
        "template": {
         "data": {
          "bar": [
           {
            "error_x": {
             "color": "#2a3f5f"
            },
            "error_y": {
             "color": "#2a3f5f"
            },
            "marker": {
             "line": {
              "color": "#E5ECF6",
              "width": 0.5
             },
             "pattern": {
              "fillmode": "overlay",
              "size": 10,
              "solidity": 0.2
             }
            },
            "type": "bar"
           }
          ],
          "barpolar": [
           {
            "marker": {
             "line": {
              "color": "#E5ECF6",
              "width": 0.5
             },
             "pattern": {
              "fillmode": "overlay",
              "size": 10,
              "solidity": 0.2
             }
            },
            "type": "barpolar"
           }
          ],
          "carpet": [
           {
            "aaxis": {
             "endlinecolor": "#2a3f5f",
             "gridcolor": "white",
             "linecolor": "white",
             "minorgridcolor": "white",
             "startlinecolor": "#2a3f5f"
            },
            "baxis": {
             "endlinecolor": "#2a3f5f",
             "gridcolor": "white",
             "linecolor": "white",
             "minorgridcolor": "white",
             "startlinecolor": "#2a3f5f"
            },
            "type": "carpet"
           }
          ],
          "choropleth": [
           {
            "colorbar": {
             "outlinewidth": 0,
             "ticks": ""
            },
            "type": "choropleth"
           }
          ],
          "contour": [
           {
            "colorbar": {
             "outlinewidth": 0,
             "ticks": ""
            },
            "colorscale": [
             [
              0,
              "#0d0887"
             ],
             [
              0.1111111111111111,
              "#46039f"
             ],
             [
              0.2222222222222222,
              "#7201a8"
             ],
             [
              0.3333333333333333,
              "#9c179e"
             ],
             [
              0.4444444444444444,
              "#bd3786"
             ],
             [
              0.5555555555555556,
              "#d8576b"
             ],
             [
              0.6666666666666666,
              "#ed7953"
             ],
             [
              0.7777777777777778,
              "#fb9f3a"
             ],
             [
              0.8888888888888888,
              "#fdca26"
             ],
             [
              1,
              "#f0f921"
             ]
            ],
            "type": "contour"
           }
          ],
          "contourcarpet": [
           {
            "colorbar": {
             "outlinewidth": 0,
             "ticks": ""
            },
            "type": "contourcarpet"
           }
          ],
          "heatmap": [
           {
            "colorbar": {
             "outlinewidth": 0,
             "ticks": ""
            },
            "colorscale": [
             [
              0,
              "#0d0887"
             ],
             [
              0.1111111111111111,
              "#46039f"
             ],
             [
              0.2222222222222222,
              "#7201a8"
             ],
             [
              0.3333333333333333,
              "#9c179e"
             ],
             [
              0.4444444444444444,
              "#bd3786"
             ],
             [
              0.5555555555555556,
              "#d8576b"
             ],
             [
              0.6666666666666666,
              "#ed7953"
             ],
             [
              0.7777777777777778,
              "#fb9f3a"
             ],
             [
              0.8888888888888888,
              "#fdca26"
             ],
             [
              1,
              "#f0f921"
             ]
            ],
            "type": "heatmap"
           }
          ],
          "heatmapgl": [
           {
            "colorbar": {
             "outlinewidth": 0,
             "ticks": ""
            },
            "colorscale": [
             [
              0,
              "#0d0887"
             ],
             [
              0.1111111111111111,
              "#46039f"
             ],
             [
              0.2222222222222222,
              "#7201a8"
             ],
             [
              0.3333333333333333,
              "#9c179e"
             ],
             [
              0.4444444444444444,
              "#bd3786"
             ],
             [
              0.5555555555555556,
              "#d8576b"
             ],
             [
              0.6666666666666666,
              "#ed7953"
             ],
             [
              0.7777777777777778,
              "#fb9f3a"
             ],
             [
              0.8888888888888888,
              "#fdca26"
             ],
             [
              1,
              "#f0f921"
             ]
            ],
            "type": "heatmapgl"
           }
          ],
          "histogram": [
           {
            "marker": {
             "pattern": {
              "fillmode": "overlay",
              "size": 10,
              "solidity": 0.2
             }
            },
            "type": "histogram"
           }
          ],
          "histogram2d": [
           {
            "colorbar": {
             "outlinewidth": 0,
             "ticks": ""
            },
            "colorscale": [
             [
              0,
              "#0d0887"
             ],
             [
              0.1111111111111111,
              "#46039f"
             ],
             [
              0.2222222222222222,
              "#7201a8"
             ],
             [
              0.3333333333333333,
              "#9c179e"
             ],
             [
              0.4444444444444444,
              "#bd3786"
             ],
             [
              0.5555555555555556,
              "#d8576b"
             ],
             [
              0.6666666666666666,
              "#ed7953"
             ],
             [
              0.7777777777777778,
              "#fb9f3a"
             ],
             [
              0.8888888888888888,
              "#fdca26"
             ],
             [
              1,
              "#f0f921"
             ]
            ],
            "type": "histogram2d"
           }
          ],
          "histogram2dcontour": [
           {
            "colorbar": {
             "outlinewidth": 0,
             "ticks": ""
            },
            "colorscale": [
             [
              0,
              "#0d0887"
             ],
             [
              0.1111111111111111,
              "#46039f"
             ],
             [
              0.2222222222222222,
              "#7201a8"
             ],
             [
              0.3333333333333333,
              "#9c179e"
             ],
             [
              0.4444444444444444,
              "#bd3786"
             ],
             [
              0.5555555555555556,
              "#d8576b"
             ],
             [
              0.6666666666666666,
              "#ed7953"
             ],
             [
              0.7777777777777778,
              "#fb9f3a"
             ],
             [
              0.8888888888888888,
              "#fdca26"
             ],
             [
              1,
              "#f0f921"
             ]
            ],
            "type": "histogram2dcontour"
           }
          ],
          "mesh3d": [
           {
            "colorbar": {
             "outlinewidth": 0,
             "ticks": ""
            },
            "type": "mesh3d"
           }
          ],
          "parcoords": [
           {
            "line": {
             "colorbar": {
              "outlinewidth": 0,
              "ticks": ""
             }
            },
            "type": "parcoords"
           }
          ],
          "pie": [
           {
            "automargin": true,
            "type": "pie"
           }
          ],
          "scatter": [
           {
            "fillpattern": {
             "fillmode": "overlay",
             "size": 10,
             "solidity": 0.2
            },
            "type": "scatter"
           }
          ],
          "scatter3d": [
           {
            "line": {
             "colorbar": {
              "outlinewidth": 0,
              "ticks": ""
             }
            },
            "marker": {
             "colorbar": {
              "outlinewidth": 0,
              "ticks": ""
             }
            },
            "type": "scatter3d"
           }
          ],
          "scattercarpet": [
           {
            "marker": {
             "colorbar": {
              "outlinewidth": 0,
              "ticks": ""
             }
            },
            "type": "scattercarpet"
           }
          ],
          "scattergeo": [
           {
            "marker": {
             "colorbar": {
              "outlinewidth": 0,
              "ticks": ""
             }
            },
            "type": "scattergeo"
           }
          ],
          "scattergl": [
           {
            "marker": {
             "colorbar": {
              "outlinewidth": 0,
              "ticks": ""
             }
            },
            "type": "scattergl"
           }
          ],
          "scattermapbox": [
           {
            "marker": {
             "colorbar": {
              "outlinewidth": 0,
              "ticks": ""
             }
            },
            "type": "scattermapbox"
           }
          ],
          "scatterpolar": [
           {
            "marker": {
             "colorbar": {
              "outlinewidth": 0,
              "ticks": ""
             }
            },
            "type": "scatterpolar"
           }
          ],
          "scatterpolargl": [
           {
            "marker": {
             "colorbar": {
              "outlinewidth": 0,
              "ticks": ""
             }
            },
            "type": "scatterpolargl"
           }
          ],
          "scatterternary": [
           {
            "marker": {
             "colorbar": {
              "outlinewidth": 0,
              "ticks": ""
             }
            },
            "type": "scatterternary"
           }
          ],
          "surface": [
           {
            "colorbar": {
             "outlinewidth": 0,
             "ticks": ""
            },
            "colorscale": [
             [
              0,
              "#0d0887"
             ],
             [
              0.1111111111111111,
              "#46039f"
             ],
             [
              0.2222222222222222,
              "#7201a8"
             ],
             [
              0.3333333333333333,
              "#9c179e"
             ],
             [
              0.4444444444444444,
              "#bd3786"
             ],
             [
              0.5555555555555556,
              "#d8576b"
             ],
             [
              0.6666666666666666,
              "#ed7953"
             ],
             [
              0.7777777777777778,
              "#fb9f3a"
             ],
             [
              0.8888888888888888,
              "#fdca26"
             ],
             [
              1,
              "#f0f921"
             ]
            ],
            "type": "surface"
           }
          ],
          "table": [
           {
            "cells": {
             "fill": {
              "color": "#EBF0F8"
             },
             "line": {
              "color": "white"
             }
            },
            "header": {
             "fill": {
              "color": "#C8D4E3"
             },
             "line": {
              "color": "white"
             }
            },
            "type": "table"
           }
          ]
         },
         "layout": {
          "annotationdefaults": {
           "arrowcolor": "#2a3f5f",
           "arrowhead": 0,
           "arrowwidth": 1
          },
          "autotypenumbers": "strict",
          "coloraxis": {
           "colorbar": {
            "outlinewidth": 0,
            "ticks": ""
           }
          },
          "colorscale": {
           "diverging": [
            [
             0,
             "#8e0152"
            ],
            [
             0.1,
             "#c51b7d"
            ],
            [
             0.2,
             "#de77ae"
            ],
            [
             0.3,
             "#f1b6da"
            ],
            [
             0.4,
             "#fde0ef"
            ],
            [
             0.5,
             "#f7f7f7"
            ],
            [
             0.6,
             "#e6f5d0"
            ],
            [
             0.7,
             "#b8e186"
            ],
            [
             0.8,
             "#7fbc41"
            ],
            [
             0.9,
             "#4d9221"
            ],
            [
             1,
             "#276419"
            ]
           ],
           "sequential": [
            [
             0,
             "#0d0887"
            ],
            [
             0.1111111111111111,
             "#46039f"
            ],
            [
             0.2222222222222222,
             "#7201a8"
            ],
            [
             0.3333333333333333,
             "#9c179e"
            ],
            [
             0.4444444444444444,
             "#bd3786"
            ],
            [
             0.5555555555555556,
             "#d8576b"
            ],
            [
             0.6666666666666666,
             "#ed7953"
            ],
            [
             0.7777777777777778,
             "#fb9f3a"
            ],
            [
             0.8888888888888888,
             "#fdca26"
            ],
            [
             1,
             "#f0f921"
            ]
           ],
           "sequentialminus": [
            [
             0,
             "#0d0887"
            ],
            [
             0.1111111111111111,
             "#46039f"
            ],
            [
             0.2222222222222222,
             "#7201a8"
            ],
            [
             0.3333333333333333,
             "#9c179e"
            ],
            [
             0.4444444444444444,
             "#bd3786"
            ],
            [
             0.5555555555555556,
             "#d8576b"
            ],
            [
             0.6666666666666666,
             "#ed7953"
            ],
            [
             0.7777777777777778,
             "#fb9f3a"
            ],
            [
             0.8888888888888888,
             "#fdca26"
            ],
            [
             1,
             "#f0f921"
            ]
           ]
          },
          "colorway": [
           "#636efa",
           "#EF553B",
           "#00cc96",
           "#ab63fa",
           "#FFA15A",
           "#19d3f3",
           "#FF6692",
           "#B6E880",
           "#FF97FF",
           "#FECB52"
          ],
          "font": {
           "color": "#2a3f5f"
          },
          "geo": {
           "bgcolor": "white",
           "lakecolor": "white",
           "landcolor": "#E5ECF6",
           "showlakes": true,
           "showland": true,
           "subunitcolor": "white"
          },
          "hoverlabel": {
           "align": "left"
          },
          "hovermode": "closest",
          "mapbox": {
           "style": "light"
          },
          "paper_bgcolor": "white",
          "plot_bgcolor": "#E5ECF6",
          "polar": {
           "angularaxis": {
            "gridcolor": "white",
            "linecolor": "white",
            "ticks": ""
           },
           "bgcolor": "#E5ECF6",
           "radialaxis": {
            "gridcolor": "white",
            "linecolor": "white",
            "ticks": ""
           }
          },
          "scene": {
           "xaxis": {
            "backgroundcolor": "#E5ECF6",
            "gridcolor": "white",
            "gridwidth": 2,
            "linecolor": "white",
            "showbackground": true,
            "ticks": "",
            "zerolinecolor": "white"
           },
           "yaxis": {
            "backgroundcolor": "#E5ECF6",
            "gridcolor": "white",
            "gridwidth": 2,
            "linecolor": "white",
            "showbackground": true,
            "ticks": "",
            "zerolinecolor": "white"
           },
           "zaxis": {
            "backgroundcolor": "#E5ECF6",
            "gridcolor": "white",
            "gridwidth": 2,
            "linecolor": "white",
            "showbackground": true,
            "ticks": "",
            "zerolinecolor": "white"
           }
          },
          "shapedefaults": {
           "line": {
            "color": "#2a3f5f"
           }
          },
          "ternary": {
           "aaxis": {
            "gridcolor": "white",
            "linecolor": "white",
            "ticks": ""
           },
           "baxis": {
            "gridcolor": "white",
            "linecolor": "white",
            "ticks": ""
           },
           "bgcolor": "#E5ECF6",
           "caxis": {
            "gridcolor": "white",
            "linecolor": "white",
            "ticks": ""
           }
          },
          "title": {
           "x": 0.05
          },
          "xaxis": {
           "automargin": true,
           "gridcolor": "white",
           "linecolor": "white",
           "ticks": "",
           "title": {
            "standoff": 15
           },
           "zerolinecolor": "white",
           "zerolinewidth": 2
          },
          "yaxis": {
           "automargin": true,
           "gridcolor": "white",
           "linecolor": "white",
           "ticks": "",
           "title": {
            "standoff": 15
           },
           "zerolinecolor": "white",
           "zerolinewidth": 2
          }
         }
        },
        "title": {
         "text": "What is the distribution of episodes with guests?"
        },
        "xaxis": {
         "anchor": "y",
         "domain": [
          0,
          1
         ],
         "title": {
          "text": "Count"
         }
        },
        "yaxis": {
         "anchor": "x",
         "domain": [
          0,
          1
         ],
         "title": {
          "text": "Guest"
         }
        }
       }
      }
     },
     "metadata": {},
     "output_type": "display_data"
    }
   ],
   "source": [
    "guest_dict = defaultdict(int)\n",
    "\n",
    "for episode in data:\n",
    "    guest = episode[\"guest\"]\n",
    "    \n",
    "    if not guest:\n",
    "        guest_dict[\"No Guest\"] += 1\n",
    "    else:\n",
    "        guest_dict[\"Guest\"] += 1\n",
    "\n",
    "guest_dict = dict(sorted(guest_dict.items(), key=lambda item: item[1], reverse=False))\n",
    "fig = px.bar(\n",
    "    y=list(guest_dict.keys()),\n",
    "    x=list(guest_dict.values()),\n",
    "    labels={'y':'Guest', 'x':'Count'},\n",
    "    orientation='h',\n",
    "    text_auto=True)\n",
    "fig.update_layout(title='What is the distribution of episodes with guests?')\n",
    "fig.show()"
   ]
  },
  {
   "cell_type": "markdown",
   "metadata": {},
   "source": [
    "# Which guest came on the show the most? (Top 10)"
   ]
  },
  {
   "cell_type": "code",
   "execution_count": 7,
   "metadata": {},
   "outputs": [
    {
     "data": {
      "application/vnd.plotly.v1+json": {
       "config": {
        "plotlyServerURL": "https://plot.ly"
       },
       "data": [
        {
         "alignmentgroup": "True",
         "hovertemplate": "Count=%{x}<br>Guest=%{y}<extra></extra>",
         "legendgroup": "",
         "marker": {
          "color": "#636efa",
          "pattern": {
           "shape": ""
          }
         },
         "name": "",
         "offsetgroup": "",
         "orientation": "h",
         "showlegend": false,
         "textposition": "auto",
         "texttemplate": "%{x}",
         "type": "bar",
         "x": [
          1,
          1,
          1,
          1,
          1,
          2,
          2,
          2,
          5,
          7
         ],
         "xaxis": "x",
         "y": [
          "Mark Zuckerberg",
          "Rick Rubin",
          "Tim Ferriss",
          "Tony Hawk",
          "Dr. Vivek Murthy",
          "Dr. Kyle Gillett",
          "Dr. Lex Fridman",
          "Dr. Peter Attia",
          "Dr. Paul Conti",
          "Dr. Andy Galpin"
         ],
         "yaxis": "y"
        }
       ],
       "layout": {
        "barmode": "relative",
        "legend": {
         "tracegroupgap": 0
        },
        "margin": {
         "t": 60
        },
        "template": {
         "data": {
          "bar": [
           {
            "error_x": {
             "color": "#2a3f5f"
            },
            "error_y": {
             "color": "#2a3f5f"
            },
            "marker": {
             "line": {
              "color": "#E5ECF6",
              "width": 0.5
             },
             "pattern": {
              "fillmode": "overlay",
              "size": 10,
              "solidity": 0.2
             }
            },
            "type": "bar"
           }
          ],
          "barpolar": [
           {
            "marker": {
             "line": {
              "color": "#E5ECF6",
              "width": 0.5
             },
             "pattern": {
              "fillmode": "overlay",
              "size": 10,
              "solidity": 0.2
             }
            },
            "type": "barpolar"
           }
          ],
          "carpet": [
           {
            "aaxis": {
             "endlinecolor": "#2a3f5f",
             "gridcolor": "white",
             "linecolor": "white",
             "minorgridcolor": "white",
             "startlinecolor": "#2a3f5f"
            },
            "baxis": {
             "endlinecolor": "#2a3f5f",
             "gridcolor": "white",
             "linecolor": "white",
             "minorgridcolor": "white",
             "startlinecolor": "#2a3f5f"
            },
            "type": "carpet"
           }
          ],
          "choropleth": [
           {
            "colorbar": {
             "outlinewidth": 0,
             "ticks": ""
            },
            "type": "choropleth"
           }
          ],
          "contour": [
           {
            "colorbar": {
             "outlinewidth": 0,
             "ticks": ""
            },
            "colorscale": [
             [
              0,
              "#0d0887"
             ],
             [
              0.1111111111111111,
              "#46039f"
             ],
             [
              0.2222222222222222,
              "#7201a8"
             ],
             [
              0.3333333333333333,
              "#9c179e"
             ],
             [
              0.4444444444444444,
              "#bd3786"
             ],
             [
              0.5555555555555556,
              "#d8576b"
             ],
             [
              0.6666666666666666,
              "#ed7953"
             ],
             [
              0.7777777777777778,
              "#fb9f3a"
             ],
             [
              0.8888888888888888,
              "#fdca26"
             ],
             [
              1,
              "#f0f921"
             ]
            ],
            "type": "contour"
           }
          ],
          "contourcarpet": [
           {
            "colorbar": {
             "outlinewidth": 0,
             "ticks": ""
            },
            "type": "contourcarpet"
           }
          ],
          "heatmap": [
           {
            "colorbar": {
             "outlinewidth": 0,
             "ticks": ""
            },
            "colorscale": [
             [
              0,
              "#0d0887"
             ],
             [
              0.1111111111111111,
              "#46039f"
             ],
             [
              0.2222222222222222,
              "#7201a8"
             ],
             [
              0.3333333333333333,
              "#9c179e"
             ],
             [
              0.4444444444444444,
              "#bd3786"
             ],
             [
              0.5555555555555556,
              "#d8576b"
             ],
             [
              0.6666666666666666,
              "#ed7953"
             ],
             [
              0.7777777777777778,
              "#fb9f3a"
             ],
             [
              0.8888888888888888,
              "#fdca26"
             ],
             [
              1,
              "#f0f921"
             ]
            ],
            "type": "heatmap"
           }
          ],
          "heatmapgl": [
           {
            "colorbar": {
             "outlinewidth": 0,
             "ticks": ""
            },
            "colorscale": [
             [
              0,
              "#0d0887"
             ],
             [
              0.1111111111111111,
              "#46039f"
             ],
             [
              0.2222222222222222,
              "#7201a8"
             ],
             [
              0.3333333333333333,
              "#9c179e"
             ],
             [
              0.4444444444444444,
              "#bd3786"
             ],
             [
              0.5555555555555556,
              "#d8576b"
             ],
             [
              0.6666666666666666,
              "#ed7953"
             ],
             [
              0.7777777777777778,
              "#fb9f3a"
             ],
             [
              0.8888888888888888,
              "#fdca26"
             ],
             [
              1,
              "#f0f921"
             ]
            ],
            "type": "heatmapgl"
           }
          ],
          "histogram": [
           {
            "marker": {
             "pattern": {
              "fillmode": "overlay",
              "size": 10,
              "solidity": 0.2
             }
            },
            "type": "histogram"
           }
          ],
          "histogram2d": [
           {
            "colorbar": {
             "outlinewidth": 0,
             "ticks": ""
            },
            "colorscale": [
             [
              0,
              "#0d0887"
             ],
             [
              0.1111111111111111,
              "#46039f"
             ],
             [
              0.2222222222222222,
              "#7201a8"
             ],
             [
              0.3333333333333333,
              "#9c179e"
             ],
             [
              0.4444444444444444,
              "#bd3786"
             ],
             [
              0.5555555555555556,
              "#d8576b"
             ],
             [
              0.6666666666666666,
              "#ed7953"
             ],
             [
              0.7777777777777778,
              "#fb9f3a"
             ],
             [
              0.8888888888888888,
              "#fdca26"
             ],
             [
              1,
              "#f0f921"
             ]
            ],
            "type": "histogram2d"
           }
          ],
          "histogram2dcontour": [
           {
            "colorbar": {
             "outlinewidth": 0,
             "ticks": ""
            },
            "colorscale": [
             [
              0,
              "#0d0887"
             ],
             [
              0.1111111111111111,
              "#46039f"
             ],
             [
              0.2222222222222222,
              "#7201a8"
             ],
             [
              0.3333333333333333,
              "#9c179e"
             ],
             [
              0.4444444444444444,
              "#bd3786"
             ],
             [
              0.5555555555555556,
              "#d8576b"
             ],
             [
              0.6666666666666666,
              "#ed7953"
             ],
             [
              0.7777777777777778,
              "#fb9f3a"
             ],
             [
              0.8888888888888888,
              "#fdca26"
             ],
             [
              1,
              "#f0f921"
             ]
            ],
            "type": "histogram2dcontour"
           }
          ],
          "mesh3d": [
           {
            "colorbar": {
             "outlinewidth": 0,
             "ticks": ""
            },
            "type": "mesh3d"
           }
          ],
          "parcoords": [
           {
            "line": {
             "colorbar": {
              "outlinewidth": 0,
              "ticks": ""
             }
            },
            "type": "parcoords"
           }
          ],
          "pie": [
           {
            "automargin": true,
            "type": "pie"
           }
          ],
          "scatter": [
           {
            "fillpattern": {
             "fillmode": "overlay",
             "size": 10,
             "solidity": 0.2
            },
            "type": "scatter"
           }
          ],
          "scatter3d": [
           {
            "line": {
             "colorbar": {
              "outlinewidth": 0,
              "ticks": ""
             }
            },
            "marker": {
             "colorbar": {
              "outlinewidth": 0,
              "ticks": ""
             }
            },
            "type": "scatter3d"
           }
          ],
          "scattercarpet": [
           {
            "marker": {
             "colorbar": {
              "outlinewidth": 0,
              "ticks": ""
             }
            },
            "type": "scattercarpet"
           }
          ],
          "scattergeo": [
           {
            "marker": {
             "colorbar": {
              "outlinewidth": 0,
              "ticks": ""
             }
            },
            "type": "scattergeo"
           }
          ],
          "scattergl": [
           {
            "marker": {
             "colorbar": {
              "outlinewidth": 0,
              "ticks": ""
             }
            },
            "type": "scattergl"
           }
          ],
          "scattermapbox": [
           {
            "marker": {
             "colorbar": {
              "outlinewidth": 0,
              "ticks": ""
             }
            },
            "type": "scattermapbox"
           }
          ],
          "scatterpolar": [
           {
            "marker": {
             "colorbar": {
              "outlinewidth": 0,
              "ticks": ""
             }
            },
            "type": "scatterpolar"
           }
          ],
          "scatterpolargl": [
           {
            "marker": {
             "colorbar": {
              "outlinewidth": 0,
              "ticks": ""
             }
            },
            "type": "scatterpolargl"
           }
          ],
          "scatterternary": [
           {
            "marker": {
             "colorbar": {
              "outlinewidth": 0,
              "ticks": ""
             }
            },
            "type": "scatterternary"
           }
          ],
          "surface": [
           {
            "colorbar": {
             "outlinewidth": 0,
             "ticks": ""
            },
            "colorscale": [
             [
              0,
              "#0d0887"
             ],
             [
              0.1111111111111111,
              "#46039f"
             ],
             [
              0.2222222222222222,
              "#7201a8"
             ],
             [
              0.3333333333333333,
              "#9c179e"
             ],
             [
              0.4444444444444444,
              "#bd3786"
             ],
             [
              0.5555555555555556,
              "#d8576b"
             ],
             [
              0.6666666666666666,
              "#ed7953"
             ],
             [
              0.7777777777777778,
              "#fb9f3a"
             ],
             [
              0.8888888888888888,
              "#fdca26"
             ],
             [
              1,
              "#f0f921"
             ]
            ],
            "type": "surface"
           }
          ],
          "table": [
           {
            "cells": {
             "fill": {
              "color": "#EBF0F8"
             },
             "line": {
              "color": "white"
             }
            },
            "header": {
             "fill": {
              "color": "#C8D4E3"
             },
             "line": {
              "color": "white"
             }
            },
            "type": "table"
           }
          ]
         },
         "layout": {
          "annotationdefaults": {
           "arrowcolor": "#2a3f5f",
           "arrowhead": 0,
           "arrowwidth": 1
          },
          "autotypenumbers": "strict",
          "coloraxis": {
           "colorbar": {
            "outlinewidth": 0,
            "ticks": ""
           }
          },
          "colorscale": {
           "diverging": [
            [
             0,
             "#8e0152"
            ],
            [
             0.1,
             "#c51b7d"
            ],
            [
             0.2,
             "#de77ae"
            ],
            [
             0.3,
             "#f1b6da"
            ],
            [
             0.4,
             "#fde0ef"
            ],
            [
             0.5,
             "#f7f7f7"
            ],
            [
             0.6,
             "#e6f5d0"
            ],
            [
             0.7,
             "#b8e186"
            ],
            [
             0.8,
             "#7fbc41"
            ],
            [
             0.9,
             "#4d9221"
            ],
            [
             1,
             "#276419"
            ]
           ],
           "sequential": [
            [
             0,
             "#0d0887"
            ],
            [
             0.1111111111111111,
             "#46039f"
            ],
            [
             0.2222222222222222,
             "#7201a8"
            ],
            [
             0.3333333333333333,
             "#9c179e"
            ],
            [
             0.4444444444444444,
             "#bd3786"
            ],
            [
             0.5555555555555556,
             "#d8576b"
            ],
            [
             0.6666666666666666,
             "#ed7953"
            ],
            [
             0.7777777777777778,
             "#fb9f3a"
            ],
            [
             0.8888888888888888,
             "#fdca26"
            ],
            [
             1,
             "#f0f921"
            ]
           ],
           "sequentialminus": [
            [
             0,
             "#0d0887"
            ],
            [
             0.1111111111111111,
             "#46039f"
            ],
            [
             0.2222222222222222,
             "#7201a8"
            ],
            [
             0.3333333333333333,
             "#9c179e"
            ],
            [
             0.4444444444444444,
             "#bd3786"
            ],
            [
             0.5555555555555556,
             "#d8576b"
            ],
            [
             0.6666666666666666,
             "#ed7953"
            ],
            [
             0.7777777777777778,
             "#fb9f3a"
            ],
            [
             0.8888888888888888,
             "#fdca26"
            ],
            [
             1,
             "#f0f921"
            ]
           ]
          },
          "colorway": [
           "#636efa",
           "#EF553B",
           "#00cc96",
           "#ab63fa",
           "#FFA15A",
           "#19d3f3",
           "#FF6692",
           "#B6E880",
           "#FF97FF",
           "#FECB52"
          ],
          "font": {
           "color": "#2a3f5f"
          },
          "geo": {
           "bgcolor": "white",
           "lakecolor": "white",
           "landcolor": "#E5ECF6",
           "showlakes": true,
           "showland": true,
           "subunitcolor": "white"
          },
          "hoverlabel": {
           "align": "left"
          },
          "hovermode": "closest",
          "mapbox": {
           "style": "light"
          },
          "paper_bgcolor": "white",
          "plot_bgcolor": "#E5ECF6",
          "polar": {
           "angularaxis": {
            "gridcolor": "white",
            "linecolor": "white",
            "ticks": ""
           },
           "bgcolor": "#E5ECF6",
           "radialaxis": {
            "gridcolor": "white",
            "linecolor": "white",
            "ticks": ""
           }
          },
          "scene": {
           "xaxis": {
            "backgroundcolor": "#E5ECF6",
            "gridcolor": "white",
            "gridwidth": 2,
            "linecolor": "white",
            "showbackground": true,
            "ticks": "",
            "zerolinecolor": "white"
           },
           "yaxis": {
            "backgroundcolor": "#E5ECF6",
            "gridcolor": "white",
            "gridwidth": 2,
            "linecolor": "white",
            "showbackground": true,
            "ticks": "",
            "zerolinecolor": "white"
           },
           "zaxis": {
            "backgroundcolor": "#E5ECF6",
            "gridcolor": "white",
            "gridwidth": 2,
            "linecolor": "white",
            "showbackground": true,
            "ticks": "",
            "zerolinecolor": "white"
           }
          },
          "shapedefaults": {
           "line": {
            "color": "#2a3f5f"
           }
          },
          "ternary": {
           "aaxis": {
            "gridcolor": "white",
            "linecolor": "white",
            "ticks": ""
           },
           "baxis": {
            "gridcolor": "white",
            "linecolor": "white",
            "ticks": ""
           },
           "bgcolor": "#E5ECF6",
           "caxis": {
            "gridcolor": "white",
            "linecolor": "white",
            "ticks": ""
           }
          },
          "title": {
           "x": 0.05
          },
          "xaxis": {
           "automargin": true,
           "gridcolor": "white",
           "linecolor": "white",
           "ticks": "",
           "title": {
            "standoff": 15
           },
           "zerolinecolor": "white",
           "zerolinewidth": 2
          },
          "yaxis": {
           "automargin": true,
           "gridcolor": "white",
           "linecolor": "white",
           "ticks": "",
           "title": {
            "standoff": 15
           },
           "zerolinecolor": "white",
           "zerolinewidth": 2
          }
         }
        },
        "title": {
         "text": "Which guest came on the show the most? (Top 10)"
        },
        "xaxis": {
         "anchor": "y",
         "domain": [
          0,
          1
         ],
         "title": {
          "text": "Count"
         }
        },
        "yaxis": {
         "anchor": "x",
         "domain": [
          0,
          1
         ],
         "title": {
          "text": "Guest"
         }
        }
       }
      }
     },
     "metadata": {},
     "output_type": "display_data"
    }
   ],
   "source": [
    "data_dict = defaultdict(int)\n",
    "\n",
    "for episode in data:\n",
    "    guest = episode[\"guest\"]\n",
    "    \n",
    "    if guest:\n",
    "        data_dict[guest] += 1\n",
    "\n",
    "data_dict = dict(sorted(data_dict.items(), key=lambda item: item[1], reverse=False)[-10:])\n",
    "fig = px.bar(\n",
    "    y=list(data_dict.keys()),\n",
    "    x=list(data_dict.values()),\n",
    "    labels={'y':'Guest', 'x':'Count'},\n",
    "    orientation='h',\n",
    "    text_auto=True)\n",
    "fig.update_layout(title='Which guest came on the show the most? (Top 10)')\n",
    "fig.show()"
   ]
  },
  {
   "cell_type": "markdown",
   "metadata": {},
   "source": [
    "# What is the distribution of chunk token length? (Llama 2 Tokenizer)"
   ]
  },
  {
   "cell_type": "code",
   "execution_count": 11,
   "metadata": {},
   "outputs": [
    {
     "data": {
      "application/vnd.plotly.v1+json": {
       "config": {
        "plotlyServerURL": "https://plot.ly"
       },
       "data": [
        {
         "alignmentgroup": "True",
         "bingroup": "x",
         "hovertemplate": "Token Length=%{x}<br>count=%{y}<extra></extra>",
         "legendgroup": "",
         "marker": {
          "color": "#636efa",
          "pattern": {
           "shape": ""
          }
         },
         "name": "",
         "nbinsx": 100,
         "offsetgroup": "",
         "orientation": "v",
         "showlegend": false,
         "type": "histogram",
         "x": [
          761,
          186,
          1938,
          1097,
          1016,
          1194,
          1097,
          848,
          1113,
          1186,
          852,
          712,
          323,
          1305,
          1959,
          2451,
          928,
          709,
          1776,
          1170,
          542,
          763,
          1067,
          420,
          383,
          364,
          396,
          1012,
          542,
          1537,
          903,
          2344,
          530,
          673,
          1056,
          1849,
          514,
          949,
          1359,
          1351,
          1616,
          939,
          313,
          606,
          892,
          1587,
          682,
          210,
          1138,
          685,
          532,
          973,
          884,
          1163,
          393,
          141,
          229,
          182,
          372,
          377,
          301,
          413,
          501,
          484,
          343,
          559,
          505,
          527,
          433,
          318,
          437,
          582,
          85,
          241,
          175,
          688,
          695,
          620,
          784,
          1078,
          1189,
          84,
          241,
          174,
          183,
          116,
          221,
          235,
          452,
          350,
          769,
          296,
          463,
          699,
          682,
          958,
          634,
          674,
          1370,
          84,
          396,
          425,
          314,
          329,
          624,
          856,
          964,
          644,
          805,
          753,
          1153,
          80,
          331,
          304,
          171,
          212,
          526,
          343,
          704,
          626,
          829,
          526,
          770,
          1902,
          588,
          83,
          336,
          237,
          349,
          468,
          384,
          650,
          771,
          1219,
          877,
          1356,
          1345,
          743,
          141,
          233,
          352,
          282,
          538,
          495,
          652,
          717,
          1027,
          1211,
          674,
          83,
          87,
          166,
          169,
          52,
          169,
          294,
          350,
          637,
          498,
          601,
          1280,
          812,
          579,
          84,
          203,
          200,
          161,
          215,
          374,
          257,
          256,
          317,
          511,
          631,
          472,
          641,
          786,
          320,
          4070,
          82,
          201,
          200,
          313,
          241,
          343,
          396,
          350,
          407,
          419,
          498,
          412,
          701,
          845,
          580,
          158,
          222,
          94,
          643,
          1696,
          1127,
          1183,
          2034,
          84,
          395,
          555,
          428,
          582,
          645,
          1309,
          741,
          802,
          595,
          918,
          1869,
          337,
          521,
          393,
          566,
          300,
          522,
          274,
          170,
          327,
          512,
          156,
          812,
          156,
          849,
          350,
          403,
          108,
          858,
          1269,
          969,
          209,
          1503,
          1389,
          947,
          431,
          428,
          886,
          271,
          1065,
          2031,
          627,
          710,
          183,
          497,
          1506,
          1516,
          2134,
          969,
          1251,
          1891,
          1425,
          1408,
          1165,
          1835,
          993,
          1417,
          1112,
          1242,
          1675,
          1319,
          1249,
          1228,
          1370,
          1385,
          1393,
          1591,
          1161,
          771,
          1859,
          609,
          1242,
          394,
          545,
          517,
          850,
          218,
          88,
          489,
          114,
          538,
          239,
          358,
          624,
          348,
          424,
          1248,
          590,
          788,
          597,
          343,
          728,
          469,
          507,
          747,
          531,
          2363,
          252,
          819,
          808,
          730,
          1007,
          1035,
          92,
          1319,
          791,
          609,
          225,
          1324,
          615,
          1115,
          2633,
          549,
          1583,
          614,
          1567,
          1648,
          2138,
          1226,
          2142,
          602,
          1859,
          1917,
          1256,
          2001,
          602,
          1620,
          1184,
          1101,
          212,
          1304,
          731,
          879,
          745,
          693,
          585,
          1486,
          764,
          1449,
          790,
          1677,
          815,
          1840,
          1702,
          1002,
          593,
          465,
          460,
          404,
          219,
          2160,
          2074,
          1257,
          152,
          423,
          247,
          401,
          759,
          882,
          408,
          359,
          483,
          538,
          518,
          837,
          1822,
          1058,
          1258,
          1060,
          632,
          1120,
          717,
          201,
          438,
          1134,
          1650,
          1248,
          539,
          1025,
          346,
          1138,
          812,
          767,
          1659,
          1013,
          836,
          1471,
          453,
          1181,
          771,
          602,
          1235,
          724,
          841,
          1510,
          1442,
          1755,
          771,
          640,
          1102,
          1225,
          585,
          698,
          3728,
          699,
          1243,
          1995,
          1459,
          1227,
          972,
          522,
          158,
          505,
          879,
          1286,
          639,
          1130,
          2550,
          2137,
          944,
          732,
          310,
          3264,
          1730,
          1890,
          516,
          326,
          1458,
          1860,
          2617,
          700,
          2115,
          838,
          1037,
          370,
          2392,
          1710,
          479,
          1690,
          1741,
          921,
          1053,
          2512,
          1923,
          1258,
          254,
          2626,
          2068,
          1801,
          848,
          290,
          1660,
          2246,
          3391,
          597,
          2390,
          407,
          1919,
          1931,
          1249,
          693,
          1703,
          1802,
          1001,
          2054,
          3221,
          554,
          641,
          1230,
          804,
          926,
          1788,
          2269,
          781,
          220,
          1335,
          1625,
          3508,
          4506,
          4042,
          3007,
          507,
          1471,
          3297,
          2607,
          3861,
          5047,
          2165,
          5678,
          2027,
          3205,
          2864,
          3966,
          774,
          2616,
          1236,
          2968,
          919,
          3966,
          1392,
          1980,
          256,
          1365,
          3964,
          1172,
          291,
          2047,
          1450,
          1058,
          983,
          1915,
          2537,
          1183,
          2010,
          2280,
          1465,
          3197,
          916,
          850,
          1008,
          2671,
          2481,
          787,
          917,
          1098,
          1396,
          1131,
          2161,
          261,
          841,
          1664,
          988,
          1896,
          1806,
          284,
          2044,
          2144,
          2989,
          2397,
          2251,
          2656,
          2488,
          1160,
          345,
          2638,
          599,
          945,
          1791,
          1854,
          1420,
          3499,
          1012,
          2435,
          1777,
          2599,
          1582,
          1237,
          1314,
          665,
          1596,
          1411,
          2780,
          1883,
          757,
          2603,
          1624,
          2422,
          298,
          2992,
          4870,
          312,
          1378,
          2024,
          3238,
          2179,
          1863,
          1353,
          1198,
          3933,
          4758,
          1667,
          1359,
          787,
          2871,
          766,
          3103,
          598,
          1925,
          449,
          1268,
          1223,
          418,
          1186,
          1199,
          2238,
          1284,
          2973,
          1005,
          1149,
          551,
          495,
          2608,
          2185,
          2730,
          517,
          1188,
          833,
          793,
          1097,
          312,
          999,
          933,
          1826,
          1256,
          345,
          1723,
          1698,
          525,
          767,
          2155,
          2194,
          1021,
          1422,
          2158,
          982,
          1179,
          1317,
          1099,
          1436,
          2529,
          525,
          781,
          450,
          1268,
          477,
          814,
          646,
          1006,
          306,
          424,
          798,
          1010,
          628,
          1597,
          815,
          1149,
          1463,
          1585,
          1214,
          988,
          1404,
          1172,
          1580,
          308,
          584,
          762,
          1461,
          1071,
          829,
          1185,
          2960,
          1758,
          1760,
          332,
          1613,
          984,
          2307,
          185,
          2023,
          1920,
          338,
          1890,
          1501,
          1880,
          1467,
          2081,
          1464,
          1169,
          721,
          2913,
          3012,
          2760,
          1214,
          1839,
          487,
          939,
          303,
          681,
          517,
          482,
          754,
          1090,
          244,
          924,
          1483,
          717,
          973,
          992,
          247,
          506,
          1226,
          665,
          765,
          1684,
          271,
          1137,
          609,
          831,
          311,
          369,
          1107,
          673,
          859,
          376,
          861,
          1188,
          181,
          884,
          280,
          1178,
          518,
          746,
          795,
          1232,
          1084,
          1389,
          748,
          374,
          1170,
          738,
          898,
          1495,
          1153,
          977,
          1111,
          1142,
          863,
          1415,
          2761,
          1998,
          717,
          484,
          819,
          741,
          2043,
          2099,
          443,
          1031,
          2387,
          2216,
          727,
          1961,
          701,
          724,
          1920,
          1908,
          602,
          2030,
          913,
          343,
          957,
          1019,
          936,
          1273,
          1499,
          1064,
          239,
          642,
          860,
          1629,
          535,
          479,
          1101,
          378,
          747,
          3019,
          195,
          475,
          1242,
          1249,
          872,
          742,
          1544,
          1781,
          735,
          371,
          840,
          871,
          1756,
          454,
          2057,
          1780,
          313,
          1357,
          2043,
          1227,
          1536,
          1588,
          1225,
          1513,
          894,
          1757,
          688,
          1397,
          719,
          1517,
          1062,
          793,
          1724,
          917,
          1273,
          715,
          1378,
          333,
          706,
          684,
          2484,
          554,
          282,
          524,
          1586,
          1530,
          779,
          893,
          3127,
          744,
          677,
          1241,
          1630,
          2031,
          1655,
          1475,
          526,
          1075,
          1121,
          801,
          1641,
          689,
          1105,
          1470,
          1998,
          941,
          1478,
          594,
          903,
          1360,
          1934,
          1272,
          1689,
          1274,
          3601,
          1525,
          1471,
          826,
          1027,
          1235,
          612,
          1734,
          586,
          1018,
          1569,
          1122,
          1062,
          1322,
          1104,
          1815,
          2364,
          714,
          994,
          605,
          733,
          1458,
          725,
          1216,
          468,
          1484,
          967,
          885,
          758,
          1271,
          1293,
          933,
          1514,
          1281,
          637,
          479,
          386,
          1194,
          2455,
          1329,
          486,
          2482,
          1089,
          619,
          1083,
          673,
          1257,
          651,
          558,
          1122,
          3603,
          1618,
          1611,
          1121,
          1825,
          515,
          1290,
          556,
          1179,
          1933,
          1103,
          2557,
          1230,
          1509,
          1106,
          1552,
          792,
          1310,
          596,
          819,
          1483,
          1466,
          993,
          513,
          2188,
          808,
          370,
          1097,
          923,
          2724,
          882,
          705,
          1324,
          446,
          1621,
          1437,
          2854,
          2139,
          1230,
          3137,
          1248,
          1250,
          1156,
          873,
          282,
          1029,
          614,
          934,
          1187,
          1410,
          937,
          936,
          1254,
          359,
          943,
          1275,
          473,
          2012,
          1174,
          1225,
          1204,
          1310,
          2050,
          890,
          1728,
          710,
          742,
          1220,
          953,
          1251,
          1026,
          802,
          865,
          1580,
          793,
          376,
          536,
          1706,
          2953,
          1814,
          1095,
          384,
          1195,
          836,
          638,
          2235,
          1745,
          2483,
          1930,
          2619,
          455,
          739,
          1197,
          1219,
          2126,
          2637,
          2328,
          1559,
          1010,
          1543,
          2057,
          1041,
          3877,
          1296,
          1258,
          1807,
          3230,
          1605,
          681,
          768,
          877,
          343,
          397,
          440,
          1239,
          1605,
          598,
          2872,
          2219,
          1032,
          1217,
          1108,
          600,
          2243,
          1278,
          646,
          394,
          237,
          821,
          2477,
          1046,
          910,
          2386,
          527,
          708,
          1163,
          2016,
          2083,
          2070,
          1419,
          1849,
          741,
          947,
          1354,
          777,
          1201,
          1263,
          1437,
          1595,
          487,
          1348,
          1464,
          1650,
          1859,
          935,
          1031,
          694,
          1316,
          1595,
          616,
          679,
          634,
          1172,
          1045,
          1781,
          770,
          383,
          1332,
          931,
          725,
          1291,
          1041,
          497,
          1384,
          1600,
          2203,
          2259,
          1438,
          1373,
          555,
          1243,
          3010,
          2347,
          818,
          555,
          671,
          1449,
          650,
          1122,
          604,
          1128,
          909,
          1332,
          1850,
          558,
          1299,
          1683,
          1016,
          491,
          1829,
          2082,
          378,
          2193,
          692,
          3163,
          1075,
          308,
          1454,
          1279,
          1325,
          555,
          2129,
          1276,
          1499,
          725,
          2782,
          1095,
          2294,
          946,
          717,
          1215,
          1331,
          698,
          1066,
          1846,
          1133,
          1596,
          402,
          2070,
          3199,
          1849,
          1269,
          2123,
          2040,
          1762,
          1951,
          1868,
          2869,
          2401,
          2043,
          1593,
          2130,
          3178,
          3074,
          1909,
          2386,
          1436,
          683,
          770,
          443,
          2509,
          1428,
          2718,
          2021,
          4051,
          1342,
          998,
          825,
          782,
          646,
          345,
          2759,
          1778,
          1136,
          1060,
          181,
          1675,
          1279,
          863,
          251,
          2755,
          1499,
          1302,
          1865,
          820,
          757,
          2653,
          429,
          2294,
          2901,
          1309,
          1063,
          1154,
          1023,
          2396,
          682,
          2578,
          373,
          2308,
          1454,
          1064,
          2115,
          1847,
          343,
          2683,
          2215,
          2273,
          2243,
          1938,
          2298,
          2866,
          467,
          658,
          240,
          774,
          1492,
          665,
          886,
          1608,
          2113,
          1279,
          649,
          1586,
          1129,
          1837,
          2173,
          957,
          1990,
          1025,
          1644,
          1732,
          2081,
          1523,
          1313,
          1030,
          1646,
          2009,
          545,
          1761,
          1306,
          1007,
          1206,
          2556,
          1788,
          967,
          2565,
          1454,
          1902,
          1072,
          2487,
          2926,
          4659,
          1694,
          3630,
          2127,
          4195,
          1741,
          875,
          1175,
          1053,
          616,
          1631,
          831,
          1103,
          1974,
          1345,
          691,
          2131,
          2048,
          2191,
          1194,
          990,
          831,
          488,
          1858,
          432,
          978,
          1396,
          2005,
          1908,
          1799,
          743,
          1582,
          4701,
          1552,
          429,
          1088,
          169,
          903,
          2599,
          4461,
          952,
          4119,
          1044,
          2180,
          1444,
          2906,
          2905,
          1344,
          559,
          1529,
          1095,
          1442,
          1459,
          1333,
          2373,
          1935,
          1459,
          1068,
          1466,
          2048,
          1993,
          2246,
          1455,
          1216,
          2083,
          1542,
          1440,
          1493,
          1239,
          1590,
          401,
          1768,
          1701,
          1817,
          2100,
          1654,
          782,
          679,
          1370,
          752,
          821,
          1389,
          1041,
          3181,
          1594,
          1235,
          1569,
          2072,
          1538,
          2264,
          1655,
          816,
          1178,
          867,
          1758,
          845,
          1737,
          1515,
          651,
          681,
          2123,
          2059,
          1289,
          1224,
          1013,
          1999,
          1456,
          546,
          3003,
          2299,
          2782,
          1631,
          3213,
          2193,
          1667,
          1549,
          2816,
          1129,
          907,
          324,
          1211,
          195,
          1332,
          668,
          1070,
          2503,
          1026,
          378,
          1539,
          716,
          1342,
          2146,
          2329,
          1565,
          810,
          1505,
          1008,
          1479,
          1125,
          2690,
          1114,
          983,
          1910,
          1590,
          2007,
          1262,
          2860,
          453,
          1025,
          1722,
          1728,
          1267,
          336,
          1597,
          1492,
          1098,
          1768,
          2069,
          328,
          2530,
          822,
          1660,
          973,
          2109,
          2423,
          1126,
          1584,
          1444,
          2579,
          645,
          1328,
          1670,
          1730,
          1715,
          2291,
          2137,
          546,
          911,
          1340,
          1392,
          1899,
          534,
          665,
          2424,
          958,
          1314,
          814,
          1122,
          2424,
          317,
          1042,
          1138,
          678,
          1953,
          1475,
          720,
          288,
          1196,
          1163,
          571,
          551,
          1757,
          1904,
          468,
          372,
          1819,
          1717,
          1403,
          1665,
          2163,
          1992,
          2992,
          1247,
          3146,
          3005,
          1257,
          2232,
          965,
          3856,
          2038,
          973,
          2315,
          730,
          1780,
          872,
          1396,
          1382,
          1103,
          963,
          1874,
          771,
          696,
          2200,
          469,
          1108,
          618,
          1316,
          1007,
          956,
          1242,
          916,
          1681,
          703,
          1547,
          941,
          1076,
          316,
          583,
          804,
          1315,
          1952,
          804,
          1066,
          1613,
          583,
          1201,
          859,
          1459,
          1147,
          703,
          801,
          305,
          291,
          1272,
          1619,
          1157,
          701,
          447,
          529,
          623,
          1404,
          3656,
          880,
          579,
          1251,
          1752,
          1168,
          1124,
          724,
          1242,
          817,
          2096,
          308,
          662,
          1122,
          1191,
          1722,
          2249,
          833,
          688,
          819,
          1596,
          1027,
          587,
          1559,
          1439,
          545,
          1179,
          1039,
          1521,
          603,
          1172,
          1132,
          1525,
          1018,
          265,
          1981,
          1240,
          1115,
          1607,
          1244,
          2028,
          1531,
          912,
          1826,
          1946,
          1646,
          1280,
          2174,
          1601,
          623,
          1410,
          563,
          531,
          341,
          844,
          430,
          675,
          462,
          317,
          1110,
          685,
          1469,
          604,
          1966,
          1204,
          702,
          2358,
          421,
          1374,
          591,
          998,
          596,
          232,
          1149,
          1132,
          1902,
          665,
          1422,
          1220,
          805,
          1342,
          1558,
          2567,
          593,
          1508,
          2271,
          1912,
          553,
          1672,
          1791,
          1137,
          2932,
          1356,
          1270,
          1102,
          1299,
          1092,
          1225,
          2233,
          1968,
          586,
          1081,
          1522,
          389,
          3401,
          2137,
          2167,
          300,
          1490,
          2367,
          1377,
          2106,
          3173,
          1117,
          591,
          3750,
          2169,
          2474,
          2256,
          2965,
          1748,
          1974,
          2807,
          2436,
          2043,
          755,
          520,
          2019,
          1050,
          341,
          2704,
          900,
          1316,
          962,
          701,
          1082,
          1271,
          589,
          1139,
          1085,
          720,
          262,
          2478,
          1355,
          2103,
          439,
          520,
          1087,
          415,
          361,
          392,
          225,
          1874,
          458,
          568,
          357,
          856,
          1721,
          994,
          392,
          540,
          922,
          1086,
          589,
          1420,
          1716,
          1280,
          320,
          893,
          1381,
          614,
          2317,
          1603,
          1060,
          268,
          552,
          2368,
          1574,
          1454,
          1490,
          1185,
          1436,
          2697,
          799,
          1010,
          1403,
          398,
          421,
          1405,
          676,
          1305,
          1266,
          805,
          1640,
          2708,
          1088,
          1267,
          934,
          2333,
          2113,
          701,
          1249,
          1768,
          1107,
          3088,
          807,
          2714,
          690,
          575,
          805,
          1492,
          470,
          961,
          748,
          201,
          1010,
          1255,
          1036,
          692,
          1354,
          1024,
          334,
          1458,
          1636,
          1533,
          2239,
          1016,
          761,
          1037,
          1640,
          871,
          604,
          2096,
          955,
          672,
          859,
          192,
          1109,
          1382,
          1196,
          529,
          1766,
          686,
          1370,
          609,
          1380,
          554,
          653,
          1914,
          2019,
          2078,
          686,
          970,
          926,
          1265,
          1471,
          1122,
          823,
          1447,
          963,
          1022,
          1116,
          1402,
          388,
          557,
          1374,
          1312,
          1024,
          420,
          1143,
          738,
          391,
          944,
          1692,
          734,
          903,
          812,
          1160,
          1223,
          2281,
          1280,
          369,
          684,
          1605,
          796,
          519,
          450,
          548,
          906,
          1296,
          707,
          1247,
          466,
          247,
          492,
          2971,
          545,
          1353,
          1083,
          535,
          892,
          2613,
          988,
          737,
          1281,
          1040,
          882,
          1579,
          1622,
          1870,
          915,
          1345,
          3118,
          1469,
          820,
          2391,
          660,
          1777,
          380,
          1015,
          639,
          326,
          636,
          1135,
          255,
          1298,
          438,
          1294,
          511,
          1239,
          1080,
          386,
          372,
          1712,
          663,
          461,
          359,
          141,
          145,
          1151,
          425,
          642,
          394,
          624,
          1216,
          188,
          235,
          828,
          954,
          583,
          595,
          414,
          609,
          2111,
          497,
          1216,
          947,
          286,
          2729,
          1389,
          1150,
          2943,
          914,
          2952,
          2472,
          2524,
          1919,
          2077,
          1180,
          1040,
          1123,
          360,
          755,
          810,
          1387,
          298,
          806,
          350,
          1122,
          354,
          1249,
          1436,
          739,
          799,
          484,
          887,
          1396,
          805,
          407,
          371,
          2611,
          534,
          1417,
          722,
          1306,
          215,
          1564,
          1172,
          1004,
          202,
          1024,
          951,
          680,
          440,
          1205,
          275,
          530,
          615,
          844,
          574,
          498,
          597,
          452,
          990,
          746,
          1208,
          1503,
          616,
          1177,
          324,
          818,
          1330,
          1621,
          3404,
          745,
          1947,
          1442,
          1748,
          527,
          876,
          1663,
          1688,
          2702,
          1081,
          1241,
          1584,
          263,
          1065,
          2406,
          1226,
          1357,
          1567,
          288,
          620,
          1576,
          3235,
          1250,
          2557,
          898,
          2366,
          2417,
          900,
          794,
          1629,
          622,
          1744,
          2199,
          825,
          474,
          1289,
          1080,
          1529,
          2722,
          1902,
          1715,
          2707,
          1168,
          1654,
          2472,
          1065,
          1086,
          1813,
          1226,
          1130,
          1628,
          914,
          2293,
          763,
          2008,
          1238,
          2347,
          1318,
          769,
          1521,
          563,
          2456,
          1104,
          1891,
          1572,
          964,
          2000,
          1743,
          2071,
          1287,
          1323,
          1844,
          1070,
          1716,
          1468,
          2707,
          1969,
          1484,
          2681,
          1612,
          1925,
          925,
          797,
          1016,
          1547,
          1634,
          2318,
          845,
          801,
          1217,
          880,
          1281,
          1135,
          1040,
          1894,
          1615,
          1452,
          1489,
          1277,
          1472,
          1228,
          1718,
          1178,
          1395,
          896,
          3176,
          1416,
          2007,
          1655,
          550,
          2028,
          2270,
          1592,
          1272,
          1675,
          1460,
          2428,
          1361,
          2223,
          1148,
          607,
          1657,
          443,
          2086,
          855,
          1249,
          696,
          1161,
          2427,
          1607,
          1969,
          1997,
          1145,
          1599,
          624,
          596,
          1840,
          1252,
          1803,
          1877,
          1901,
          1269,
          2321,
          800,
          2112,
          3148,
          576,
          1033,
          894,
          505,
          571,
          1114,
          1109,
          1148,
          1035,
          1074,
          438,
          874,
          726,
          1407,
          1360,
          1036,
          1206,
          532,
          1141,
          692,
          1143,
          1235,
          1234,
          1514,
          327,
          1296,
          787,
          1333,
          403,
          492,
          879,
          864,
          203,
          485,
          301,
          804,
          1154,
          556,
          594,
          540,
          1215,
          1335,
          235,
          596,
          408,
          746,
          1048,
          499,
          1025,
          485,
          1193,
          436,
          1854,
          1248,
          792,
          583,
          1342,
          494,
          755,
          565,
          1118,
          1323,
          2002,
          2556,
          1540,
          383,
          2137,
          2770,
          2062,
          1595,
          787,
          2592,
          913,
          1589,
          2202,
          1999,
          1469,
          1650,
          2832,
          878,
          2497,
          1995,
          438,
          759,
          536,
          833,
          143,
          802,
          607,
          535,
          715,
          598,
          978,
          427,
          1057,
          1288,
          1506,
          771,
          919,
          1669,
          601,
          224,
          550,
          635,
          1151,
          415,
          1405,
          622,
          573,
          396,
          630,
          1048,
          514,
          2123,
          1228,
          1166,
          1361,
          493,
          1516,
          1773,
          1177,
          381,
          1439,
          1718,
          1078,
          2040,
          1930,
          832,
          3094,
          2103,
          1509,
          947,
          1693,
          710,
          790,
          409,
          734,
          811,
          759,
          420,
          492,
          1147,
          472,
          668,
          1394,
          1120,
          460,
          867,
          283,
          726,
          567,
          751,
          433,
          978,
          1269,
          316,
          1116,
          750,
          609,
          518,
          632,
          532,
          253,
          1413,
          188,
          832,
          815,
          619,
          321,
          644,
          925,
          1434,
          2158,
          3188,
          368,
          2422,
          1910,
          1217,
          1620,
          1521,
          1158,
          384,
          3349,
          2757,
          1443,
          1962,
          1364,
          1659,
          770,
          2367,
          1857,
          130,
          570,
          920,
          1271,
          327,
          2812,
          3381,
          3401,
          3991,
          4154,
          3014,
          3256,
          1782,
          600,
          644,
          418,
          983,
          989,
          396,
          803,
          552,
          1219,
          508,
          930,
          538,
          308,
          248,
          416,
          266,
          860,
          680,
          570,
          259,
          267,
          696,
          599,
          857,
          912,
          472,
          890,
          908,
          352,
          812,
          727,
          758,
          1349,
          366,
          1632,
          429,
          386,
          1149,
          1307,
          924,
          1413,
          1172,
          1538,
          1219,
          715,
          858,
          1318,
          553,
          802,
          1901,
          1204,
          2541,
          361,
          1842,
          1443,
          1189,
          455,
          909,
          994,
          381,
          1214,
          468,
          1001,
          640,
          1719,
          1572,
          1511,
          473,
          858,
          467,
          951,
          2332,
          920,
          2256,
          1718,
          1496,
          1134,
          555,
          648,
          364,
          361,
          1046,
          721,
          1152,
          697,
          1412,
          1062,
          712,
          2626,
          993,
          1056,
          644,
          1033,
          740,
          1752,
          831,
          2193,
          604,
          2155,
          3321,
          1013,
          855,
          1370,
          932,
          592,
          340,
          178,
          358,
          490,
          167,
          243,
          282,
          335,
          137,
          285,
          233,
          173,
          158,
          183,
          389,
          576,
          219,
          205,
          511,
          782,
          224,
          689,
          403,
          513,
          532,
          398,
          545,
          305,
          573,
          779,
          287,
          414,
          313,
          1576,
          678,
          204,
          291,
          101,
          1027,
          406,
          659,
          115,
          380,
          1631,
          1192,
          168,
          324,
          254,
          406,
          340,
          453,
          503,
          483,
          351,
          139,
          144,
          360,
          707,
          347,
          306,
          170,
          246,
          236,
          299,
          273,
          490,
          1147,
          463,
          317,
          428,
          262,
          433,
          734,
          239,
          256,
          494,
          246,
          503,
          750,
          483,
          904,
          322,
          880,
          478,
          245,
          594,
          1059,
          674,
          617,
          282,
          1494,
          1954,
          1985,
          1334,
          1583,
          2242,
          2825,
          1621,
          2213,
          930,
          3163,
          1762,
          1517,
          849,
          1093,
          1660,
          474,
          990,
          825,
          653,
          512,
          567,
          397,
          122,
          449,
          251,
          1105,
          1219,
          800,
          477,
          369,
          556,
          1095,
          723,
          1754,
          566,
          888,
          1404,
          590,
          676,
          1594,
          1065,
          379,
          567,
          232,
          1129,
          639,
          718,
          1587,
          622,
          472,
          659,
          1460,
          798,
          451,
          513,
          1161,
          519,
          1485,
          821,
          542,
          622,
          414,
          938,
          432,
          66,
          450,
          407,
          503,
          257,
          868,
          1000,
          693,
          403,
          1089,
          763,
          660,
          1405,
          209,
          1214,
          227,
          398,
          386,
          781,
          741,
          1074,
          1171,
          2632,
          1311,
          1941,
          1041,
          375,
          1047,
          2604,
          1811,
          1198,
          313,
          1934,
          1422,
          1740,
          1018,
          2019,
          1904,
          2211,
          816,
          2973,
          762,
          1946,
          1538,
          1130,
          3630,
          1417,
          975,
          1809,
          2048,
          2502,
          1547,
          2817,
          1057,
          1424,
          1707,
          1896,
          1855,
          2739,
          966,
          893,
          66,
          238,
          580,
          888,
          524,
          214,
          26011,
          835,
          265,
          1221,
          1440,
          684,
          822,
          192,
          695,
          1292,
          1446,
          994,
          1158,
          1563,
          596,
          691,
          724,
          1524,
          1469,
          1023,
          336,
          1132,
          824,
          1646,
          1096,
          1197,
          1632,
          417,
          1421,
          1064,
          431,
          1439,
          1084,
          1042,
          1608,
          327,
          1432,
          868,
          836,
          1176,
          521,
          1581,
          760,
          1377,
          528,
          895,
          2911,
          1654,
          1870,
          585,
          941,
          1900,
          1289,
          1397,
          2197,
          1049,
          1031,
          1174,
          1436,
          1903,
          1769,
          1070,
          1367,
          790,
          1601,
          1777,
          710,
          599,
          754,
          899,
          1538,
          2292,
          1863,
          570,
          306,
          2161,
          1202,
          1499,
          2005,
          2442,
          392,
          2109,
          1435,
          776,
          2994,
          1401,
          2800,
          935,
          1987,
          1079,
          1509,
          766,
          161,
          1229,
          1243,
          2440,
          1657,
          1604,
          1574,
          844,
          1026,
          513,
          809,
          774,
          1251,
          996,
          678,
          1027,
          873,
          1909,
          499,
          1205,
          961,
          453,
          580,
          229,
          395,
          299,
          239,
          387,
          283,
          176,
          577,
          776,
          236,
          1047,
          797,
          1159,
          1125,
          812,
          1141,
          856,
          1400,
          602,
          749,
          675,
          596,
          2077,
          1703,
          1228,
          1932,
          1133,
          2240,
          1736,
          820,
          1109,
          776,
          470,
          2238,
          792,
          820,
          1302,
          3177,
          350,
          2343,
          738,
          1248,
          488,
          2023,
          633,
          593,
          1797,
          2787,
          1263,
          1154,
          1754,
          1455,
          1847,
          793,
          502,
          1462,
          371,
          2070,
          938,
          1402,
          2074,
          563,
          887,
          1555,
          1320,
          1872,
          668,
          1514,
          1824,
          1724,
          2447,
          1787,
          2588,
          1510,
          2891,
          3324,
          1647,
          818,
          1173,
          2088,
          2916,
          1748,
          2231,
          929,
          2238,
          912,
          1423,
          2685,
          1433,
          1237,
          1771,
          373,
          4602,
          2129,
          3436,
          295,
          2927,
          2333,
          3191,
          1790,
          3405,
          1632,
          1510,
          2926,
          2645,
          2715,
          1442,
          3454,
          2504,
          1432,
          1157,
          2848,
          855,
          2394,
          2377,
          812,
          1479,
          1635,
          1431,
          2468,
          1688,
          1564,
          2233,
          1574,
          1683,
          2026,
          1948,
          1407,
          1740,
          1472,
          2244,
          1193,
          1401,
          1907,
          2035,
          1073,
          304,
          1597,
          643,
          999,
          1212,
          1501,
          579,
          1065,
          1784,
          1098,
          595,
          1160,
          559,
          355,
          1005,
          350,
          739,
          1680,
          1829,
          748,
          1619,
          1649,
          634,
          489,
          605,
          963,
          1554,
          1674,
          1511,
          1149,
          1773,
          1594,
          1681,
          1663,
          1541,
          1336,
          1147,
          541,
          825,
          1558,
          1411,
          542,
          575,
          2095,
          531,
          769,
          1796,
          1796,
          1499,
          1308,
          585,
          2022,
          1554,
          2241,
          1044,
          3275,
          791,
          2443,
          1065,
          655,
          1904,
          1304,
          1629,
          1061,
          1557,
          1966,
          1842,
          1262,
          1913,
          1,
          18699,
          1897,
          2255,
          1827,
          1317,
          1600,
          1894,
          1759,
          1934,
          1513,
          1631,
          1311,
          2911,
          1862,
          2250,
          555,
          739,
          945,
          1103,
          805,
          1735,
          1295,
          1582,
          1985,
          1490,
          2397,
          1229,
          1492,
          1326,
          1023,
          1977,
          2050,
          1276,
          2767,
          1642,
          1590,
          950,
          648,
          719,
          927,
          460,
          1170,
          1419,
          2090,
          1129,
          380,
          314,
          552,
          1175,
          390,
          798,
          421,
          268,
          471,
          3234,
          494,
          2141,
          498,
          76,
          101,
          152,
          122,
          112,
          133,
          110,
          100,
          139,
          85,
          559,
          387,
          441,
          175,
          128,
          296,
          245,
          115,
          126,
          143,
          142,
          144,
          161,
          127,
          660,
          1963,
          1078,
          1739,
          880,
          1197,
          1153,
          1353,
          1083,
          1780,
          1921,
          1526,
          2022,
          665,
          1735,
          1900,
          2280,
          1744,
          694,
          275,
          583,
          1239,
          1160,
          1315,
          1383,
          1508,
          360,
          1502,
          993,
          1496,
          1221,
          888,
          918,
          1149,
          1682,
          1115,
          2646,
          1308,
          1667,
          1368,
          2563,
          492,
          530,
          230,
          893,
          1998,
          462,
          1647,
          380,
          728,
          1050,
          1159,
          2040,
          1437,
          933,
          1508,
          266,
          1010,
          278,
          1116,
          983,
          1965,
          1292,
          575,
          854,
          495,
          1090,
          2678,
          725,
          2254,
          698,
          1979,
          2386,
          2246,
          1971,
          576,
          1347,
          1331,
          1321,
          2224,
          647,
          1881,
          509,
          985,
          769,
          2315,
          1048,
          1298,
          536,
          531,
          161,
          1008,
          400,
          599,
          492,
          581,
          459,
          518,
          393,
          423,
          372,
          521,
          421,
          457,
          163,
          80,
          465,
          406,
          401,
          311,
          241,
          526,
          359,
          1188,
          1670,
          649,
          291,
          791,
          744,
          299,
          822,
          558,
          656,
          293,
          439,
          435,
          1161,
          312,
          555,
          697,
          1526,
          538,
          1616,
          1066,
          1375,
          920,
          941,
          811,
          670,
          1461,
          578,
          2824,
          1633,
          1026,
          1253,
          697,
          1647,
          1379,
          1406,
          2300,
          1048,
          1242,
          855,
          1074,
          1169,
          1805,
          817,
          385,
          1429,
          1276,
          2454,
          1165,
          353,
          1910,
          1263,
          2817,
          1558,
          3616,
          808,
          2593,
          1529,
          1504,
          819,
          1338,
          934,
          2449,
          1575,
          429,
          1948,
          1039,
          856,
          740,
          1995,
          1271,
          1397,
          1274,
          1632,
          1067,
          1816,
          1274,
          972,
          391,
          1409,
          1677,
          666,
          2162,
          1834,
          1038,
          1426,
          2123,
          1107,
          582,
          1464,
          629,
          1855,
          610,
          707,
          1022,
          721,
          630,
          394,
          2460,
          935,
          999,
          2539,
          1563,
          1791,
          381,
          1213,
          1692,
          2183,
          1915,
          2148,
          2645,
          444,
          850,
          295,
          588,
          820,
          649,
          297,
          481,
          278,
          707,
          717,
          441,
          1556,
          616,
          630,
          845,
          532,
          389,
          418,
          401,
          574,
          1011,
          307,
          477,
          1034,
          1175,
          1523,
          1471,
          492,
          459,
          530,
          586,
          984,
          1268,
          431,
          992,
          364,
          350,
          181,
          691,
          1304,
          674,
          830,
          1279,
          1007,
          1000,
          300,
          680,
          815,
          873,
          133,
          1043,
          602,
          2101,
          2260,
          548,
          850,
          255,
          1366,
          683,
          1195,
          717,
          364,
          647,
          654,
          2051,
          1827,
          3099,
          856,
          1354,
          1,
          16217,
          1147,
          1029,
          530,
          1384,
          1376,
          1692,
          638,
          760,
          369,
          1252,
          1632,
          1492,
          1410,
          882,
          413,
          1185,
          1473,
          1428,
          451,
          1496,
          1280,
          2181,
          1501,
          540,
          1380,
          320,
          706,
          796,
          605,
          981,
          769,
          1785,
          453,
          1399,
          376,
          427,
          310,
          494,
          376,
          617,
          1466,
          709,
          277,
          832,
          345,
          296,
          959,
          252,
          551,
          662,
          675,
          973,
          632,
          1492,
          606,
          1059,
          743,
          565,
          651,
          604,
          412,
          716,
          1174,
          621,
          833,
          1073,
          344,
          1028,
          1509,
          1099,
          380,
          2198,
          666,
          2433,
          845,
          2073,
          1131,
          1569,
          2494,
          1902,
          2851,
          2378,
          2457,
          733,
          1875,
          1749,
          2075,
          1624,
          676,
          815,
          296,
          234,
          1096,
          941,
          1067,
          2263,
          1714,
          1347,
          1505,
          728,
          1051,
          576,
          2436,
          1097,
          934,
          1157,
          260,
          2812,
          1746,
          2646,
          554,
          524,
          821,
          1431,
          861,
          913,
          1521,
          1343,
          1556,
          1769,
          692,
          754,
          2034,
          810,
          1413,
          1871,
          1545,
          373,
          856,
          3131,
          1520,
          1435,
          2079,
          601,
          406,
          1785,
          1274,
          528,
          3077,
          1084,
          1397,
          1968,
          1171,
          316,
          2229,
          567,
          1266,
          1668,
          1434,
          3320,
          1736,
          1188,
          951,
          2947,
          739,
          2076,
          576,
          731,
          1622,
          729,
          981,
          1640,
          1503,
          437,
          2715,
          1769,
          1293,
          2569,
          2144,
          2990,
          748,
          1640,
          1110,
          907,
          597,
          1180,
          351,
          860,
          2282,
          566,
          1748,
          2772,
          2369,
          1005,
          1318,
          567,
          2969,
          1880,
          380,
          1980,
          1033,
          2492,
          311,
          2230,
          846,
          1195,
          1981,
          1748,
          3053,
          1467,
          684,
          641,
          1476,
          3169,
          1406,
          616,
          792,
          1065,
          558,
          402,
          554,
          729,
          987,
          1025,
          935,
          298,
          1007,
          1051,
          230,
          613,
          891,
          922,
          454,
          1668,
          714,
          743,
          452,
          620,
          313,
          895,
          427,
          541,
          1153,
          1,
          1938,
          446,
          658,
          755,
          1257,
          791,
          890,
          1193,
          1056,
          1681,
          781,
          1489,
          856,
          802,
          694,
          674,
          465,
          803,
          1269,
          695,
          1280,
          1011,
          1234,
          3211,
          2323,
          2225,
          2533,
          1093,
          1267,
          2269,
          1471,
          1305,
          360,
          1637,
          1464,
          3005,
          1313,
          723,
          1009,
          68,
          130,
          399,
          551,
          645,
          1699,
          1685,
          1550,
          1143,
          1475,
          1090,
          1488,
          1215,
          15745,
          1696,
          314,
          790,
          1470,
          1140,
          193,
          332,
          796,
          188,
          366,
          599,
          514,
          249,
          2264,
          948,
          885,
          721,
          773,
          317,
          1745,
          363,
          1993,
          1870,
          747,
          2018,
          690,
          349,
          341,
          359,
          821,
          556,
          614,
          990,
          1369,
          465,
          665,
          1181,
          1734,
          1094,
          741,
          2357,
          1347,
          556,
          2183,
          600,
          1161,
          2559,
          1083,
          1302,
          3516,
          2056,
          1760,
          2764,
          761,
          1618,
          1245,
          696,
          873,
          635,
          1391,
          528,
          705,
          1246,
          717,
          1082,
          313,
          911,
          837,
          1503,
          265,
          2140,
          2288,
          1660,
          837,
          1335,
          2049,
          2682,
          1808,
          511,
          1646,
          279,
          728,
          1016,
          1391,
          2003,
          754,
          1396,
          2391,
          1462,
          794,
          2174,
          1896,
          2352,
          2300,
          1354,
          2380,
          1821,
          1522,
          1219,
          473,
          1101,
          2417,
          2018,
          606,
          1558,
          1195,
          1998,
          2127,
          740,
          1224,
          573,
          1472,
          1481,
          732,
          934,
          628,
          2908,
          926,
          427,
          2453,
          435,
          30,
          107,
          431,
          446,
          454,
          656,
          781,
          339,
          1594,
          2375,
          4870,
          6328,
          9587,
          925,
          1492,
          1030,
          1687,
          1155,
          1319,
          937,
          1250,
          2946,
          1234,
          2517,
          2585,
          2539,
          2743,
          2017,
          1052,
          1135,
          1914,
          1297,
          1955,
          3323,
          2631,
          1038,
          1586,
          1156,
          985,
          1287,
          835,
          685,
          1212,
          444,
          467,
          1722,
          682,
          628,
          463,
          844,
          239,
          290,
          1276,
          279,
          698,
          760,
          1050,
          504,
          1073,
          1023,
          137,
          751,
          1152,
          1345,
          1439,
          2685,
          1176,
          1623,
          955,
          1716,
          1595,
          1826,
          1709,
          1568,
          1308,
          2060,
          1219,
          1400,
          1292,
          1054,
          534,
          1077,
          1247,
          1306,
          899,
          1627,
          763,
          1348,
          1405,
          486,
          339,
          256,
          306,
          255,
          412,
          817,
          269,
          1152,
          268,
          286,
          409,
          272,
          218,
          298,
          654,
          724,
          572,
          465,
          454,
          202,
          710,
          364,
          588,
          202,
          443,
          328,
          510,
          526,
          186,
          648,
          141,
          1423,
          582,
          427,
          496,
          636,
          1439,
          811,
          628,
          813,
          777,
          1217,
          631,
          1004,
          1207,
          1125,
          1260,
          631,
          790,
          1876,
          998,
          1043,
          946,
          630,
          524,
          1131,
          1078,
          738,
          1074,
          664,
          336,
          727,
          1799,
          876,
          2139,
          785,
          1604,
          1771,
          830,
          1343,
          1136,
          1227,
          668,
          610,
          1325,
          929,
          494,
          922,
          728,
          813,
          626,
          1579,
          1980,
          2893,
          3203,
          1912,
          1314,
          836,
          1551,
          1688,
          1510,
          314,
          2041,
          967,
          1616,
          674,
          1512,
          615,
          428,
          349,
          845,
          981,
          1062,
          876,
          997,
          1662,
          370,
          456,
          820,
          701,
          527,
          1140,
          773,
          337,
          689,
          658,
          319,
          69,
          405,
          532,
          280,
          578,
          406,
          485,
          181,
          416,
          1232,
          282,
          782,
          325,
          293,
          304,
          621,
          522,
          266,
          179,
          588,
          412,
          203,
          716,
          479,
          341,
          147,
          982,
          412,
          420,
          689,
          1098,
          1727,
          2004,
          1035,
          1198,
          2567,
          1257,
          1004,
          1623,
          889,
          1626,
          1755,
          1513,
          1639,
          1438,
          1091,
          1704,
          2460,
          1245,
          2141,
          2268,
          819,
          2186,
          1281,
          1276,
          1597,
          804,
          1784,
          379,
          1889,
          2295,
          2850,
          893,
          1495,
          1531,
          317,
          1967,
          1043,
          3683,
          402,
          1605,
          654,
          1235,
          1052,
          693,
          1290,
          1708,
          141,
          468,
          470,
          1012,
          3505,
          2412,
          2254,
          2947,
          2816,
          1827,
          2090,
          1860,
          1033,
          1429,
          195,
          1305,
          633,
          1567,
          825,
          291,
          1116,
          895,
          3058,
          1089,
          611,
          612,
          2885,
          2821,
          886,
          1164,
          504,
          2375,
          1390,
          2347,
          1050,
          820,
          1564,
          1312,
          207,
          136,
          366,
          178,
          409,
          965,
          275,
          317,
          512,
          701,
          808,
          188,
          506,
          803,
          373,
          611,
          448,
          1063,
          514,
          31,
          316,
          416,
          260,
          410,
          325,
          83,
          1362,
          139,
          697,
          530,
          289,
          929,
          197,
          902,
          685,
          505,
          1040,
          219,
          1347,
          585,
          798,
          1080,
          1922,
          1124,
          1320,
          1530,
          3095,
          937,
          882,
          1366,
          256,
          1781,
          879,
          639,
          591,
          908,
          1504,
          1680,
          829,
          2385,
          1492,
          834,
          2486,
          398,
          535,
          1676,
          1468,
          2487,
          1350,
          747,
          984,
          2124,
          1185,
          543,
          881,
          1436,
          1182,
          1331,
          1818,
          1259,
          1090,
          1242,
          946,
          754,
          889,
          1346,
          811,
          1537,
          836,
          749,
          578,
          232,
          372,
          916,
          595,
          296,
          1212,
          887,
          609,
          373,
          392,
          715,
          289,
          1683,
          284,
          570,
          293,
          700,
          472,
          4207,
          649,
          394,
          478,
          700,
          913,
          1363,
          976,
          1568,
          633,
          957,
          167,
          989,
          704,
          385,
          676,
          1610,
          497,
          2844,
          1028,
          395,
          3892,
          642,
          1158,
          1204,
          965,
          791,
          1045,
          1052,
          33,
          120,
          71,
          165,
          124,
          154,
          118,
          81,
          130,
          121,
          591,
          280,
          883,
          1208,
          801,
          1259,
          1623,
          872,
          610,
          1977,
          1875,
          378,
          1737,
          1917,
          795,
          468,
          2029,
          1414,
          861,
          1192,
          2089,
          543,
          374,
          1784,
          535,
          1042,
          1078,
          806
         ],
         "xaxis": "x",
         "yaxis": "y"
        }
       ],
       "layout": {
        "barmode": "relative",
        "legend": {
         "tracegroupgap": 0
        },
        "template": {
         "data": {
          "bar": [
           {
            "error_x": {
             "color": "#2a3f5f"
            },
            "error_y": {
             "color": "#2a3f5f"
            },
            "marker": {
             "line": {
              "color": "#E5ECF6",
              "width": 0.5
             },
             "pattern": {
              "fillmode": "overlay",
              "size": 10,
              "solidity": 0.2
             }
            },
            "type": "bar"
           }
          ],
          "barpolar": [
           {
            "marker": {
             "line": {
              "color": "#E5ECF6",
              "width": 0.5
             },
             "pattern": {
              "fillmode": "overlay",
              "size": 10,
              "solidity": 0.2
             }
            },
            "type": "barpolar"
           }
          ],
          "carpet": [
           {
            "aaxis": {
             "endlinecolor": "#2a3f5f",
             "gridcolor": "white",
             "linecolor": "white",
             "minorgridcolor": "white",
             "startlinecolor": "#2a3f5f"
            },
            "baxis": {
             "endlinecolor": "#2a3f5f",
             "gridcolor": "white",
             "linecolor": "white",
             "minorgridcolor": "white",
             "startlinecolor": "#2a3f5f"
            },
            "type": "carpet"
           }
          ],
          "choropleth": [
           {
            "colorbar": {
             "outlinewidth": 0,
             "ticks": ""
            },
            "type": "choropleth"
           }
          ],
          "contour": [
           {
            "colorbar": {
             "outlinewidth": 0,
             "ticks": ""
            },
            "colorscale": [
             [
              0,
              "#0d0887"
             ],
             [
              0.1111111111111111,
              "#46039f"
             ],
             [
              0.2222222222222222,
              "#7201a8"
             ],
             [
              0.3333333333333333,
              "#9c179e"
             ],
             [
              0.4444444444444444,
              "#bd3786"
             ],
             [
              0.5555555555555556,
              "#d8576b"
             ],
             [
              0.6666666666666666,
              "#ed7953"
             ],
             [
              0.7777777777777778,
              "#fb9f3a"
             ],
             [
              0.8888888888888888,
              "#fdca26"
             ],
             [
              1,
              "#f0f921"
             ]
            ],
            "type": "contour"
           }
          ],
          "contourcarpet": [
           {
            "colorbar": {
             "outlinewidth": 0,
             "ticks": ""
            },
            "type": "contourcarpet"
           }
          ],
          "heatmap": [
           {
            "colorbar": {
             "outlinewidth": 0,
             "ticks": ""
            },
            "colorscale": [
             [
              0,
              "#0d0887"
             ],
             [
              0.1111111111111111,
              "#46039f"
             ],
             [
              0.2222222222222222,
              "#7201a8"
             ],
             [
              0.3333333333333333,
              "#9c179e"
             ],
             [
              0.4444444444444444,
              "#bd3786"
             ],
             [
              0.5555555555555556,
              "#d8576b"
             ],
             [
              0.6666666666666666,
              "#ed7953"
             ],
             [
              0.7777777777777778,
              "#fb9f3a"
             ],
             [
              0.8888888888888888,
              "#fdca26"
             ],
             [
              1,
              "#f0f921"
             ]
            ],
            "type": "heatmap"
           }
          ],
          "heatmapgl": [
           {
            "colorbar": {
             "outlinewidth": 0,
             "ticks": ""
            },
            "colorscale": [
             [
              0,
              "#0d0887"
             ],
             [
              0.1111111111111111,
              "#46039f"
             ],
             [
              0.2222222222222222,
              "#7201a8"
             ],
             [
              0.3333333333333333,
              "#9c179e"
             ],
             [
              0.4444444444444444,
              "#bd3786"
             ],
             [
              0.5555555555555556,
              "#d8576b"
             ],
             [
              0.6666666666666666,
              "#ed7953"
             ],
             [
              0.7777777777777778,
              "#fb9f3a"
             ],
             [
              0.8888888888888888,
              "#fdca26"
             ],
             [
              1,
              "#f0f921"
             ]
            ],
            "type": "heatmapgl"
           }
          ],
          "histogram": [
           {
            "marker": {
             "pattern": {
              "fillmode": "overlay",
              "size": 10,
              "solidity": 0.2
             }
            },
            "type": "histogram"
           }
          ],
          "histogram2d": [
           {
            "colorbar": {
             "outlinewidth": 0,
             "ticks": ""
            },
            "colorscale": [
             [
              0,
              "#0d0887"
             ],
             [
              0.1111111111111111,
              "#46039f"
             ],
             [
              0.2222222222222222,
              "#7201a8"
             ],
             [
              0.3333333333333333,
              "#9c179e"
             ],
             [
              0.4444444444444444,
              "#bd3786"
             ],
             [
              0.5555555555555556,
              "#d8576b"
             ],
             [
              0.6666666666666666,
              "#ed7953"
             ],
             [
              0.7777777777777778,
              "#fb9f3a"
             ],
             [
              0.8888888888888888,
              "#fdca26"
             ],
             [
              1,
              "#f0f921"
             ]
            ],
            "type": "histogram2d"
           }
          ],
          "histogram2dcontour": [
           {
            "colorbar": {
             "outlinewidth": 0,
             "ticks": ""
            },
            "colorscale": [
             [
              0,
              "#0d0887"
             ],
             [
              0.1111111111111111,
              "#46039f"
             ],
             [
              0.2222222222222222,
              "#7201a8"
             ],
             [
              0.3333333333333333,
              "#9c179e"
             ],
             [
              0.4444444444444444,
              "#bd3786"
             ],
             [
              0.5555555555555556,
              "#d8576b"
             ],
             [
              0.6666666666666666,
              "#ed7953"
             ],
             [
              0.7777777777777778,
              "#fb9f3a"
             ],
             [
              0.8888888888888888,
              "#fdca26"
             ],
             [
              1,
              "#f0f921"
             ]
            ],
            "type": "histogram2dcontour"
           }
          ],
          "mesh3d": [
           {
            "colorbar": {
             "outlinewidth": 0,
             "ticks": ""
            },
            "type": "mesh3d"
           }
          ],
          "parcoords": [
           {
            "line": {
             "colorbar": {
              "outlinewidth": 0,
              "ticks": ""
             }
            },
            "type": "parcoords"
           }
          ],
          "pie": [
           {
            "automargin": true,
            "type": "pie"
           }
          ],
          "scatter": [
           {
            "fillpattern": {
             "fillmode": "overlay",
             "size": 10,
             "solidity": 0.2
            },
            "type": "scatter"
           }
          ],
          "scatter3d": [
           {
            "line": {
             "colorbar": {
              "outlinewidth": 0,
              "ticks": ""
             }
            },
            "marker": {
             "colorbar": {
              "outlinewidth": 0,
              "ticks": ""
             }
            },
            "type": "scatter3d"
           }
          ],
          "scattercarpet": [
           {
            "marker": {
             "colorbar": {
              "outlinewidth": 0,
              "ticks": ""
             }
            },
            "type": "scattercarpet"
           }
          ],
          "scattergeo": [
           {
            "marker": {
             "colorbar": {
              "outlinewidth": 0,
              "ticks": ""
             }
            },
            "type": "scattergeo"
           }
          ],
          "scattergl": [
           {
            "marker": {
             "colorbar": {
              "outlinewidth": 0,
              "ticks": ""
             }
            },
            "type": "scattergl"
           }
          ],
          "scattermapbox": [
           {
            "marker": {
             "colorbar": {
              "outlinewidth": 0,
              "ticks": ""
             }
            },
            "type": "scattermapbox"
           }
          ],
          "scatterpolar": [
           {
            "marker": {
             "colorbar": {
              "outlinewidth": 0,
              "ticks": ""
             }
            },
            "type": "scatterpolar"
           }
          ],
          "scatterpolargl": [
           {
            "marker": {
             "colorbar": {
              "outlinewidth": 0,
              "ticks": ""
             }
            },
            "type": "scatterpolargl"
           }
          ],
          "scatterternary": [
           {
            "marker": {
             "colorbar": {
              "outlinewidth": 0,
              "ticks": ""
             }
            },
            "type": "scatterternary"
           }
          ],
          "surface": [
           {
            "colorbar": {
             "outlinewidth": 0,
             "ticks": ""
            },
            "colorscale": [
             [
              0,
              "#0d0887"
             ],
             [
              0.1111111111111111,
              "#46039f"
             ],
             [
              0.2222222222222222,
              "#7201a8"
             ],
             [
              0.3333333333333333,
              "#9c179e"
             ],
             [
              0.4444444444444444,
              "#bd3786"
             ],
             [
              0.5555555555555556,
              "#d8576b"
             ],
             [
              0.6666666666666666,
              "#ed7953"
             ],
             [
              0.7777777777777778,
              "#fb9f3a"
             ],
             [
              0.8888888888888888,
              "#fdca26"
             ],
             [
              1,
              "#f0f921"
             ]
            ],
            "type": "surface"
           }
          ],
          "table": [
           {
            "cells": {
             "fill": {
              "color": "#EBF0F8"
             },
             "line": {
              "color": "white"
             }
            },
            "header": {
             "fill": {
              "color": "#C8D4E3"
             },
             "line": {
              "color": "white"
             }
            },
            "type": "table"
           }
          ]
         },
         "layout": {
          "annotationdefaults": {
           "arrowcolor": "#2a3f5f",
           "arrowhead": 0,
           "arrowwidth": 1
          },
          "autotypenumbers": "strict",
          "coloraxis": {
           "colorbar": {
            "outlinewidth": 0,
            "ticks": ""
           }
          },
          "colorscale": {
           "diverging": [
            [
             0,
             "#8e0152"
            ],
            [
             0.1,
             "#c51b7d"
            ],
            [
             0.2,
             "#de77ae"
            ],
            [
             0.3,
             "#f1b6da"
            ],
            [
             0.4,
             "#fde0ef"
            ],
            [
             0.5,
             "#f7f7f7"
            ],
            [
             0.6,
             "#e6f5d0"
            ],
            [
             0.7,
             "#b8e186"
            ],
            [
             0.8,
             "#7fbc41"
            ],
            [
             0.9,
             "#4d9221"
            ],
            [
             1,
             "#276419"
            ]
           ],
           "sequential": [
            [
             0,
             "#0d0887"
            ],
            [
             0.1111111111111111,
             "#46039f"
            ],
            [
             0.2222222222222222,
             "#7201a8"
            ],
            [
             0.3333333333333333,
             "#9c179e"
            ],
            [
             0.4444444444444444,
             "#bd3786"
            ],
            [
             0.5555555555555556,
             "#d8576b"
            ],
            [
             0.6666666666666666,
             "#ed7953"
            ],
            [
             0.7777777777777778,
             "#fb9f3a"
            ],
            [
             0.8888888888888888,
             "#fdca26"
            ],
            [
             1,
             "#f0f921"
            ]
           ],
           "sequentialminus": [
            [
             0,
             "#0d0887"
            ],
            [
             0.1111111111111111,
             "#46039f"
            ],
            [
             0.2222222222222222,
             "#7201a8"
            ],
            [
             0.3333333333333333,
             "#9c179e"
            ],
            [
             0.4444444444444444,
             "#bd3786"
            ],
            [
             0.5555555555555556,
             "#d8576b"
            ],
            [
             0.6666666666666666,
             "#ed7953"
            ],
            [
             0.7777777777777778,
             "#fb9f3a"
            ],
            [
             0.8888888888888888,
             "#fdca26"
            ],
            [
             1,
             "#f0f921"
            ]
           ]
          },
          "colorway": [
           "#636efa",
           "#EF553B",
           "#00cc96",
           "#ab63fa",
           "#FFA15A",
           "#19d3f3",
           "#FF6692",
           "#B6E880",
           "#FF97FF",
           "#FECB52"
          ],
          "font": {
           "color": "#2a3f5f"
          },
          "geo": {
           "bgcolor": "white",
           "lakecolor": "white",
           "landcolor": "#E5ECF6",
           "showlakes": true,
           "showland": true,
           "subunitcolor": "white"
          },
          "hoverlabel": {
           "align": "left"
          },
          "hovermode": "closest",
          "mapbox": {
           "style": "light"
          },
          "paper_bgcolor": "white",
          "plot_bgcolor": "#E5ECF6",
          "polar": {
           "angularaxis": {
            "gridcolor": "white",
            "linecolor": "white",
            "ticks": ""
           },
           "bgcolor": "#E5ECF6",
           "radialaxis": {
            "gridcolor": "white",
            "linecolor": "white",
            "ticks": ""
           }
          },
          "scene": {
           "xaxis": {
            "backgroundcolor": "#E5ECF6",
            "gridcolor": "white",
            "gridwidth": 2,
            "linecolor": "white",
            "showbackground": true,
            "ticks": "",
            "zerolinecolor": "white"
           },
           "yaxis": {
            "backgroundcolor": "#E5ECF6",
            "gridcolor": "white",
            "gridwidth": 2,
            "linecolor": "white",
            "showbackground": true,
            "ticks": "",
            "zerolinecolor": "white"
           },
           "zaxis": {
            "backgroundcolor": "#E5ECF6",
            "gridcolor": "white",
            "gridwidth": 2,
            "linecolor": "white",
            "showbackground": true,
            "ticks": "",
            "zerolinecolor": "white"
           }
          },
          "shapedefaults": {
           "line": {
            "color": "#2a3f5f"
           }
          },
          "ternary": {
           "aaxis": {
            "gridcolor": "white",
            "linecolor": "white",
            "ticks": ""
           },
           "baxis": {
            "gridcolor": "white",
            "linecolor": "white",
            "ticks": ""
           },
           "bgcolor": "#E5ECF6",
           "caxis": {
            "gridcolor": "white",
            "linecolor": "white",
            "ticks": ""
           }
          },
          "title": {
           "x": 0.05
          },
          "xaxis": {
           "automargin": true,
           "gridcolor": "white",
           "linecolor": "white",
           "ticks": "",
           "title": {
            "standoff": 15
           },
           "zerolinecolor": "white",
           "zerolinewidth": 2
          },
          "yaxis": {
           "automargin": true,
           "gridcolor": "white",
           "linecolor": "white",
           "ticks": "",
           "title": {
            "standoff": 15
           },
           "zerolinecolor": "white",
           "zerolinewidth": 2
          }
         }
        },
        "title": {
         "text": "What is the distribution of chunk token length? (Llama 2 Tokenizer)"
        },
        "xaxis": {
         "anchor": "y",
         "domain": [
          0,
          1
         ],
         "title": {
          "text": "Token Length"
         }
        },
        "yaxis": {
         "anchor": "x",
         "domain": [
          0,
          1
         ],
         "title": {
          "text": "count"
         }
        }
       }
      }
     },
     "metadata": {},
     "output_type": "display_data"
    }
   ],
   "source": [
    "chunks = []\n",
    "\n",
    "for episode in data:\n",
    "    transcripts = episode[\"transcripts\"]\n",
    "    if transcripts:\n",
    "        for item in transcripts:\n",
    "            chunks.append(item[\"sentencepiece_token_length\"])\n",
    "            \n",
    "df = pd.DataFrame(chunks, columns=[\"x\"])\n",
    "fig = px.histogram(\n",
    "    df,\n",
    "    x=\"x\",\n",
    "    nbins=100, \n",
    "    labels={'x':'Token Length'}, \n",
    "    title=\"What is the distribution of chunk token length? (Llama 2 Tokenizer)\")\n",
    "fig.show()"
   ]
  },
  {
   "cell_type": "markdown",
   "metadata": {},
   "source": [
    "# What is the distribution of episode length?"
   ]
  },
  {
   "cell_type": "code",
   "execution_count": 10,
   "metadata": {},
   "outputs": [
    {
     "data": {
      "application/vnd.plotly.v1+json": {
       "config": {
        "plotlyServerURL": "https://plot.ly"
       },
       "data": [
        {
         "alignmentgroup": "True",
         "bingroup": "x",
         "hovertemplate": "Seconds=%{x}<br>count=%{y}<extra></extra>",
         "legendgroup": "",
         "marker": {
          "color": "#636efa",
          "pattern": {
           "shape": ""
          }
         },
         "name": "",
         "nbinsx": 20,
         "offsetgroup": "",
         "orientation": "v",
         "showlegend": false,
         "type": "histogram",
         "x": [
          7226,
          8170,
          1493.09,
          1289.03,
          2071.35,
          1743.15,
          1825.8790000000001,
          1916.08,
          1388.49,
          1401.49,
          2169.03,
          1336.01,
          1515.57,
          1586.72,
          5755,
          10254,
          5744,
          6993,
          8062,
          7116,
          5944,
          7198,
          13653,
          12548,
          11053,
          16684,
          11087,
          7275,
          7919,
          8158,
          10861,
          6570,
          6772,
          6620,
          7842,
          9275,
          7693,
          6600,
          5265,
          9070,
          7391,
          5772,
          6682,
          7365,
          9531,
          8453,
          11190,
          7872,
          8515,
          13631,
          10877,
          9569,
          9410,
          10238,
          7136,
          11082,
          9101,
          9303,
          11455,
          9935,
          8966,
          8473,
          10026,
          10334,
          10040,
          10077,
          5307,
          9279,
          15542,
          7980,
          9116,
          9977,
          8873,
          6170,
          8640,
          7906,
          6510,
          6827,
          6552,
          5533,
          11025,
          10945,
          11596,
          13241,
          9523,
          8055,
          6063,
          8700,
          5840,
          7602,
          7000,
          8179,
          6757.04,
          6240,
          7980,
          5960,
          6587,
          5115,
          5040,
          7555,
          6564,
          6680,
          15612,
          6760.067,
          10579,
          8382,
          8661,
          6134,
          3300,
          9105,
          7380,
          9507,
          14498,
          8346,
          7182,
          6040,
          7021,
          10490,
          8006,
          4800,
          965.02,
          7243,
          6699,
          5908,
          7604,
          5277,
          5976,
          10653,
          7056,
          8520,
          7180,
          5477,
          5617,
          5966,
          4895,
          9894,
          6670,
          7416,
          8265,
          9060,
          8087,
          5934,
          5065,
          7366,
          7411.303,
          7157,
          9194,
          6507,
          8122,
          6710,
          6572.613,
          13012,
          4347,
          7988,
          5860,
          7551,
          7210,
          5255,
          4645,
          9080,
          8417,
          5393.111,
          7876,
          5055,
          8450,
          6265,
          5630,
          7080,
          256.798,
          7115
         ],
         "xaxis": "x",
         "yaxis": "y"
        }
       ],
       "layout": {
        "barmode": "relative",
        "legend": {
         "tracegroupgap": 0
        },
        "template": {
         "data": {
          "bar": [
           {
            "error_x": {
             "color": "#2a3f5f"
            },
            "error_y": {
             "color": "#2a3f5f"
            },
            "marker": {
             "line": {
              "color": "#E5ECF6",
              "width": 0.5
             },
             "pattern": {
              "fillmode": "overlay",
              "size": 10,
              "solidity": 0.2
             }
            },
            "type": "bar"
           }
          ],
          "barpolar": [
           {
            "marker": {
             "line": {
              "color": "#E5ECF6",
              "width": 0.5
             },
             "pattern": {
              "fillmode": "overlay",
              "size": 10,
              "solidity": 0.2
             }
            },
            "type": "barpolar"
           }
          ],
          "carpet": [
           {
            "aaxis": {
             "endlinecolor": "#2a3f5f",
             "gridcolor": "white",
             "linecolor": "white",
             "minorgridcolor": "white",
             "startlinecolor": "#2a3f5f"
            },
            "baxis": {
             "endlinecolor": "#2a3f5f",
             "gridcolor": "white",
             "linecolor": "white",
             "minorgridcolor": "white",
             "startlinecolor": "#2a3f5f"
            },
            "type": "carpet"
           }
          ],
          "choropleth": [
           {
            "colorbar": {
             "outlinewidth": 0,
             "ticks": ""
            },
            "type": "choropleth"
           }
          ],
          "contour": [
           {
            "colorbar": {
             "outlinewidth": 0,
             "ticks": ""
            },
            "colorscale": [
             [
              0,
              "#0d0887"
             ],
             [
              0.1111111111111111,
              "#46039f"
             ],
             [
              0.2222222222222222,
              "#7201a8"
             ],
             [
              0.3333333333333333,
              "#9c179e"
             ],
             [
              0.4444444444444444,
              "#bd3786"
             ],
             [
              0.5555555555555556,
              "#d8576b"
             ],
             [
              0.6666666666666666,
              "#ed7953"
             ],
             [
              0.7777777777777778,
              "#fb9f3a"
             ],
             [
              0.8888888888888888,
              "#fdca26"
             ],
             [
              1,
              "#f0f921"
             ]
            ],
            "type": "contour"
           }
          ],
          "contourcarpet": [
           {
            "colorbar": {
             "outlinewidth": 0,
             "ticks": ""
            },
            "type": "contourcarpet"
           }
          ],
          "heatmap": [
           {
            "colorbar": {
             "outlinewidth": 0,
             "ticks": ""
            },
            "colorscale": [
             [
              0,
              "#0d0887"
             ],
             [
              0.1111111111111111,
              "#46039f"
             ],
             [
              0.2222222222222222,
              "#7201a8"
             ],
             [
              0.3333333333333333,
              "#9c179e"
             ],
             [
              0.4444444444444444,
              "#bd3786"
             ],
             [
              0.5555555555555556,
              "#d8576b"
             ],
             [
              0.6666666666666666,
              "#ed7953"
             ],
             [
              0.7777777777777778,
              "#fb9f3a"
             ],
             [
              0.8888888888888888,
              "#fdca26"
             ],
             [
              1,
              "#f0f921"
             ]
            ],
            "type": "heatmap"
           }
          ],
          "heatmapgl": [
           {
            "colorbar": {
             "outlinewidth": 0,
             "ticks": ""
            },
            "colorscale": [
             [
              0,
              "#0d0887"
             ],
             [
              0.1111111111111111,
              "#46039f"
             ],
             [
              0.2222222222222222,
              "#7201a8"
             ],
             [
              0.3333333333333333,
              "#9c179e"
             ],
             [
              0.4444444444444444,
              "#bd3786"
             ],
             [
              0.5555555555555556,
              "#d8576b"
             ],
             [
              0.6666666666666666,
              "#ed7953"
             ],
             [
              0.7777777777777778,
              "#fb9f3a"
             ],
             [
              0.8888888888888888,
              "#fdca26"
             ],
             [
              1,
              "#f0f921"
             ]
            ],
            "type": "heatmapgl"
           }
          ],
          "histogram": [
           {
            "marker": {
             "pattern": {
              "fillmode": "overlay",
              "size": 10,
              "solidity": 0.2
             }
            },
            "type": "histogram"
           }
          ],
          "histogram2d": [
           {
            "colorbar": {
             "outlinewidth": 0,
             "ticks": ""
            },
            "colorscale": [
             [
              0,
              "#0d0887"
             ],
             [
              0.1111111111111111,
              "#46039f"
             ],
             [
              0.2222222222222222,
              "#7201a8"
             ],
             [
              0.3333333333333333,
              "#9c179e"
             ],
             [
              0.4444444444444444,
              "#bd3786"
             ],
             [
              0.5555555555555556,
              "#d8576b"
             ],
             [
              0.6666666666666666,
              "#ed7953"
             ],
             [
              0.7777777777777778,
              "#fb9f3a"
             ],
             [
              0.8888888888888888,
              "#fdca26"
             ],
             [
              1,
              "#f0f921"
             ]
            ],
            "type": "histogram2d"
           }
          ],
          "histogram2dcontour": [
           {
            "colorbar": {
             "outlinewidth": 0,
             "ticks": ""
            },
            "colorscale": [
             [
              0,
              "#0d0887"
             ],
             [
              0.1111111111111111,
              "#46039f"
             ],
             [
              0.2222222222222222,
              "#7201a8"
             ],
             [
              0.3333333333333333,
              "#9c179e"
             ],
             [
              0.4444444444444444,
              "#bd3786"
             ],
             [
              0.5555555555555556,
              "#d8576b"
             ],
             [
              0.6666666666666666,
              "#ed7953"
             ],
             [
              0.7777777777777778,
              "#fb9f3a"
             ],
             [
              0.8888888888888888,
              "#fdca26"
             ],
             [
              1,
              "#f0f921"
             ]
            ],
            "type": "histogram2dcontour"
           }
          ],
          "mesh3d": [
           {
            "colorbar": {
             "outlinewidth": 0,
             "ticks": ""
            },
            "type": "mesh3d"
           }
          ],
          "parcoords": [
           {
            "line": {
             "colorbar": {
              "outlinewidth": 0,
              "ticks": ""
             }
            },
            "type": "parcoords"
           }
          ],
          "pie": [
           {
            "automargin": true,
            "type": "pie"
           }
          ],
          "scatter": [
           {
            "fillpattern": {
             "fillmode": "overlay",
             "size": 10,
             "solidity": 0.2
            },
            "type": "scatter"
           }
          ],
          "scatter3d": [
           {
            "line": {
             "colorbar": {
              "outlinewidth": 0,
              "ticks": ""
             }
            },
            "marker": {
             "colorbar": {
              "outlinewidth": 0,
              "ticks": ""
             }
            },
            "type": "scatter3d"
           }
          ],
          "scattercarpet": [
           {
            "marker": {
             "colorbar": {
              "outlinewidth": 0,
              "ticks": ""
             }
            },
            "type": "scattercarpet"
           }
          ],
          "scattergeo": [
           {
            "marker": {
             "colorbar": {
              "outlinewidth": 0,
              "ticks": ""
             }
            },
            "type": "scattergeo"
           }
          ],
          "scattergl": [
           {
            "marker": {
             "colorbar": {
              "outlinewidth": 0,
              "ticks": ""
             }
            },
            "type": "scattergl"
           }
          ],
          "scattermapbox": [
           {
            "marker": {
             "colorbar": {
              "outlinewidth": 0,
              "ticks": ""
             }
            },
            "type": "scattermapbox"
           }
          ],
          "scatterpolar": [
           {
            "marker": {
             "colorbar": {
              "outlinewidth": 0,
              "ticks": ""
             }
            },
            "type": "scatterpolar"
           }
          ],
          "scatterpolargl": [
           {
            "marker": {
             "colorbar": {
              "outlinewidth": 0,
              "ticks": ""
             }
            },
            "type": "scatterpolargl"
           }
          ],
          "scatterternary": [
           {
            "marker": {
             "colorbar": {
              "outlinewidth": 0,
              "ticks": ""
             }
            },
            "type": "scatterternary"
           }
          ],
          "surface": [
           {
            "colorbar": {
             "outlinewidth": 0,
             "ticks": ""
            },
            "colorscale": [
             [
              0,
              "#0d0887"
             ],
             [
              0.1111111111111111,
              "#46039f"
             ],
             [
              0.2222222222222222,
              "#7201a8"
             ],
             [
              0.3333333333333333,
              "#9c179e"
             ],
             [
              0.4444444444444444,
              "#bd3786"
             ],
             [
              0.5555555555555556,
              "#d8576b"
             ],
             [
              0.6666666666666666,
              "#ed7953"
             ],
             [
              0.7777777777777778,
              "#fb9f3a"
             ],
             [
              0.8888888888888888,
              "#fdca26"
             ],
             [
              1,
              "#f0f921"
             ]
            ],
            "type": "surface"
           }
          ],
          "table": [
           {
            "cells": {
             "fill": {
              "color": "#EBF0F8"
             },
             "line": {
              "color": "white"
             }
            },
            "header": {
             "fill": {
              "color": "#C8D4E3"
             },
             "line": {
              "color": "white"
             }
            },
            "type": "table"
           }
          ]
         },
         "layout": {
          "annotationdefaults": {
           "arrowcolor": "#2a3f5f",
           "arrowhead": 0,
           "arrowwidth": 1
          },
          "autotypenumbers": "strict",
          "coloraxis": {
           "colorbar": {
            "outlinewidth": 0,
            "ticks": ""
           }
          },
          "colorscale": {
           "diverging": [
            [
             0,
             "#8e0152"
            ],
            [
             0.1,
             "#c51b7d"
            ],
            [
             0.2,
             "#de77ae"
            ],
            [
             0.3,
             "#f1b6da"
            ],
            [
             0.4,
             "#fde0ef"
            ],
            [
             0.5,
             "#f7f7f7"
            ],
            [
             0.6,
             "#e6f5d0"
            ],
            [
             0.7,
             "#b8e186"
            ],
            [
             0.8,
             "#7fbc41"
            ],
            [
             0.9,
             "#4d9221"
            ],
            [
             1,
             "#276419"
            ]
           ],
           "sequential": [
            [
             0,
             "#0d0887"
            ],
            [
             0.1111111111111111,
             "#46039f"
            ],
            [
             0.2222222222222222,
             "#7201a8"
            ],
            [
             0.3333333333333333,
             "#9c179e"
            ],
            [
             0.4444444444444444,
             "#bd3786"
            ],
            [
             0.5555555555555556,
             "#d8576b"
            ],
            [
             0.6666666666666666,
             "#ed7953"
            ],
            [
             0.7777777777777778,
             "#fb9f3a"
            ],
            [
             0.8888888888888888,
             "#fdca26"
            ],
            [
             1,
             "#f0f921"
            ]
           ],
           "sequentialminus": [
            [
             0,
             "#0d0887"
            ],
            [
             0.1111111111111111,
             "#46039f"
            ],
            [
             0.2222222222222222,
             "#7201a8"
            ],
            [
             0.3333333333333333,
             "#9c179e"
            ],
            [
             0.4444444444444444,
             "#bd3786"
            ],
            [
             0.5555555555555556,
             "#d8576b"
            ],
            [
             0.6666666666666666,
             "#ed7953"
            ],
            [
             0.7777777777777778,
             "#fb9f3a"
            ],
            [
             0.8888888888888888,
             "#fdca26"
            ],
            [
             1,
             "#f0f921"
            ]
           ]
          },
          "colorway": [
           "#636efa",
           "#EF553B",
           "#00cc96",
           "#ab63fa",
           "#FFA15A",
           "#19d3f3",
           "#FF6692",
           "#B6E880",
           "#FF97FF",
           "#FECB52"
          ],
          "font": {
           "color": "#2a3f5f"
          },
          "geo": {
           "bgcolor": "white",
           "lakecolor": "white",
           "landcolor": "#E5ECF6",
           "showlakes": true,
           "showland": true,
           "subunitcolor": "white"
          },
          "hoverlabel": {
           "align": "left"
          },
          "hovermode": "closest",
          "mapbox": {
           "style": "light"
          },
          "paper_bgcolor": "white",
          "plot_bgcolor": "#E5ECF6",
          "polar": {
           "angularaxis": {
            "gridcolor": "white",
            "linecolor": "white",
            "ticks": ""
           },
           "bgcolor": "#E5ECF6",
           "radialaxis": {
            "gridcolor": "white",
            "linecolor": "white",
            "ticks": ""
           }
          },
          "scene": {
           "xaxis": {
            "backgroundcolor": "#E5ECF6",
            "gridcolor": "white",
            "gridwidth": 2,
            "linecolor": "white",
            "showbackground": true,
            "ticks": "",
            "zerolinecolor": "white"
           },
           "yaxis": {
            "backgroundcolor": "#E5ECF6",
            "gridcolor": "white",
            "gridwidth": 2,
            "linecolor": "white",
            "showbackground": true,
            "ticks": "",
            "zerolinecolor": "white"
           },
           "zaxis": {
            "backgroundcolor": "#E5ECF6",
            "gridcolor": "white",
            "gridwidth": 2,
            "linecolor": "white",
            "showbackground": true,
            "ticks": "",
            "zerolinecolor": "white"
           }
          },
          "shapedefaults": {
           "line": {
            "color": "#2a3f5f"
           }
          },
          "ternary": {
           "aaxis": {
            "gridcolor": "white",
            "linecolor": "white",
            "ticks": ""
           },
           "baxis": {
            "gridcolor": "white",
            "linecolor": "white",
            "ticks": ""
           },
           "bgcolor": "#E5ECF6",
           "caxis": {
            "gridcolor": "white",
            "linecolor": "white",
            "ticks": ""
           }
          },
          "title": {
           "x": 0.05
          },
          "xaxis": {
           "automargin": true,
           "gridcolor": "white",
           "linecolor": "white",
           "ticks": "",
           "title": {
            "standoff": 15
           },
           "zerolinecolor": "white",
           "zerolinewidth": 2
          },
          "yaxis": {
           "automargin": true,
           "gridcolor": "white",
           "linecolor": "white",
           "ticks": "",
           "title": {
            "standoff": 15
           },
           "zerolinecolor": "white",
           "zerolinewidth": 2
          }
         }
        },
        "title": {
         "text": "What is the distribution of episode length?"
        },
        "xaxis": {
         "anchor": "y",
         "domain": [
          0,
          1
         ],
         "title": {
          "text": "Seconds"
         }
        },
        "yaxis": {
         "anchor": "x",
         "domain": [
          0,
          1
         ],
         "title": {
          "text": "count"
         }
        }
       }
      }
     },
     "metadata": {},
     "output_type": "display_data"
    }
   ],
   "source": [
    "episode_lengths = []\n",
    "\n",
    "for episode in data:\n",
    "    if \"episode_length\" in episode.keys():\n",
    "        episode_lengths.append(episode[\"episode_length\"])\n",
    "            \n",
    "df = pd.DataFrame(episode_lengths, columns=[\"x\"])\n",
    "fig = px.histogram(\n",
    "    df,\n",
    "    x=\"x\",\n",
    "    nbins=20, \n",
    "    labels={'x':'Seconds'}, \n",
    "    title=\"What is the distribution of episode length?\")\n",
    "fig.show()"
   ]
  }
 ],
 "metadata": {
  "kernelspec": {
   "display_name": ".venv",
   "language": "python",
   "name": "python3"
  },
  "language_info": {
   "codemirror_mode": {
    "name": "ipython",
    "version": 3
   },
   "file_extension": ".py",
   "mimetype": "text/x-python",
   "name": "python",
   "nbconvert_exporter": "python",
   "pygments_lexer": "ipython3",
   "version": "3.9.6"
  }
 },
 "nbformat": 4,
 "nbformat_minor": 2
}
